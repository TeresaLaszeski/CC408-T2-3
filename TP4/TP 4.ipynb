{
 "cells": [
  {
   "cell_type": "code",
   "execution_count": 2,
   "metadata": {},
   "outputs": [],
   "source": [
    "import pandas as pd\n",
    "import numpy as np\n",
    "import matplotlib.pyplot as plt\n",
    "import seaborn as sns\n",
    "import os"
   ]
  },
  {
   "cell_type": "code",
   "execution_count": 3,
   "metadata": {},
   "outputs": [],
   "source": [
    "# Abrimos la carpeta donde se encuentran las bases de datos\n",
    "#os.chdir(r\"C:/Users\\s1248850/OneDrive - Syngenta/Documents/Rosario Luque/Ciencias de datos/TP/TP3\")\n",
    "os.chdir(r\"c:\\Users\\s1290226\\OneDrive - Syngenta\\Desktop\\UdeSA\\Ciencia de datos\\CC408-T2-3\\TP4\")\n",
    "# Guardamos las bases de datos en en dos variables\n",
    "ind_2004 = pd.read_stata(\"Individual_t104.dta\")\n",
    "hogar_2004 = pd.read_stata(\"Hogar_t104.dta\")\n",
    "ind_2024 = pd.read_excel(\"usu_individual_T124.xlsx\")\n",
    "hogar_2024 = pd.read_excel(\"usu_hogar_T124.xlsx\")"
   ]
  }
 ],
 "metadata": {
  "kernelspec": {
   "display_name": "TereL",
   "language": "python",
   "name": "python3"
  },
  "language_info": {
   "codemirror_mode": {
    "name": "ipython",
    "version": 3
   },
   "file_extension": ".py",
   "mimetype": "text/x-python",
   "name": "python",
   "nbconvert_exporter": "python",
   "pygments_lexer": "ipython3",
   "version": "3.12.5"
  }
 },
 "nbformat": 4,
 "nbformat_minor": 2
}
