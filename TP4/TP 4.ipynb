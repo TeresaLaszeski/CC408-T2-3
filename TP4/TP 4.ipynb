{
 "cells": [
  {
   "cell_type": "code",
   "execution_count": 1,
   "metadata": {},
   "outputs": [],
   "source": [
    "import pandas as pd\n",
    "import numpy as np\n",
    "import matplotlib.pyplot as plt\n",
    "import seaborn as sns\n",
    "import os"
   ]
  },
  {
   "cell_type": "code",
   "execution_count": 40,
   "metadata": {},
   "outputs": [],
   "source": [
    "# Abrimos la carpeta donde se encuentran las bases de datos\n",
    "#os.chdir(r\"C:/Users\\s1248850/OneDrive - Syngenta/Documents/Rosario Luque/Ciencias de datos/TP/TP3\")\n",
    "#os.chdir(r\"c:\\Users\\s1290226\\OneDrive - Syngenta\\Desktop\\UdeSA\\Ciencia de datos\\CC408-T2-3\\TP4\")\n",
    "os.chdir(r\"C:\\Users\\clari\\OneDrive\\Documents\\Tutoriales CD\\CC408-T2-3\\TP4\")\n",
    "\n",
    "# Guardamos las bases de datos en en dos variables\n",
    "ind_2004 = pd.read_stata(\"Individual_t104.dta\")\n",
    "hogar_2004 = pd.read_stata(\"Hogar_t104.dta\")\n",
    "ind_2024 = pd.read_excel(\"usu_individual_T124.xlsx\")\n",
    "hogar_2024 = pd.read_excel(\"usu_hogar_T124.xlsx\")"
   ]
  },
  {
   "cell_type": "code",
   "execution_count": 45,
   "metadata": {},
   "outputs": [
    {
     "data": {
      "text/plain": [
       "((7647, 176), (2351, 88), (7051, 177), (2545, 88))"
      ]
     },
     "execution_count": 45,
     "metadata": {},
     "output_type": "execute_result"
    }
   ],
   "source": [
    "ind_2004.shape, hogar_2004.shape, ind_2024.shape, hogar_2024.shape"
   ]
  },
  {
   "cell_type": "code",
   "execution_count": 38,
   "metadata": {},
   "outputs": [
    {
     "data": {
      "text/plain": [
       "Index(['codusu', 'ano4', 'trimestre', 'nro_hogar', 'realizada', 'region',\n",
       "       'mas_500', 'aglomerado', 'pondera', 'iv1', 'iv1_esp', 'iv2', 'iv3',\n",
       "       'iv3_esp', 'iv4', 'iv5', 'iv6', 'iv7', 'iv7_esp', 'iv8', 'iv9', 'iv10',\n",
       "       'iv11', 'iv12_1', 'iv12_2', 'iv12_3', 'ii1', 'ii2', 'ii3', 'ii3_1',\n",
       "       'ii4_1', 'ii4_2', 'ii4_3', 'ii5', 'ii5_1', 'ii6', 'ii6_1', 'ii7',\n",
       "       'ii7_esp', 'ii8', 'ii8_esp', 'ii9', 'v1', 'v2', 'v21', 'v22', 'v3',\n",
       "       'v4', 'v5', 'v6', 'v7', 'v8', 'v9', 'v10', 'v11', 'v12', 'v13', 'v14',\n",
       "       'v15', 'v16', 'v17', 'v18', 'v19_a', 'v19_b', 'ix_tot', 'ix_men10',\n",
       "       'ix_mayeq10', 'itf', 'decifr', 'idecifr', 'rdecifr', 'gdecifr',\n",
       "       'pdecifr', 'adecifr', 'ipcf', 'deccfr', 'ideccfr', 'rdeccfr', 'gdeccfr',\n",
       "       'pdeccfr', 'adeccfr', 'pondih', 'vii1_1', 'vii1_2', 'vii2_1', 'vii2_2',\n",
       "       'vii2_3', 'vii2_4'],\n",
       "      dtype='object')"
      ]
     },
     "execution_count": 38,
     "metadata": {},
     "output_type": "execute_result"
    }
   ],
   "source": [
    "hogar_2024.columns"
   ]
  },
  {
   "cell_type": "markdown",
   "metadata": {},
   "source": [
    "2. Descarguen la base de microdatos de la EPH correspondiente al primer trimestre de 2004 y 2024 en formato .dta y .xls, respectivamente. La base de hogares se llama Hogar_t104.dta y usu_hogar_T124.xls, respectivamente. Eliminen todas las observaciones que no corresponden a los aglomerados de Ciudad Autónoma de Buenos Aires o Gran Buenos Aires y unan ambos trimestres en una sola base. Esto es, a la base de la encuesta individual de cada año (que usaron en el TP3) unan la base de la encuesta de hogar. Asegúrese de estar usando las variables CODUSU y NRO_Hogar para el merge."
   ]
  },
  {
   "cell_type": "markdown",
   "metadata": {},
   "source": [
    "Para poder trabajar con las cuatro bases de datos es necesario primero pasar el nombre de todas las columnas a minúscula. Esto nos permitirá luego concatenar las bases de datos en una sola y preservar la estructura de la información."
   ]
  },
  {
   "cell_type": "code",
   "execution_count": 43,
   "metadata": {},
   "outputs": [],
   "source": [
    "# En la base de datos del 2024 los nombres de las columnas están en mayúsculas.\n",
    "# Entonces, cambiamos los nombres de las columnas a minúsculas.\n",
    "ind_2024.columns = ind_2024.columns.str.lower()\n",
    "hogar_2024.columns = hogar_2024.columns.str.lower()\n",
    "\n",
    "#Just in case, hacemos lo mismo para las bases del 2004.\n",
    "ind_2004.columns = ind_2004.columns.str.lower()\n",
    "hogar_2004.columns = hogar_2004.columns.str.lower()"
   ]
  },
  {
   "cell_type": "code",
   "execution_count": 34,
   "metadata": {},
   "outputs": [
    {
     "data": {
      "text/html": [
       "<div>\n",
       "<style scoped>\n",
       "    .dataframe tbody tr th:only-of-type {\n",
       "        vertical-align: middle;\n",
       "    }\n",
       "\n",
       "    .dataframe tbody tr th {\n",
       "        vertical-align: top;\n",
       "    }\n",
       "\n",
       "    .dataframe thead th {\n",
       "        text-align: right;\n",
       "    }\n",
       "</style>\n",
       "<table border=\"1\" class=\"dataframe\">\n",
       "  <thead>\n",
       "    <tr style=\"text-align: right;\">\n",
       "      <th></th>\n",
       "      <th>codusu</th>\n",
       "      <th>nro_hogar</th>\n",
       "      <th>realizada</th>\n",
       "      <th>ano4</th>\n",
       "      <th>trimestre</th>\n",
       "      <th>region</th>\n",
       "      <th>mas_500</th>\n",
       "      <th>aglomerado</th>\n",
       "      <th>pondera</th>\n",
       "      <th>iv1</th>\n",
       "      <th>...</th>\n",
       "      <th>gdeccfr</th>\n",
       "      <th>pdeccfr</th>\n",
       "      <th>adeccfr</th>\n",
       "      <th>vii1_1</th>\n",
       "      <th>vii1_2</th>\n",
       "      <th>vii2_1</th>\n",
       "      <th>vii2_2</th>\n",
       "      <th>vii2_3</th>\n",
       "      <th>vii2_4</th>\n",
       "      <th>idimph</th>\n",
       "    </tr>\n",
       "  </thead>\n",
       "  <tbody>\n",
       "    <tr>\n",
       "      <th>0</th>\n",
       "      <td>125051</td>\n",
       "      <td>1.0</td>\n",
       "      <td>Sí</td>\n",
       "      <td>2004.0</td>\n",
       "      <td>1er. Trimestre</td>\n",
       "      <td>Pampeana</td>\n",
       "      <td>S</td>\n",
       "      <td>Gran La Plata</td>\n",
       "      <td>355.0</td>\n",
       "      <td>Casa</td>\n",
       "      <td>...</td>\n",
       "      <td>01</td>\n",
       "      <td></td>\n",
       "      <td>01</td>\n",
       "      <td>1.0</td>\n",
       "      <td>0.0</td>\n",
       "      <td>3.0</td>\n",
       "      <td>0.0</td>\n",
       "      <td>0.0</td>\n",
       "      <td>0.0</td>\n",
       "      <td>00000</td>\n",
       "    </tr>\n",
       "    <tr>\n",
       "      <th>1</th>\n",
       "      <td>125082</td>\n",
       "      <td>1.0</td>\n",
       "      <td>Sí</td>\n",
       "      <td>2004.0</td>\n",
       "      <td>1er. Trimestre</td>\n",
       "      <td>Pampeana</td>\n",
       "      <td>S</td>\n",
       "      <td>Gran La Plata</td>\n",
       "      <td>306.0</td>\n",
       "      <td>Casa</td>\n",
       "      <td>...</td>\n",
       "      <td>03</td>\n",
       "      <td></td>\n",
       "      <td>02</td>\n",
       "      <td>2.0</td>\n",
       "      <td>0.0</td>\n",
       "      <td>98.0</td>\n",
       "      <td>0.0</td>\n",
       "      <td>0.0</td>\n",
       "      <td>0.0</td>\n",
       "      <td>10000</td>\n",
       "    </tr>\n",
       "    <tr>\n",
       "      <th>2</th>\n",
       "      <td>125181</td>\n",
       "      <td>1.0</td>\n",
       "      <td>Sí</td>\n",
       "      <td>2004.0</td>\n",
       "      <td>1er. Trimestre</td>\n",
       "      <td>Pampeana</td>\n",
       "      <td>S</td>\n",
       "      <td>Gran La Plata</td>\n",
       "      <td>541.0</td>\n",
       "      <td>Casa</td>\n",
       "      <td>...</td>\n",
       "      <td>09</td>\n",
       "      <td></td>\n",
       "      <td>09</td>\n",
       "      <td>2.0</td>\n",
       "      <td>0.0</td>\n",
       "      <td>1.0</td>\n",
       "      <td>3.0</td>\n",
       "      <td>0.0</td>\n",
       "      <td>0.0</td>\n",
       "      <td>00000</td>\n",
       "    </tr>\n",
       "    <tr>\n",
       "      <th>3</th>\n",
       "      <td>125283</td>\n",
       "      <td>1.0</td>\n",
       "      <td>Sí</td>\n",
       "      <td>2004.0</td>\n",
       "      <td>1er. Trimestre</td>\n",
       "      <td>Pampeana</td>\n",
       "      <td>S</td>\n",
       "      <td>Gran La Plata</td>\n",
       "      <td>255.0</td>\n",
       "      <td>Casa</td>\n",
       "      <td>...</td>\n",
       "      <td>07</td>\n",
       "      <td></td>\n",
       "      <td>07</td>\n",
       "      <td>1.0</td>\n",
       "      <td>2.0</td>\n",
       "      <td>3.0</td>\n",
       "      <td>4.0</td>\n",
       "      <td>0.0</td>\n",
       "      <td>0.0</td>\n",
       "      <td>10000</td>\n",
       "    </tr>\n",
       "    <tr>\n",
       "      <th>4</th>\n",
       "      <td>126192</td>\n",
       "      <td>1.0</td>\n",
       "      <td>Sí</td>\n",
       "      <td>2004.0</td>\n",
       "      <td>1er. Trimestre</td>\n",
       "      <td>Pampeana</td>\n",
       "      <td>S</td>\n",
       "      <td>Gran La Plata</td>\n",
       "      <td>218.0</td>\n",
       "      <td>Casa</td>\n",
       "      <td>...</td>\n",
       "      <td>08</td>\n",
       "      <td></td>\n",
       "      <td>08</td>\n",
       "      <td>2.0</td>\n",
       "      <td>0.0</td>\n",
       "      <td>Otra persona que no vive en el hogar</td>\n",
       "      <td>0.0</td>\n",
       "      <td>0.0</td>\n",
       "      <td>0.0</td>\n",
       "      <td>10000</td>\n",
       "    </tr>\n",
       "  </tbody>\n",
       "</table>\n",
       "<p>5 rows × 88 columns</p>\n",
       "</div>"
      ],
      "text/plain": [
       "     codusu  nro_hogar realizada    ano4       trimestre    region mas_500  \\\n",
       "0  125051          1.0        Sí  2004.0  1er. Trimestre  Pampeana       S   \n",
       "1  125082          1.0        Sí  2004.0  1er. Trimestre  Pampeana       S   \n",
       "2  125181          1.0        Sí  2004.0  1er. Trimestre  Pampeana       S   \n",
       "3  125283          1.0        Sí  2004.0  1er. Trimestre  Pampeana       S   \n",
       "4  126192          1.0        Sí  2004.0  1er. Trimestre  Pampeana       S   \n",
       "\n",
       "      aglomerado  pondera   iv1  ... gdeccfr pdeccfr adeccfr vii1_1 vii1_2  \\\n",
       "0  Gran La Plata    355.0  Casa  ...      01              01    1.0    0.0   \n",
       "1  Gran La Plata    306.0  Casa  ...      03              02    2.0    0.0   \n",
       "2  Gran La Plata    541.0  Casa  ...      09              09    2.0    0.0   \n",
       "3  Gran La Plata    255.0  Casa  ...      07              07    1.0    2.0   \n",
       "4  Gran La Plata    218.0  Casa  ...      08              08    2.0    0.0   \n",
       "\n",
       "                                 vii2_1 vii2_2 vii2_3 vii2_4 idimph  \n",
       "0                                   3.0    0.0    0.0    0.0  00000  \n",
       "1                                  98.0    0.0    0.0    0.0  10000  \n",
       "2                                   1.0    3.0    0.0    0.0  00000  \n",
       "3                                   3.0    4.0    0.0    0.0  10000  \n",
       "4  Otra persona que no vive en el hogar    0.0    0.0    0.0  10000  \n",
       "\n",
       "[5 rows x 88 columns]"
      ]
     },
     "execution_count": 34,
     "metadata": {},
     "output_type": "execute_result"
    }
   ],
   "source": [
    "hogar_2004.head()"
   ]
  },
  {
   "cell_type": "markdown",
   "metadata": {},
   "source": [
    "Ahora eliminamos todas las observaciones que no corresponden a los aglomerados de Ciudad Autónoma de Buenos Aires o Gran Buenos Aires, y unimos ambos trimestres de hogares e individuos en una sola base."
   ]
  },
  {
   "cell_type": "code",
   "execution_count": 35,
   "metadata": {},
   "outputs": [
    {
     "name": "stdout",
     "output_type": "stream",
     "text": [
      "El número de filas con aglomerado 32 y 33 para el año 2004 es: 7647\n",
      "El número de filas con aglomerado 32 y 33 para el año 2024 es: 7051\n",
      "El número de filas con aglomerado 32 y 33 en la base de hogares para el año 2004 es: 2351\n",
      "El número de filas con aglomerado 32 y 33 en la base de hogares para el año 2024 es: 2545\n"
     ]
    }
   ],
   "source": [
    "# Contar el número de filas en el dataframe ind_2004 que son 'Ciudad de Buenos Aires' o 'Partidos del GBA' en la columna \"aglomerado\"\n",
    "count_32_33 = ind_2004[ind_2004['aglomerado'].isin(['Ciudad de Buenos Aires', 'Partidos del GBA'])].shape[0]\n",
    "print(f\"El número de filas con aglomerado 32 y 33 para el año 2004 es: {count_32_33}\")\n",
    "# Contar el número de filas en el dataframe ind_2024 que tienen el valor 32 y 33 en la columna \"aglomerado\"\n",
    "count_32_33_2024 = ind_2024[ind_2024['aglomerado'].isin([32, 33])].shape[0]\n",
    "print(f\"El número de filas con aglomerado 32 y 33 para el año 2024 es: {count_32_33_2024}\")\n",
    "# Contar el número de filas en el dataframe hogar_2004 que son 'Ciudad de Buenos Aires' o 'Partidos del GBA' en la columna \"aglomerado\"\n",
    "count_32_33_hogar = hogar_2004[hogar_2004['aglomerado'].isin(['Ciudad de Buenos Aires', 'Partidos del GBA'])].shape[0]\n",
    "print(f\"El número de filas con aglomerado 32 y 33 en la base de hogares para el año 2004 es: {count_32_33_hogar}\")\n",
    "# Contar el número de filas en el dataframe hogar_2024 que tienen el valor 32 y 33 en la columna \"aglomerado\"\n",
    "count_32_33_hogar_2024 = hogar_2024[hogar_2024['aglomerado'].isin([32, 33])].shape[0]\n",
    "print(f\"El número de filas con aglomerado 32 y 33 en la base de hogares para el año 2024 es: {count_32_33_hogar_2024}\")\n"
   ]
  },
  {
   "cell_type": "code",
   "execution_count": 44,
   "metadata": {},
   "outputs": [],
   "source": [
    "# Primero filtramos los aglomerados de Ciudad Autónoma de Buenos Aires (32) y Gran Buenos Aires (33)\n",
    "ind_2004 = ind_2004[ind_2004['aglomerado'].isin(['Ciudad de Buenos Aires', 'Partidos del GBA'])]\n",
    "ind_2024 = ind_2024[ind_2024['aglomerado'].isin([32, 33])]\n",
    "hogar_2004 = hogar_2004[hogar_2004['aglomerado'].isin(['Ciudad de Buenos Aires', 'Partidos del GBA'])]\n",
    "hogar_2024 = hogar_2024[hogar_2024['aglomerado'].isin([32, 33])]"
   ]
  },
  {
   "cell_type": "markdown",
   "metadata": {},
   "source": [
    "Antes de unir las bases de datos, vamos a quedarnos con las variables que usamos en el TP3 y vamos a reorganizar las variables. Seguramente tengamos que hacer esto con las bases de hogares, lo iremos haciendo al paso."
   ]
  },
  {
   "cell_type": "code",
   "execution_count": 46,
   "metadata": {},
   "outputs": [
    {
     "name": "stdout",
     "output_type": "stream",
     "text": [
      "Index(['codusu', 'nro_hogar', 'ano4', 'ch04', 'ch06', 'ch07', 'ch08',\n",
      "       'nivel_ed', 'estado', 'cat_inac', 'ipcf'],\n",
      "      dtype='object')\n",
      "Index(['codusu', 'nro_hogar', 'ano4', 'ch04', 'ch06', 'ch07', 'ch08',\n",
      "       'nivel_ed', 'estado', 'cat_inac', 'ipcf'],\n",
      "      dtype='object')\n"
     ]
    }
   ],
   "source": [
    "# Primero hacemos el recorte de variables de interés de la base de individuos en función de lo realizado en el tp3.\n",
    "ind_2004 = ind_2004[['codusu', 'nro_hogar', 'ano4', 'ch04', 'ch06', 'ch07', 'ch08', 'nivel_ed', 'estado', 'cat_inac', 'ipcf']]\n",
    "ind_2024 = ind_2024[['codusu', 'nro_hogar', 'ano4', 'ch04', 'ch06', 'ch07', 'ch08', 'nivel_ed', 'estado', 'cat_inac', 'ipcf']]\n",
    "print(ind_2004.columns)\n",
    "print(ind_2024.columns)"
   ]
  },
  {
   "cell_type": "code",
   "execution_count": 47,
   "metadata": {},
   "outputs": [
    {
     "name": "stderr",
     "output_type": "stream",
     "text": [
      "C:\\Users\\clari\\AppData\\Local\\Temp\\ipykernel_13172\\722007486.py:6: FutureWarning: Downcasting behavior in `replace` is deprecated and will be removed in a future version. To retain the old behavior, explicitly call `result.infer_objects(copy=False)`. To opt-in to the future behavior, set `pd.set_option('future.no_silent_downcasting', True)`\n",
      "  ind_2004['ch04'] = ind_2004['ch04'].replace({'Varón': 1, 'Mujer': 2})\n",
      "C:\\Users\\clari\\AppData\\Local\\Temp\\ipykernel_13172\\722007486.py:6: FutureWarning: The behavior of Series.replace (and DataFrame.replace) with CategoricalDtype is deprecated. In a future version, replace will only be used for cases that preserve the categories. To change the categories, use ser.cat.rename_categories instead.\n",
      "  ind_2004['ch04'] = ind_2004['ch04'].replace({'Varón': 1, 'Mujer': 2})\n",
      "C:\\Users\\clari\\AppData\\Local\\Temp\\ipykernel_13172\\722007486.py:8: FutureWarning: Downcasting behavior in `replace` is deprecated and will be removed in a future version. To retain the old behavior, explicitly call `result.infer_objects(copy=False)`. To opt-in to the future behavior, set `pd.set_option('future.no_silent_downcasting', True)`\n",
      "  ind_2004['ch07'] = ind_2004['ch07'].replace({'Unido': 1, 'Casado': 2,'Separado o divorciado':3, 'Viudo':4,'Ns./Nr.':0,'Soltero':5})\n",
      "C:\\Users\\clari\\AppData\\Local\\Temp\\ipykernel_13172\\722007486.py:8: FutureWarning: The behavior of Series.replace (and DataFrame.replace) with CategoricalDtype is deprecated. In a future version, replace will only be used for cases that preserve the categories. To change the categories, use ser.cat.rename_categories instead.\n",
      "  ind_2004['ch07'] = ind_2004['ch07'].replace({'Unido': 1, 'Casado': 2,'Separado o divorciado':3, 'Viudo':4,'Ns./Nr.':0,'Soltero':5})\n"
     ]
    }
   ],
   "source": [
    "# Ahora ajustamos las variables de la base de invididuos del 2004 para que tengan el mismo formato que las de 2024.\n",
    "# Se convierte a numérico los valores de ch06 (edades) de los datos de 2004, convirtiendo en na los valores que no son numeros.\n",
    "ind_2004['ch06'] = pd.to_numeric(ind_2004['ch06'], errors='coerce')\n",
    "# Ahora convertimos las variables de 2004 al formato numérico de 2024, para facilitar posteriormente el análisis.\n",
    "#ch04=genero\n",
    "ind_2004['ch04'] = ind_2004['ch04'].replace({'Varón': 1, 'Mujer': 2})\n",
    "#ch07= estado civil\n",
    "ind_2004['ch07'] = ind_2004['ch07'].replace({'Unido': 1, 'Casado': 2,'Separado o divorciado':3, 'Viudo':4,'Ns./Nr.':0,'Soltero':5})\n",
    "#ch08= estado de salud\n",
    "mapeosalud = {'Obra social (incluye PAMI)': 1,'No paga ni le descuentan': 2,'Mutual/Prepaga/Servicio de emergencia': 3,'Obra social y mutual/prepaga/servicio de emergencia': 12,'Planes y seguros públicos': 3,'Ns./Nr.': 9,  'Obra social, mutual/prepaga/servicio de emergencia y planes': 123,'Obra social y planes y seguros públicos': 13,'Mutual/prepaga/servicio de emergencia/planes y seguros públi': 23}\n",
    "ind_2004['ch08'] = ind_2004['ch08'].map(mapeosalud)\n",
    "ind_2004['ch08'] = pd.to_numeric(ind_2004['ch08'], errors='coerce')\n",
    "#nivel_ed= nivel educativo\n",
    "mapeonivel = {'Primaria Incompleta (incluye educación especial)': 1,'Primaria Completa': 2,'Secundaria Incompleta': 3,'Secundaria Completa': 4,'Superior Universitaria Incompleta': 5,'Superior Universitaria Completa': 6,'Sin instrucción': 7,'Ns./ Nr.': 9  }\n",
    "ind_2004['nivel_ed'] = ind_2004['nivel_ed'].map(mapeonivel)\n",
    "ind_2004['nivel_ed'] = pd.to_numeric(ind_2004['nivel_ed'], errors='coerce')\n",
    "#estado = estado laboral\n",
    "mapeoestado = {'Entrevista individual no realizada (no respuesta al cuestion': 0,'Ocupado': 1,'Desocupado': 2,'Inactivo': 3,'Menor de 10 años': 4}\n",
    "ind_2004['estado'] = ind_2004['estado'].map(mapeoestado)\n",
    "ind_2004['estado'] = pd.to_numeric(ind_2004['estado'], errors='coerce')\n",
    "#cat_inac= categoría de inactividad\n",
    "maepoinac = {'Jubilado / Pensionado': 1,'Rentista': 2,'Estudiante': 3,'Ama de casa': 4,'Menor de 6 años': 5,'Discapacitado': 6,'Otros': 7,0.0:0}\n",
    "ind_2004['cat_inac'] = ind_2004['cat_inac'].map(maepoinac)"
   ]
  },
  {
   "cell_type": "code",
   "execution_count": 48,
   "metadata": {},
   "outputs": [
    {
     "name": "stdout",
     "output_type": "stream",
     "text": [
      "codusu         0\n",
      "nro_hogar      0\n",
      "ano4           0\n",
      "ch04           0\n",
      "ch06         135\n",
      "ch07           0\n",
      "ch08           0\n",
      "nivel_ed       0\n",
      "estado         0\n",
      "cat_inac     668\n",
      "ipcf           0\n",
      "dtype: int64\n",
      "codusu       0\n",
      "nro_hogar    0\n",
      "ano4         0\n",
      "ch04         0\n",
      "ch06         0\n",
      "ch07         0\n",
      "ch08         0\n",
      "nivel_ed     0\n",
      "estado       0\n",
      "cat_inac     0\n",
      "ipcf         0\n",
      "dtype: int64\n"
     ]
    }
   ],
   "source": [
    "# Ahora chequeamos si hay nulls en la base de datos de 2004\n",
    "print(ind_2004.isnull().sum())\n",
    "# Y si hay nulls en la base de datos de 2024\n",
    "print(ind_2024.isnull().sum())"
   ]
  },
  {
   "cell_type": "code",
   "execution_count": 49,
   "metadata": {},
   "outputs": [
    {
     "name": "stdout",
     "output_type": "stream",
     "text": [
      "0\n",
      "0\n"
     ]
    }
   ],
   "source": [
    "# Chequeamos si hay valores negativos de IPCF en la base de datos de 2004.\n",
    "print((ind_2004['ipcf']<0).sum())\n",
    "print((ind_2024['ipcf']<0).sum())"
   ]
  },
  {
   "cell_type": "code",
   "execution_count": 50,
   "metadata": {},
   "outputs": [
    {
     "name": "stdout",
     "output_type": "stream",
     "text": [
      "0\n",
      "51\n"
     ]
    }
   ],
   "source": [
    "# Chequeamos si hay valores negativos en edad (ch06)\n",
    "print((ind_2004['ch06']<0).sum())\n",
    "print((ind_2024['ch06']<0).sum())"
   ]
  },
  {
   "cell_type": "code",
   "execution_count": 51,
   "metadata": {},
   "outputs": [],
   "source": [
    "#Eliminamos los valores de edad que sean menores a 0 en ambas bases de datos.\n",
    "ind_2024 = ind_2024[ind_2024['ch06'] > 0]\n",
    "ind_2004 = ind_2004[ind_2004['ch06'] > 0]"
   ]
  },
  {
   "cell_type": "code",
   "execution_count": 52,
   "metadata": {},
   "outputs": [
    {
     "name": "stdout",
     "output_type": "stream",
     "text": [
      "codusu       0\n",
      "nro_hogar    0\n",
      "ano4         0\n",
      "ch04         0\n",
      "ch06         0\n",
      "ch07         0\n",
      "ch08         0\n",
      "nivel_ed     0\n",
      "estado       0\n",
      "cat_inac     0\n",
      "ipcf         0\n",
      "dtype: int64\n",
      "codusu         0\n",
      "nro_hogar      0\n",
      "ano4           0\n",
      "ch04           0\n",
      "ch06           0\n",
      "ch07           0\n",
      "ch08           0\n",
      "nivel_ed       0\n",
      "estado         0\n",
      "cat_inac     665\n",
      "ipcf           0\n",
      "dtype: int64\n"
     ]
    }
   ],
   "source": [
    "#Chequeamos una vez más las variables a ver si tienen nas\n",
    "print(ind_2024.isnull().sum())\n",
    "print(ind_2004.isnull().sum())"
   ]
  },
  {
   "cell_type": "code",
   "execution_count": 53,
   "metadata": {},
   "outputs": [
    {
     "name": "stdout",
     "output_type": "stream",
     "text": [
      "object\n",
      "float64\n",
      "object\n",
      "float64\n"
     ]
    }
   ],
   "source": [
    "# Check if 'codusu' and 'nro_hogar' are numeric in the individual dataframe for 2004\n",
    "print(ind_2004['codusu'].dtype)\n",
    "print(ind_2004['nro_hogar'].dtype)\n",
    "\n",
    "# Check if 'codusu' and 'nro_hogar' are numeric in the household dataframe for 2004\n",
    "print(hogar_2004['codusu'].dtype)\n",
    "print(hogar_2004['nro_hogar'].dtype)"
   ]
  },
  {
   "cell_type": "markdown",
   "metadata": {},
   "source": [
    "Ahora sí, una vez eliminados los valores faltantes y los valores sin sentido, además de transformar las variables, procedemos a unir las bases de datos."
   ]
  },
  {
   "cell_type": "code",
   "execution_count": 54,
   "metadata": {},
   "outputs": [],
   "source": [
    "# Verificar las claves en todas las bases\n",
    "claves = [\"codusu\", \"nro_hogar\"]\n",
    "for df, name in zip([ind_2004, hogar_2004, ind_2024, hogar_2024],\n",
    "                    [\"individual_2004\", \"hogar_2004\", \"individual_2024\", \"hogar_2024\"]):\n",
    "    if not all(clave in df.columns for clave in claves):\n",
    "        raise ValueError(f\"Faltan claves en la base {name}\")\n",
    "\n",
    "# Unir las bases individuales y de hogar para cada año\n",
    "base_2004 = pd.merge(ind_2004, hogar_2004, on=claves, how=\"inner\")\n",
    "base_2024 = pd.merge(ind_2024, hogar_2024, on=claves, how=\"inner\")\n",
    "\n",
    "# Agregar columna de año\n",
    "base_2004[\"Año\"] = 2004\n",
    "base_2024[\"Año\"] = 2024\n",
    "\n",
    "# Combinar ambas bases en un solo DataFrame\n",
    "base_final = pd.concat([base_2004, base_2024], ignore_index=True)"
   ]
  },
  {
   "cell_type": "code",
   "execution_count": 55,
   "metadata": {},
   "outputs": [
    {
     "data": {
      "text/plain": [
       "(14512, 99)"
      ]
     },
     "execution_count": 55,
     "metadata": {},
     "output_type": "execute_result"
    }
   ],
   "source": [
    "base_final.shape\n"
   ]
  },
  {
   "cell_type": "markdown",
   "metadata": {},
   "source": [
    "3. Limpien la base de datos tomando criterios que hagan sentido. Explicar cualquier decisión como el tratamiento de valores faltantes (missing values), extremos (outliers), o variables categóricas. Justifique sus decisiones."
   ]
  },
  {
   "cell_type": "code",
   "execution_count": null,
   "metadata": {},
   "outputs": [],
   "source": []
  }
 ],
 "metadata": {
  "kernelspec": {
   "display_name": "datos",
   "language": "python",
   "name": "python3"
  },
  "language_info": {
   "codemirror_mode": {
    "name": "ipython",
    "version": 3
   },
   "file_extension": ".py",
   "mimetype": "text/x-python",
   "name": "python",
   "nbconvert_exporter": "python",
   "pygments_lexer": "ipython3",
   "version": "3.9.19"
  }
 },
 "nbformat": 4,
 "nbformat_minor": 2
}
