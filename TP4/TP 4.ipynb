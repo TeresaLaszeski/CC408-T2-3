{
 "cells": [
  {
   "cell_type": "code",
   "execution_count": 1,
   "metadata": {},
   "outputs": [],
   "source": [
    "import pandas as pd\n",
    "import numpy as np\n",
    "import matplotlib.pyplot as plt\n",
    "import seaborn as sns\n",
    "import os"
   ]
  },
  {
   "cell_type": "code",
   "execution_count": 3,
   "metadata": {},
   "outputs": [],
   "source": [
    "# Abrimos la carpeta donde se encuentran las bases de datos\n",
    "os.chdir(r\"C:/Users\\s1248850/OneDrive - Syngenta/Documents/Rosario Luque/Ciencias de datos/TP/TP3\")\n",
    "#os.chdir(r\"c:\\Users\\s1290226\\OneDrive - Syngenta\\Desktop\\UdeSA\\Ciencia de datos\\CC408-T2-3\\TP4\")\n",
    "#os.chdir(r\"C:\\Users\\clari\\OneDrive\\Documents\\Tutoriales CD\\CC408-T2-3\\TP4\")\n",
    "#os.chdir(r\"c:\\Users\\Teresa\\Desktop\\Cuarto año\\Semestre de primavera\\Ciencia de Datos\\CC408-T2-3\\TP4\")\n",
    "\n",
    "# Guardamos las bases de datos en en dos variables\n",
    "ind_2004 = pd.read_stata(\"Individual_t104.dta\")\n",
    "hogar_2004 = pd.read_stata(\"Hogar_t104.dta\")\n",
    "ind_2024 = pd.read_excel(\"usu_individual_T124.xlsx\")\n",
    "hogar_2024 = pd.read_excel(\"usu_hogar_T124.xlsx\")"
   ]
  },
  {
   "cell_type": "code",
   "execution_count": 4,
   "metadata": {},
   "outputs": [
    {
     "data": {
      "text/plain": [
       "((45289, 176), (12816, 88), (46050, 177), (16104, 88))"
      ]
     },
     "execution_count": 4,
     "metadata": {},
     "output_type": "execute_result"
    }
   ],
   "source": [
    "ind_2004.shape, hogar_2004.shape, ind_2024.shape, hogar_2024.shape"
   ]
  },
  {
   "cell_type": "code",
   "execution_count": 5,
   "metadata": {},
   "outputs": [
    {
     "data": {
      "text/plain": [
       "Index(['CODUSU', 'ANO4', 'TRIMESTRE', 'NRO_HOGAR', 'REALIZADA', 'REGION',\n",
       "       'MAS_500', 'AGLOMERADO', 'PONDERA', 'IV1', 'IV1_ESP', 'IV2', 'IV3',\n",
       "       'IV3_ESP', 'IV4', 'IV5', 'IV6', 'IV7', 'IV7_ESP', 'IV8', 'IV9', 'IV10',\n",
       "       'IV11', 'IV12_1', 'IV12_2', 'IV12_3', 'II1', 'II2', 'II3', 'II3_1',\n",
       "       'II4_1', 'II4_2', 'II4_3', 'II5', 'II5_1', 'II6', 'II6_1', 'II7',\n",
       "       'II7_ESP', 'II8', 'II8_ESP', 'II9', 'V1', 'V2', 'V21', 'V22', 'V3',\n",
       "       'V4', 'V5', 'V6', 'V7', 'V8', 'V9', 'V10', 'V11', 'V12', 'V13', 'V14',\n",
       "       'V15', 'V16', 'V17', 'V18', 'V19_A', 'V19_B', 'IX_TOT', 'IX_MEN10',\n",
       "       'IX_MAYEQ10', 'ITF', 'DECIFR', 'IDECIFR', 'RDECIFR', 'GDECIFR',\n",
       "       'PDECIFR', 'ADECIFR', 'IPCF', 'DECCFR', 'IDECCFR', 'RDECCFR', 'GDECCFR',\n",
       "       'PDECCFR', 'ADECCFR', 'PONDIH', 'VII1_1', 'VII1_2', 'VII2_1', 'VII2_2',\n",
       "       'VII2_3', 'VII2_4'],\n",
       "      dtype='object')"
      ]
     },
     "execution_count": 5,
     "metadata": {},
     "output_type": "execute_result"
    }
   ],
   "source": [
    "hogar_2024.columns"
   ]
  },
  {
   "cell_type": "markdown",
   "metadata": {},
   "source": [
    "2. Descarguen la base de microdatos de la EPH correspondiente al primer trimestre de 2004 y 2024 en formato .dta y .xls, respectivamente. La base de hogares se llama Hogar_t104.dta y usu_hogar_T124.xls, respectivamente. Eliminen todas las observaciones que no corresponden a los aglomerados de Ciudad Autónoma de Buenos Aires o Gran Buenos Aires y unan ambos trimestres en una sola base. Esto es, a la base de la encuesta individual de cada año (que usaron en el TP3) unan la base de la encuesta de hogar. Asegúrese de estar usando las variables CODUSU y NRO_Hogar para el merge."
   ]
  },
  {
   "cell_type": "markdown",
   "metadata": {},
   "source": [
    "Para poder trabajar con las cuatro bases de datos es necesario primero pasar el nombre de todas las columnas a minúscula. Esto nos permitirá luego concatenar las bases de datos en una sola y preservar la estructura de la información."
   ]
  },
  {
   "cell_type": "code",
   "execution_count": 6,
   "metadata": {},
   "outputs": [],
   "source": [
    "# En la base de datos del 2024 los nombres de las columnas están en mayúsculas.\n",
    "# Entonces, cambiamos los nombres de las columnas a minúsculas.\n",
    "ind_2024.columns = ind_2024.columns.str.lower()\n",
    "hogar_2024.columns = hogar_2024.columns.str.lower()\n",
    "\n",
    "#Just in case, hacemos lo mismo para las bases del 2004.\n",
    "ind_2004.columns = ind_2004.columns.str.lower()\n",
    "hogar_2004.columns = hogar_2004.columns.str.lower()"
   ]
  },
  {
   "cell_type": "markdown",
   "metadata": {},
   "source": [
    "Ahora eliminamos todas las observaciones que no corresponden a los aglomerados de Ciudad Autónoma de Buenos Aires o Gran Buenos Aires, y unimos ambos trimestres de hogares e individuos en una sola base."
   ]
  },
  {
   "cell_type": "code",
   "execution_count": 7,
   "metadata": {},
   "outputs": [
    {
     "name": "stdout",
     "output_type": "stream",
     "text": [
      "El número de filas con aglomerado 32 y 33 para el año 2004 es: 7647\n",
      "El número de filas con aglomerado 32 y 33 para el año 2024 es: 7051\n",
      "El número de filas con aglomerado 32 y 33 en la base de hogares para el año 2004 es: 2351\n",
      "El número de filas con aglomerado 32 y 33 en la base de hogares para el año 2024 es: 2545\n"
     ]
    }
   ],
   "source": [
    "# Contar el número de filas en el dataframe ind_2004 que son 'Ciudad de Buenos Aires' o 'Partidos del GBA' en la columna \"aglomerado\"\n",
    "count_32_33 = ind_2004[ind_2004['aglomerado'].isin(['Ciudad de Buenos Aires', 'Partidos del GBA'])].shape[0]\n",
    "print(f\"El número de filas con aglomerado 32 y 33 para el año 2004 es: {count_32_33}\")\n",
    "# Contar el número de filas en el dataframe ind_2024 que tienen el valor 32 y 33 en la columna \"aglomerado\"\n",
    "count_32_33_2024 = ind_2024[ind_2024['aglomerado'].isin([32, 33])].shape[0]\n",
    "print(f\"El número de filas con aglomerado 32 y 33 para el año 2024 es: {count_32_33_2024}\")\n",
    "# Contar el número de filas en el dataframe hogar_2004 que son 'Ciudad de Buenos Aires' o 'Partidos del GBA' en la columna \"aglomerado\"\n",
    "count_32_33_hogar = hogar_2004[hogar_2004['aglomerado'].isin(['Ciudad de Buenos Aires', 'Partidos del GBA'])].shape[0]\n",
    "print(f\"El número de filas con aglomerado 32 y 33 en la base de hogares para el año 2004 es: {count_32_33_hogar}\")\n",
    "# Contar el número de filas en el dataframe hogar_2024 que tienen el valor 32 y 33 en la columna \"aglomerado\"\n",
    "count_32_33_hogar_2024 = hogar_2024[hogar_2024['aglomerado'].isin([32, 33])].shape[0]\n",
    "print(f\"El número de filas con aglomerado 32 y 33 en la base de hogares para el año 2024 es: {count_32_33_hogar_2024}\")\n"
   ]
  },
  {
   "cell_type": "code",
   "execution_count": 8,
   "metadata": {},
   "outputs": [],
   "source": [
    "# Primero filtramos los aglomerados de Ciudad Autónoma de Buenos Aires (32) y Gran Buenos Aires (33)\n",
    "ind_2004 = ind_2004[ind_2004['aglomerado'].isin(['Ciudad de Buenos Aires', 'Partidos del GBA'])]\n",
    "ind_2024 = ind_2024[ind_2024['aglomerado'].isin([32, 33])]\n",
    "hogar_2004 = hogar_2004[hogar_2004['aglomerado'].isin(['Ciudad de Buenos Aires', 'Partidos del GBA'])]\n",
    "hogar_2024 = hogar_2024[hogar_2024['aglomerado'].isin([32, 33])]"
   ]
  },
  {
   "cell_type": "markdown",
   "metadata": {},
   "source": [
    "Antes de unir las bases de datos, vamos a quedarnos con las variables que usamos en el TP3 y vamos a reorganizar las variables. Seguramente tengamos que hacer esto con las bases de hogares, lo iremos haciendo al paso."
   ]
  },
  {
   "cell_type": "code",
   "execution_count": 9,
   "metadata": {},
   "outputs": [
    {
     "name": "stdout",
     "output_type": "stream",
     "text": [
      "Index(['codusu', 'nro_hogar', 'ano4', 'ch04', 'ch06', 'ch07', 'ch08',\n",
      "       'nivel_ed', 'estado', 'cat_inac', 'v5_m', 'v11_m', 'v12_m', 'ipcf',\n",
      "       'pp02h', 'pp02i'],\n",
      "      dtype='object')\n",
      "Index(['codusu', 'nro_hogar', 'ano4', 'ch04', 'ch06', 'ch07', 'ch08',\n",
      "       'nivel_ed', 'estado', 'cat_inac', 'v5_m', 'v11_m', 'v12_m', 'ipcf',\n",
      "       'pp02h', 'pp02i'],\n",
      "      dtype='object')\n"
     ]
    }
   ],
   "source": [
    "# Primero hacemos el recorte de variables de interés de la base de individuos en función de lo realizado en el tp3.\n",
    "ind_2004 = ind_2004[['codusu', 'nro_hogar', 'ano4', 'ch04', 'ch06', 'ch07', 'ch08', 'nivel_ed', 'estado', 'cat_inac', 'v5_m', 'v11_m','v12_m', 'ipcf', 'pp02h', 'pp02i']]\n",
    "ind_2024 = ind_2024[['codusu', 'nro_hogar', 'ano4', 'ch04', 'ch06', 'ch07', 'ch08', 'nivel_ed', 'estado', 'cat_inac', 'v5_m', 'v11_m','v12_m', 'ipcf', 'pp02h', 'pp02i']]\n",
    "print(ind_2004.columns)\n",
    "print(ind_2024.columns)"
   ]
  },
  {
   "cell_type": "code",
   "execution_count": 10,
   "metadata": {},
   "outputs": [
    {
     "name": "stderr",
     "output_type": "stream",
     "text": [
      "C:\\Users\\s1248850\\AppData\\Local\\Temp\\ipykernel_12540\\3468715733.py:6: FutureWarning: Downcasting behavior in `replace` is deprecated and will be removed in a future version. To retain the old behavior, explicitly call `result.infer_objects(copy=False)`. To opt-in to the future behavior, set `pd.set_option('future.no_silent_downcasting', True)`\n",
      "  ind_2004['ch04'] = ind_2004['ch04'].replace({'Varón': 1, 'Mujer': 2})\n",
      "C:\\Users\\s1248850\\AppData\\Local\\Temp\\ipykernel_12540\\3468715733.py:6: FutureWarning: The behavior of Series.replace (and DataFrame.replace) with CategoricalDtype is deprecated. In a future version, replace will only be used for cases that preserve the categories. To change the categories, use ser.cat.rename_categories instead.\n",
      "  ind_2004['ch04'] = ind_2004['ch04'].replace({'Varón': 1, 'Mujer': 2})\n",
      "C:\\Users\\s1248850\\AppData\\Local\\Temp\\ipykernel_12540\\3468715733.py:9: FutureWarning: Downcasting behavior in `replace` is deprecated and will be removed in a future version. To retain the old behavior, explicitly call `result.infer_objects(copy=False)`. To opt-in to the future behavior, set `pd.set_option('future.no_silent_downcasting', True)`\n",
      "  ind_2004['ch07'] = ind_2004['ch07'].replace({'Unido': 1, 'Casado': 2,'Separado o divorciado':3, 'Viudo':4,'Ns./Nr.':9,'Soltero':5})\n",
      "C:\\Users\\s1248850\\AppData\\Local\\Temp\\ipykernel_12540\\3468715733.py:9: FutureWarning: The behavior of Series.replace (and DataFrame.replace) with CategoricalDtype is deprecated. In a future version, replace will only be used for cases that preserve the categories. To change the categories, use ser.cat.rename_categories instead.\n",
      "  ind_2004['ch07'] = ind_2004['ch07'].replace({'Unido': 1, 'Casado': 2,'Separado o divorciado':3, 'Viudo':4,'Ns./Nr.':9,'Soltero':5})\n",
      "C:\\Users\\s1248850\\AppData\\Local\\Temp\\ipykernel_12540\\3468715733.py:30: FutureWarning: Downcasting behavior in `replace` is deprecated and will be removed in a future version. To retain the old behavior, explicitly call `result.infer_objects(copy=False)`. To opt-in to the future behavior, set `pd.set_option('future.no_silent_downcasting', True)`\n",
      "  ind_2004['pp02h'] = ind_2004['pp02h'].replace({'Sí': 1, 'No': 2, 0.0:9})\n",
      "C:\\Users\\s1248850\\AppData\\Local\\Temp\\ipykernel_12540\\3468715733.py:30: FutureWarning: The behavior of Series.replace (and DataFrame.replace) with CategoricalDtype is deprecated. In a future version, replace will only be used for cases that preserve the categories. To change the categories, use ser.cat.rename_categories instead.\n",
      "  ind_2004['pp02h'] = ind_2004['pp02h'].replace({'Sí': 1, 'No': 2, 0.0:9})\n",
      "C:\\Users\\s1248850\\AppData\\Local\\Temp\\ipykernel_12540\\3468715733.py:33: FutureWarning: Downcasting behavior in `replace` is deprecated and will be removed in a future version. To retain the old behavior, explicitly call `result.infer_objects(copy=False)`. To opt-in to the future behavior, set `pd.set_option('future.no_silent_downcasting', True)`\n",
      "  ind_2004['pp02i'] = ind_2004['pp02i'].replace({'Sí': 1, 'No': 2, 0.0:9})\n",
      "C:\\Users\\s1248850\\AppData\\Local\\Temp\\ipykernel_12540\\3468715733.py:33: FutureWarning: The behavior of Series.replace (and DataFrame.replace) with CategoricalDtype is deprecated. In a future version, replace will only be used for cases that preserve the categories. To change the categories, use ser.cat.rename_categories instead.\n",
      "  ind_2004['pp02i'] = ind_2004['pp02i'].replace({'Sí': 1, 'No': 2, 0.0:9})\n"
     ]
    }
   ],
   "source": [
    "# Ahora ajustamos las variables de la base de invididuos del 2004 para que tengan el mismo formato que las de 2024.\n",
    "# Se convierte a numérico los valores de ch06 (edades) de los datos de 2004, convirtiendo en na los valores que no son numeros.\n",
    "ind_2004['ch06'] = pd.to_numeric(ind_2004['ch06'], errors='coerce')\n",
    "# Ahora convertimos las variables de 2004 al formato numérico de 2024, para facilitar posteriormente el análisis.\n",
    "#ch04=genero\n",
    "ind_2004['ch04'] = ind_2004['ch04'].replace({'Varón': 1, 'Mujer': 2})\n",
    "ind_2004['ch04'] = pd.to_numeric(ind_2004['ch04'], errors='coerce')\n",
    "#ch07= estado civil\n",
    "ind_2004['ch07'] = ind_2004['ch07'].replace({'Unido': 1, 'Casado': 2,'Separado o divorciado':3, 'Viudo':4,'Ns./Nr.':9,'Soltero':5})\n",
    "ind_2004['ch07'] = pd.to_numeric(ind_2004['ch07'], errors='coerce')\n",
    "#ch08= estado de salud\n",
    "mapeosalud = {'Obra social (incluye PAMI)': 1,'No paga ni le descuentan': 2,'Mutual/Prepaga/Servicio de emergencia': 3,'Obra social y mutual/prepaga/servicio de emergencia': 12,'Planes y seguros públicos': 3,'Ns./Nr.': 9,  'Obra social, mutual/prepaga/servicio de emergencia y planes': 123,'Obra social y planes y seguros públicos': 13,'Mutual/prepaga/servicio de emergencia/planes y seguros públi': 23}\n",
    "ind_2004['ch08'] = ind_2004['ch08'].map(mapeosalud)\n",
    "ind_2004['ch08'] = pd.to_numeric(ind_2004['ch08'], errors='coerce')\n",
    "#nivel_ed= nivel educativo\n",
    "mapeonivel = {'Primaria Incompleta (incluye educación especial)': 1,'Primaria Completa': 2,'Secundaria Incompleta': 3,'Secundaria Completa': 4,'Superior Universitaria Incompleta': 5,'Superior Universitaria Completa': 6,'Sin instrucción': 7,'Ns./ Nr.': 9  }\n",
    "ind_2004['nivel_ed'] = ind_2004['nivel_ed'].map(mapeonivel)\n",
    "ind_2004['nivel_ed'] = pd.to_numeric(ind_2004['nivel_ed'], errors='coerce')\n",
    "#estado = estado laboral\n",
    "mapeoestado = {'Entrevista individual no realizada (no respuesta al cuestion': 0,'Ocupado': 1,'Desocupado': 2,'Inactivo': 3,'Menor de 10 años': 4}\n",
    "ind_2004['estado'] = ind_2004['estado'].map(mapeoestado)\n",
    "ind_2004['estado'] = pd.to_numeric(ind_2004['estado'], errors='coerce')\n",
    "#cat_inac= categoría de inactividad\n",
    "mapeoinac = {'Jubilado / Pensionado': 1,'Rentista': 2,'Estudiante': 3,'Ama de casa': 4,'Menor de 6 años': 5,'Discapacitado': 6,'Otros': 7,0.0:9}\n",
    "ind_2004['cat_inac'] = ind_2004['cat_inac'].map(mapeoinac)\n",
    "ind_2004['cat_inac'] = pd.to_numeric(ind_2004['cat_inac'], errors='coerce')\n",
    "\n",
    "ind_2004['ipcf'] = pd.to_numeric(ind_2004['ipcf'], errors='coerce')\n",
    "\n",
    "ind_2004['pp02h'] = ind_2004['pp02h'].replace({'Sí': 1, 'No': 2, 0.0:9})\n",
    "ind_2004['pp02h'] = pd.to_numeric(ind_2004['pp02h'], errors='coerce')\n",
    "\n",
    "ind_2004['pp02i'] = ind_2004['pp02i'].replace({'Sí': 1, 'No': 2, 0.0:9})\n",
    "ind_2004['pp02i'] = pd.to_numeric(ind_2004['pp02i'], errors='coerce')\n",
    "\n",
    "ind_2004['v5_m'] = pd.to_numeric(ind_2004['v5_m'], errors='coerce')\n",
    "\n",
    "ind_2004['v11_m'] = pd.to_numeric(ind_2004['v11_m'], errors='coerce')\n",
    "\n",
    "ind_2004['v12_m'] = pd.to_numeric(ind_2004['v12_m'], errors='coerce')"
   ]
  },
  {
   "cell_type": "code",
   "execution_count": 11,
   "metadata": {},
   "outputs": [
    {
     "name": "stdout",
     "output_type": "stream",
     "text": [
      "(7647, 16) (7051, 16)\n"
     ]
    }
   ],
   "source": [
    "print(ind_2004.shape, ind_2024.shape)"
   ]
  },
  {
   "cell_type": "code",
   "execution_count": 12,
   "metadata": {},
   "outputs": [
    {
     "name": "stdout",
     "output_type": "stream",
     "text": [
      "codusu         0\n",
      "nro_hogar      0\n",
      "ano4           0\n",
      "ch04           0\n",
      "ch06         135\n",
      "ch07           0\n",
      "ch08           0\n",
      "nivel_ed       0\n",
      "estado         0\n",
      "cat_inac     668\n",
      "v5_m           0\n",
      "v11_m          0\n",
      "v12_m          0\n",
      "ipcf           0\n",
      "pp02h          0\n",
      "pp02i          0\n",
      "dtype: int64\n",
      "(7647, 16) (7051, 16)\n"
     ]
    }
   ],
   "source": [
    "# Ahora chequeamos si hay nulls en la base de datos de 2004\n",
    "print(ind_2004.isnull().sum())\n",
    "# Hay 135 nas en la variable ch06\n",
    "# Hay 668 nas en la variable cat_inac\n",
    "print(ind_2004.shape, ind_2024.shape)"
   ]
  },
  {
   "cell_type": "code",
   "execution_count": 13,
   "metadata": {},
   "outputs": [
    {
     "name": "stdout",
     "output_type": "stream",
     "text": [
      "codusu       0\n",
      "nro_hogar    0\n",
      "ano4         0\n",
      "ch04         0\n",
      "ch06         0\n",
      "ch07         0\n",
      "ch08         0\n",
      "nivel_ed     0\n",
      "estado       0\n",
      "cat_inac     0\n",
      "v5_m         0\n",
      "v11_m        0\n",
      "v12_m        0\n",
      "ipcf         0\n",
      "pp02h        0\n",
      "pp02i        0\n",
      "dtype: int64\n",
      "(7647, 16) (7051, 16)\n"
     ]
    }
   ],
   "source": [
    "# Y si hay nulls en la base de datos de 2024\n",
    "print(ind_2024.isnull().sum())\n",
    "#No hay valores faltantes en la base de datos de 2024.\n",
    "print(ind_2004.shape, ind_2024.shape)"
   ]
  },
  {
   "cell_type": "code",
   "execution_count": 14,
   "metadata": {},
   "outputs": [
    {
     "name": "stdout",
     "output_type": "stream",
     "text": [
      "(6847, 16) (7051, 16)\n",
      "(6847, 16) (7051, 16)\n"
     ]
    }
   ],
   "source": [
    "# Eliminamos los nas\n",
    "ind_2004 = ind_2004.dropna()\n",
    "print(ind_2004.shape, ind_2024.shape)\n",
    "ind_2024 = ind_2024.dropna()\n",
    "print(ind_2004.shape, ind_2024.shape)"
   ]
  },
  {
   "cell_type": "code",
   "execution_count": 15,
   "metadata": {},
   "outputs": [
    {
     "name": "stdout",
     "output_type": "stream",
     "text": [
      "0\n",
      "51\n",
      "(6847, 16) (7051, 16)\n"
     ]
    }
   ],
   "source": [
    "# Chequeamos si hay valores negativos en edad (ch06)\n",
    "print((ind_2004['ch06']<0).sum())\n",
    "print((ind_2024['ch06']<0).sum())\n",
    "#Hay 51 valores negativos de edad en la base del 2024.\n",
    "print(ind_2004.shape, ind_2024.shape)"
   ]
  },
  {
   "cell_type": "code",
   "execution_count": 16,
   "metadata": {},
   "outputs": [
    {
     "name": "stdout",
     "output_type": "stream",
     "text": [
      "(6847, 16) (7000, 16)\n"
     ]
    }
   ],
   "source": [
    "#Eliminamos los valores de edad que sean menores a 0 en ambas bases de datos.\n",
    "ind_2024 = ind_2024[ind_2024['ch06'] >= 0]\n",
    "ind_2004 = ind_2004[ind_2004['ch06'] >= 0]\n",
    "print(ind_2004.shape, ind_2024.shape)"
   ]
  },
  {
   "cell_type": "code",
   "execution_count": 17,
   "metadata": {},
   "outputs": [
    {
     "name": "stdout",
     "output_type": "stream",
     "text": [
      "0\n",
      "0\n"
     ]
    }
   ],
   "source": [
    "# Chequeamos si hay valores negativos de IPCF.\n",
    "print((ind_2004['ipcf']<0).sum())\n",
    "print((ind_2024['ipcf']<0).sum())\n",
    "# No hay valores negativos de IPCF en ninguna de las bases de datos."
   ]
  },
  {
   "cell_type": "code",
   "execution_count": 18,
   "metadata": {},
   "outputs": [
    {
     "name": "stdout",
     "output_type": "stream",
     "text": [
      "0\n",
      "42\n"
     ]
    }
   ],
   "source": [
    "# Chequeaamos si hay valores negativos de v5_m.\n",
    "print((ind_2004['v5_m']<0).sum())\n",
    "print((ind_2024['v5_m']<0).sum())\n",
    "# Hay 42 valores negativos de v5_m en la base de 2024."
   ]
  },
  {
   "cell_type": "code",
   "execution_count": 19,
   "metadata": {},
   "outputs": [
    {
     "name": "stdout",
     "output_type": "stream",
     "text": [
      "(6847, 16) (6958, 16)\n"
     ]
    }
   ],
   "source": [
    "#Eliminamos los valores de v5_m que sean menores a 0 en ambas bases de datos.\n",
    "ind_2024 = ind_2024[ind_2024['v5_m'] >= 0]\n",
    "ind_2004 = ind_2004[ind_2004['v5_m'] >= 0]\n",
    "print(ind_2004.shape, ind_2024.shape)"
   ]
  },
  {
   "cell_type": "code",
   "execution_count": 20,
   "metadata": {},
   "outputs": [
    {
     "name": "stdout",
     "output_type": "stream",
     "text": [
      "0\n",
      "14\n"
     ]
    }
   ],
   "source": [
    "# Chequeamos si hay valores negativos de v11_m.\n",
    "print((ind_2004['v11_m']<0).sum())\n",
    "print((ind_2024['v11_m']<0).sum())\n",
    "# Hay 14 valores negativos de v11_m en la base de 2024."
   ]
  },
  {
   "cell_type": "code",
   "execution_count": 21,
   "metadata": {},
   "outputs": [
    {
     "name": "stdout",
     "output_type": "stream",
     "text": [
      "(6847, 16) (6944, 16)\n"
     ]
    }
   ],
   "source": [
    "#Eliminamos los valores de v11_m que sean menores a 0 en ambas bases de datos.\n",
    "ind_2024 = ind_2024[ind_2024['v11_m'] >= 0]\n",
    "ind_2004 = ind_2004[ind_2004['v11_m'] >= 0]\n",
    "print(ind_2004.shape, ind_2024.shape)"
   ]
  },
  {
   "cell_type": "code",
   "execution_count": 22,
   "metadata": {},
   "outputs": [
    {
     "name": "stdout",
     "output_type": "stream",
     "text": [
      "0\n",
      "46\n"
     ]
    }
   ],
   "source": [
    "# Chequeaamos si hay valores negativos de v12_m.\n",
    "print((ind_2004['v12_m']<0).sum())\n",
    "print((ind_2024['v12_m']<0).sum())\n",
    "# Hay 52 valores negativos de v12_m en la base de 2024."
   ]
  },
  {
   "cell_type": "code",
   "execution_count": 23,
   "metadata": {},
   "outputs": [
    {
     "name": "stdout",
     "output_type": "stream",
     "text": [
      "(6847, 16) (6898, 16)\n"
     ]
    }
   ],
   "source": [
    "#Eliminamos los valores de v12_m que sean menores a 0 en ambas bases de datos.\n",
    "ind_2024 = ind_2024[ind_2024['v12_m'] >= 0]\n",
    "ind_2004 = ind_2004[ind_2004['v12_m'] >= 0]\n",
    "print(ind_2004.shape, ind_2024.shape)"
   ]
  },
  {
   "cell_type": "code",
   "execution_count": 24,
   "metadata": {},
   "outputs": [],
   "source": [
    "# Debido al problema de que las variables del 2004 hay que transformarlas nos vamos a quedar con una selección de variables.\n",
    "# A partir del análisis del diseño del registro, nos vamos a quedar con las siguientes variables:\n",
    "hogar_2004 = hogar_2004[['codusu', 'nro_hogar', 'ano4', 'iv3', 'iv4', 'iv5', 'iv9','iv12_1', 'ii7', 'v5', 'v6', 'v7', 'v11', 'ix_tot', 'ix_men10', 'ix_mayeq10', 'itf']]\n",
    "hogar_2024 = hogar_2024[['codusu', 'nro_hogar', 'ano4', 'iv3', 'iv4', 'iv5', 'iv9','iv12_1', 'ii7', 'v5', 'v6', 'v7', 'v11', 'ix_tot', 'ix_men10', 'ix_mayeq10', 'itf']]"
   ]
  },
  {
   "cell_type": "code",
   "execution_count": 25,
   "metadata": {},
   "outputs": [
    {
     "name": "stdout",
     "output_type": "stream",
     "text": [
      "['No', 'Sí', 'Ns./Nr.']\n",
      "Categories (4, object): [0.0 < 'Sí' < 'No' < 'Ns./Nr.']\n",
      "[2 1 9]\n"
     ]
    }
   ],
   "source": [
    "# Vamos a ver que valores únicos tienen las variables de la base de hogares de 2004.\n",
    "print(hogar_2004['v11'].unique())\n",
    "# Vamos a ver que valores únicos tiene las variables de la base de hogares de 2024.\n",
    "print(hogar_2024['v11'].unique())"
   ]
  },
  {
   "cell_type": "code",
   "execution_count": 26,
   "metadata": {},
   "outputs": [
    {
     "name": "stderr",
     "output_type": "stream",
     "text": [
      "C:\\Users\\s1248850\\AppData\\Local\\Temp\\ipykernel_12540\\3463664367.py:10: FutureWarning: Downcasting behavior in `replace` is deprecated and will be removed in a future version. To retain the old behavior, explicitly call `result.infer_objects(copy=False)`. To opt-in to the future behavior, set `pd.set_option('future.no_silent_downcasting', True)`\n",
      "  hogar_2004['iv5'] = hogar_2004['iv5'].replace({'Sí':1, 'No':2, 'Ns./Nr.':9, 0.0:9})\n",
      "C:\\Users\\s1248850\\AppData\\Local\\Temp\\ipykernel_12540\\3463664367.py:10: FutureWarning: The behavior of Series.replace (and DataFrame.replace) with CategoricalDtype is deprecated. In a future version, replace will only be used for cases that preserve the categories. To change the categories, use ser.cat.rename_categories instead.\n",
      "  hogar_2004['iv5'] = hogar_2004['iv5'].replace({'Sí':1, 'No':2, 'Ns./Nr.':9, 0.0:9})\n",
      "C:\\Users\\s1248850\\AppData\\Local\\Temp\\ipykernel_12540\\3463664367.py:17: FutureWarning: Downcasting behavior in `replace` is deprecated and will be removed in a future version. To retain the old behavior, explicitly call `result.infer_objects(copy=False)`. To opt-in to the future behavior, set `pd.set_option('future.no_silent_downcasting', True)`\n",
      "  hogar_2004['iv12_1'] = hogar_2004['iv12_1'].replace({'Sí': 1, 'No': 2, 0.0:9})\n",
      "C:\\Users\\s1248850\\AppData\\Local\\Temp\\ipykernel_12540\\3463664367.py:17: FutureWarning: The behavior of Series.replace (and DataFrame.replace) with CategoricalDtype is deprecated. In a future version, replace will only be used for cases that preserve the categories. To change the categories, use ser.cat.rename_categories instead.\n",
      "  hogar_2004['iv12_1'] = hogar_2004['iv12_1'].replace({'Sí': 1, 'No': 2, 0.0:9})\n",
      "C:\\Users\\s1248850\\AppData\\Local\\Temp\\ipykernel_12540\\3463664367.py:24: FutureWarning: Downcasting behavior in `replace` is deprecated and will be removed in a future version. To retain the old behavior, explicitly call `result.infer_objects(copy=False)`. To opt-in to the future behavior, set `pd.set_option('future.no_silent_downcasting', True)`\n",
      "  hogar_2004['v5'] = hogar_2004['v5'].replace({'Sí': 1, 'No': 2, 'Ns./Nr.': 9, 0.0:9})\n",
      "C:\\Users\\s1248850\\AppData\\Local\\Temp\\ipykernel_12540\\3463664367.py:24: FutureWarning: The behavior of Series.replace (and DataFrame.replace) with CategoricalDtype is deprecated. In a future version, replace will only be used for cases that preserve the categories. To change the categories, use ser.cat.rename_categories instead.\n",
      "  hogar_2004['v5'] = hogar_2004['v5'].replace({'Sí': 1, 'No': 2, 'Ns./Nr.': 9, 0.0:9})\n",
      "C:\\Users\\s1248850\\AppData\\Local\\Temp\\ipykernel_12540\\3463664367.py:27: FutureWarning: Downcasting behavior in `replace` is deprecated and will be removed in a future version. To retain the old behavior, explicitly call `result.infer_objects(copy=False)`. To opt-in to the future behavior, set `pd.set_option('future.no_silent_downcasting', True)`\n",
      "  hogar_2004['v6'] = hogar_2004['v6'].replace({'Sí': 1, 'No': 2, 'Ns./Nr.': 9, 0.0:9})\n",
      "C:\\Users\\s1248850\\AppData\\Local\\Temp\\ipykernel_12540\\3463664367.py:27: FutureWarning: The behavior of Series.replace (and DataFrame.replace) with CategoricalDtype is deprecated. In a future version, replace will only be used for cases that preserve the categories. To change the categories, use ser.cat.rename_categories instead.\n",
      "  hogar_2004['v6'] = hogar_2004['v6'].replace({'Sí': 1, 'No': 2, 'Ns./Nr.': 9, 0.0:9})\n",
      "C:\\Users\\s1248850\\AppData\\Local\\Temp\\ipykernel_12540\\3463664367.py:30: FutureWarning: Downcasting behavior in `replace` is deprecated and will be removed in a future version. To retain the old behavior, explicitly call `result.infer_objects(copy=False)`. To opt-in to the future behavior, set `pd.set_option('future.no_silent_downcasting', True)`\n",
      "  hogar_2004['v7'] = hogar_2004['v7'].replace({'Sí': 1, 'No': 2, 'Ns./Nr.': 9, 0.0:9})\n",
      "C:\\Users\\s1248850\\AppData\\Local\\Temp\\ipykernel_12540\\3463664367.py:30: FutureWarning: The behavior of Series.replace (and DataFrame.replace) with CategoricalDtype is deprecated. In a future version, replace will only be used for cases that preserve the categories. To change the categories, use ser.cat.rename_categories instead.\n",
      "  hogar_2004['v7'] = hogar_2004['v7'].replace({'Sí': 1, 'No': 2, 'Ns./Nr.': 9, 0.0:9})\n",
      "C:\\Users\\s1248850\\AppData\\Local\\Temp\\ipykernel_12540\\3463664367.py:33: FutureWarning: Downcasting behavior in `replace` is deprecated and will be removed in a future version. To retain the old behavior, explicitly call `result.infer_objects(copy=False)`. To opt-in to the future behavior, set `pd.set_option('future.no_silent_downcasting', True)`\n",
      "  hogar_2004['v11'] = hogar_2004['v11'].replace({'Sí': 1, 'No': 2, 'Ns./Nr.': 9, 0.0:9})\n",
      "C:\\Users\\s1248850\\AppData\\Local\\Temp\\ipykernel_12540\\3463664367.py:33: FutureWarning: The behavior of Series.replace (and DataFrame.replace) with CategoricalDtype is deprecated. In a future version, replace will only be used for cases that preserve the categories. To change the categories, use ser.cat.rename_categories instead.\n",
      "  hogar_2004['v11'] = hogar_2004['v11'].replace({'Sí': 1, 'No': 2, 'Ns./Nr.': 9, 0.0:9})\n"
     ]
    }
   ],
   "source": [
    "# Dado que la base de datos de hogares del 2004 tiene la descripción como valor en vez del valor numérico, vamos a cambiarlo.\n",
    "mapeo_iv3 = {'Mosaico/baldosa/madera/cerámica/alfombra':1, 'Cemento/ladrillo fijo':2, 'Ladrillo suelto/tierra':3, 'Otro':4, 0.0:9}\n",
    "hogar_2004['iv3'] = hogar_2004['iv3'].map(mapeo_iv3)\n",
    "hogar_2004['iv3'] = pd.to_numeric(hogar_2024['iv3'], errors='coerce')\n",
    "\n",
    "mapeo_iv4 = {'Membrana/cubierta asfáltica':1, 'N/S. Depto. de propiedad horizontal':9, 'Baldosa/losa sin cubierta':2, 'Chapa de metal sin cubierta':4, 'Chapa de fibrocemento/plástico':5, 'Pizarra/teja':3, 0.0:9, 'Chapa de cartón':6}\n",
    "hogar_2004['iv4'] = hogar_2004['iv4'].map(mapeo_iv4)\n",
    "hogar_2004['iv4'] = pd.to_numeric(hogar_2024['iv4'], errors='coerce')\n",
    "\n",
    "hogar_2004['iv5'] = hogar_2004['iv5'].replace({'Sí':1, 'No':2, 'Ns./Nr.':9, 0.0:9})\n",
    "hogar_2004['iv5'] = pd.to_numeric(hogar_2004['iv5'], errors='coerce')\n",
    "\n",
    "mapeo_iv9 = {'Dentro de la vivienda': 1, 'Fuera de la vivienda pero dentro del terreno': 2, 'Fuera del terreno':3, 0.0:9}\n",
    "hogar_2004['iv9'] = hogar_2004['iv9'].map(mapeo_iv9)\n",
    "hogar_2004['iv9'] = pd.to_numeric(hogar_2024['iv9'], errors='coerce')\n",
    "\n",
    "hogar_2004['iv12_1'] = hogar_2004['iv12_1'].replace({'Sí': 1, 'No': 2, 0.0:9})\n",
    "hogar_2004['iv12_1'] = pd.to_numeric(hogar_2004['iv12_1'], errors='coerce')\n",
    "\n",
    "mapeo_ii7 = {'Otra situación':9, 'Propietario de la vivienda y el terreno':1, 'Inquilino/arrendatario de la vivienda':3, 'Ocupante por pago de impuestos/expensas':4, 'Propietario de la vivienda solamente':2, 'Ocupante gratuito (con permiso)':6, 'Ocupante en relación de dependencia':5, 'Ocupante de hecho (sin permiso)':7, 'Está en sucesión':8,0.0:9}\n",
    "hogar_2004['ii7'] = hogar_2004['ii7'].map(mapeo_ii7)\n",
    "hogar_2004['ii7'] = pd.to_numeric(hogar_2024['ii7'], errors='coerce')\n",
    "\n",
    "hogar_2004['v5'] = hogar_2004['v5'].replace({'Sí': 1, 'No': 2, 'Ns./Nr.': 9, 0.0:9})\n",
    "hogar_2004['v5'] = pd.to_numeric(hogar_2004['v5'], errors='coerce')\n",
    "\n",
    "hogar_2004['v6'] = hogar_2004['v6'].replace({'Sí': 1, 'No': 2, 'Ns./Nr.': 9, 0.0:9})\n",
    "hogar_2004['v6'] = pd.to_numeric(hogar_2004['v6'], errors='coerce')\n",
    "\n",
    "hogar_2004['v7'] = hogar_2004['v7'].replace({'Sí': 1, 'No': 2, 'Ns./Nr.': 9, 0.0:9})\n",
    "hogar_2004['v7'] = pd.to_numeric(hogar_2004['v7'], errors='coerce')\n",
    "\n",
    "hogar_2004['v11'] = hogar_2004['v11'].replace({'Sí': 1, 'No': 2, 'Ns./Nr.': 9, 0.0:9})\n",
    "hogar_2004['v11'] = pd.to_numeric(hogar_2004['v11'], errors='coerce')\n",
    "\n",
    "hogar_2004['ix_tot'] = pd.to_numeric(hogar_2004['ix_tot'], errors='coerce')\n",
    "\n",
    "hogar_2004['ix_men10'] = pd.to_numeric(hogar_2004['ix_men10'], errors='coerce')\n",
    "\n",
    "hogar_2004['ix_mayeq10'] = pd.to_numeric(hogar_2004['ix_mayeq10'], errors='coerce')\n",
    "\n",
    "hogar_2004['itf'] = pd.to_numeric(hogar_2004['itf'], errors='coerce')"
   ]
  },
  {
   "cell_type": "code",
   "execution_count": 27,
   "metadata": {},
   "outputs": [
    {
     "name": "stdout",
     "output_type": "stream",
     "text": [
      "codusu           0\n",
      "nro_hogar        0\n",
      "ano4             0\n",
      "iv3           2075\n",
      "iv4           2075\n",
      "iv5              0\n",
      "iv9           2075\n",
      "iv12_1           0\n",
      "ii7           2075\n",
      "v5               0\n",
      "v6               0\n",
      "v7               0\n",
      "v11              0\n",
      "ix_tot           0\n",
      "ix_men10      1576\n",
      "ix_mayeq10       0\n",
      "itf              0\n",
      "dtype: int64\n"
     ]
    }
   ],
   "source": [
    "#Chequeo el número de nas para las variables seleccionadas.\n",
    "print(hogar_2004.isnull().sum())\n",
    "# Dado que las variables iv3, iv4, iv9, ii7 e ix_men10 tienen muchos nans, los vamos a excluir de la base de datos.\n",
    "hogar_2004 = hogar_2004.drop(['iv3', 'iv4', 'iv9', 'ii7', 'ix_men10'], axis=1)"
   ]
  },
  {
   "cell_type": "code",
   "execution_count": 28,
   "metadata": {},
   "outputs": [
    {
     "name": "stdout",
     "output_type": "stream",
     "text": [
      "codusu        0\n",
      "nro_hogar     0\n",
      "ano4          0\n",
      "iv5           0\n",
      "iv12_1        0\n",
      "v5            0\n",
      "v6            0\n",
      "v7            0\n",
      "v11           0\n",
      "ix_tot        0\n",
      "ix_mayeq10    0\n",
      "itf           0\n",
      "dtype: int64\n"
     ]
    }
   ],
   "source": [
    "# Vuelvo a chequear si hay valores faltantes en la base de datos de hogares de 2004.\n",
    "print(hogar_2004.isnull().sum())"
   ]
  },
  {
   "cell_type": "code",
   "execution_count": 29,
   "metadata": {},
   "outputs": [
    {
     "name": "stdout",
     "output_type": "stream",
     "text": [
      "codusu        0\n",
      "nro_hogar     0\n",
      "ano4          0\n",
      "iv3           0\n",
      "iv4           0\n",
      "iv5           0\n",
      "iv9           0\n",
      "iv12_1        0\n",
      "ii7           0\n",
      "v5            0\n",
      "v6            0\n",
      "v7            0\n",
      "v11           0\n",
      "ix_tot        0\n",
      "ix_men10      0\n",
      "ix_mayeq10    0\n",
      "itf           0\n",
      "dtype: int64\n"
     ]
    }
   ],
   "source": [
    "# Ahora chequeamos los valores faltantes para la base del 2024.\n",
    "print(hogar_2024.isnull().sum())\n",
    "# Y eliminamos las mismas columnas que en la base de 2004 para no generar nas en el merge.\n",
    "hogar_2024 = hogar_2024.drop(['iv3', 'iv4', 'iv9', 'ii7', 'ix_men10'], axis=1)"
   ]
  },
  {
   "cell_type": "code",
   "execution_count": 30,
   "metadata": {},
   "outputs": [
    {
     "name": "stdout",
     "output_type": "stream",
     "text": [
      "codusu        0\n",
      "nro_hogar     0\n",
      "ano4          0\n",
      "iv5           0\n",
      "iv12_1        0\n",
      "v5            0\n",
      "v6            0\n",
      "v7            0\n",
      "v11           0\n",
      "ix_tot        0\n",
      "ix_mayeq10    0\n",
      "itf           0\n",
      "dtype: int64\n"
     ]
    }
   ],
   "source": [
    "# Vuelvo a chequear si hay valores faltantes en la base de datos de hogares de 2004.\n",
    "print(hogar_2004.isnull().sum())"
   ]
  },
  {
   "cell_type": "code",
   "execution_count": 31,
   "metadata": {},
   "outputs": [
    {
     "name": "stdout",
     "output_type": "stream",
     "text": [
      "0\n",
      "0\n",
      "0\n"
     ]
    }
   ],
   "source": [
    "#Chequeo que las variables itf, ix_mayeq10, e ix_tot no tengan valores negativos.\n",
    "print((hogar_2004['itf']<0).sum())\n",
    "print((hogar_2004['ix_mayeq10']<0).sum())\n",
    "print((hogar_2004['ix_tot']<0).sum())"
   ]
  },
  {
   "cell_type": "code",
   "execution_count": 32,
   "metadata": {},
   "outputs": [
    {
     "name": "stdout",
     "output_type": "stream",
     "text": [
      "0\n",
      "0\n",
      "0\n"
     ]
    }
   ],
   "source": [
    "#Chequeo que las variables itf, ix_men10, e ix_tot no tengan valores negativos.\n",
    "print((hogar_2024['itf']<0).sum())\n",
    "print((hogar_2024['ix_mayeq10']<0).sum())\n",
    "print((hogar_2024['ix_tot']<0).sum())"
   ]
  },
  {
   "cell_type": "code",
   "execution_count": 33,
   "metadata": {},
   "outputs": [
    {
     "data": {
      "text/plain": [
       "((6847, 16), (2351, 12), (6898, 16), (2545, 12))"
      ]
     },
     "execution_count": 33,
     "metadata": {},
     "output_type": "execute_result"
    }
   ],
   "source": [
    "ind_2004.shape, hogar_2004.shape, ind_2024.shape, hogar_2024.shape"
   ]
  },
  {
   "cell_type": "markdown",
   "metadata": {},
   "source": [
    "Ahora sí, una vez eliminados los valores faltantes y los valores sin sentido, además de transformar las variables, procedemos a unir las bases de datos."
   ]
  },
  {
   "cell_type": "code",
   "execution_count": 34,
   "metadata": {},
   "outputs": [],
   "source": [
    "# Verificar las claves en todas las bases\n",
    "claves = [\"codusu\", \"nro_hogar\"]\n",
    "for df, name in zip([ind_2004, hogar_2004, ind_2024, hogar_2024],\n",
    "                    [\"individual_2004\", \"hogar_2004\", \"individual_2024\", \"hogar_2024\"]):\n",
    "    if not all(clave in df.columns for clave in claves):\n",
    "        raise ValueError(f\"Faltan claves en la base {name}\")\n",
    "\n",
    "# Unir las bases individuales y de hogar para cada año\n",
    "base_2004 = pd.merge(ind_2004, hogar_2004, on=claves, how=\"inner\")\n",
    "base_2024 = pd.merge(ind_2024, hogar_2024, on=claves, how=\"inner\")\n",
    "\n",
    "# Agregar columna de año\n",
    "base_2004[\"Año\"] = 2004\n",
    "base_2024[\"Año\"] = 2024\n",
    "\n",
    "# Combinar ambas bases en un solo DataFrame\n",
    "base_final = pd.concat([base_2004, base_2024], ignore_index=True)"
   ]
  },
  {
   "cell_type": "code",
   "execution_count": 35,
   "metadata": {},
   "outputs": [
    {
     "data": {
      "text/plain": [
       "(13745, 27)"
      ]
     },
     "execution_count": 35,
     "metadata": {},
     "output_type": "execute_result"
    }
   ],
   "source": [
    "base_final.shape\n"
   ]
  },
  {
   "cell_type": "markdown",
   "metadata": {},
   "source": [
    "3. Limpien la base de datos tomando criterios que hagan sentido. Explicar cualquier decisión como el tratamiento de valores faltantes (missing values), extremos (outliers), o variables categóricas. Justifique sus decisiones."
   ]
  },
  {
   "cell_type": "code",
   "execution_count": 36,
   "metadata": {},
   "outputs": [
    {
     "name": "stdout",
     "output_type": "stream",
     "text": [
      "No hay columnas con valores faltantes en base_final.\n"
     ]
    }
   ],
   "source": [
    "# Check for missing values in base_final\n",
    "missing_values_base_final = base_final.isnull().sum()\n",
    "missing_columns_base_final = missing_values_base_final[missing_values_base_final > 0]\n",
    "\n",
    "if not missing_columns_base_final.empty:\n",
    "    print(\"Columnas con valores faltantes y su cantidad de NAs:\")\n",
    "    print(missing_columns_base_final)\n",
    "else:\n",
    "    print(\"No hay columnas con valores faltantes en base_final.\")"
   ]
  },
  {
   "cell_type": "code",
   "execution_count": 37,
   "metadata": {},
   "outputs": [],
   "source": [
    "base_final.to_excel(\"base_final.xlsx\", index=False)"
   ]
  },
  {
   "cell_type": "code",
   "execution_count": 38,
   "metadata": {},
   "outputs": [],
   "source": [
    "# Antes de chequear outliers con el MAD, es importante eliminar el valor 9 de todas las columnas que lo tengan.\n",
    "# El 9 es equivalente a 'Ns./Nr.' en las bases de datos, lo cual sigue siendo un missing value.\n",
    "#base_final = base_final.replace(9, np.nan)\n",
    "# Eliminamos los valores faltantes\n",
    "#base_final = base_final.dropna()\n",
    "#base_final.shape"
   ]
  },
  {
   "cell_type": "markdown",
   "metadata": {},
   "source": [
    "Ahora vamos a chequear outliers"
   ]
  },
  {
   "cell_type": "code",
   "execution_count": 39,
   "metadata": {},
   "outputs": [
    {
     "data": {
      "image/png": "[encoded data removed]",
      "text/plain": [
       "<Figure size 2000x2000 with 1 Axes>"
      ]
     },
     "metadata": {},
     "output_type": "display_data"
    }
   ],
   "source": [
    "# Lo primero que debemos hacer es plotear boxplots para ver la distribución de las variables.\n",
    "plt.figure(figsize=(20, 20))\n",
    "sns.boxplot(data=base_final, orient=\"h\")\n",
    "plt.show()\n",
    "# Vemos que ipcf e itf, las variables de ingreso, parecieran tener outliers. Ninguna variable toma valores negativos,\n",
    "# por lo que la limpieza previa funcionó."
   ]
  },
  {
   "cell_type": "code",
   "execution_count": 40,
   "metadata": {},
   "outputs": [
    {
     "data": {
      "image/png": "[encoded data removed]",
      "text/plain": [
       "<Figure size 2000x1500 with 30 Axes>"
      ]
     },
     "metadata": {},
     "output_type": "display_data"
    }
   ],
   "source": [
    "# Otra herramienta útil para ver la distribución de las variables es el histograma.\n",
    "#El histograma nos permite ver si es necesario transformar alguna variable.\n",
    "base_final.hist(figsize=(20, 15), bins=50, edgecolor='black')\n",
    "plt.tight_layout()\n",
    "plt.show()"
   ]
  },
  {
   "cell_type": "code",
   "execution_count": 41,
   "metadata": {},
   "outputs": [],
   "source": [
    "# Quiero eliminar las variables que toman 0 en pp02h.\n",
    "#base_final = base_final[base_final['pp02h'] != 0]\n",
    "#base_final.shape"
   ]
  },
  {
   "cell_type": "code",
   "execution_count": 42,
   "metadata": {},
   "outputs": [],
   "source": [
    "# Quiero eliminar las variables que toman 0 en pp02i.\n",
    "#base_final = base_final[base_final['pp02i'] != 0]\n",
    "#base_final.shape"
   ]
  },
  {
   "cell_type": "code",
   "execution_count": 43,
   "metadata": {},
   "outputs": [
    {
     "name": "stdout",
     "output_type": "stream",
     "text": [
      "Outliers for ch06: 0\n",
      "Outliers for ch08: 6556\n",
      "Outliers for v5_m: 366\n",
      "Outliers for v11_m: 80\n",
      "Outliers for v12_m: 320\n",
      "Outliers for ipcf: 4115\n",
      "Outliers for itf: 4027\n",
      "Outliers for ix_tot: 280\n",
      "Outliers for ix_mayeq10: 79\n"
     ]
    },
    {
     "name": "stderr",
     "output_type": "stream",
     "text": [
      "c:\\Users\\s1248850\\AppData\\Local\\anaconda3\\envs\\Rosario\\Lib\\site-packages\\pyod\\models\\mad.py:129: RuntimeWarning: divide by zero encountered in divide\n",
      "  return np.nan_to_num(np.ravel(0.6745 * diff / self.median_diff_))\n",
      "c:\\Users\\s1248850\\AppData\\Local\\anaconda3\\envs\\Rosario\\Lib\\site-packages\\pyod\\models\\mad.py:129: RuntimeWarning: invalid value encountered in divide\n",
      "  return np.nan_to_num(np.ravel(0.6745 * diff / self.median_diff_))\n",
      "c:\\Users\\s1248850\\AppData\\Local\\anaconda3\\envs\\Rosario\\Lib\\site-packages\\numpy\\core\\fromnumeric.py:88: RuntimeWarning: overflow encountered in reduce\n",
      "  return ufunc.reduce(obj, axis, dtype, out, **passkwargs)\n",
      "c:\\Users\\s1248850\\AppData\\Local\\anaconda3\\envs\\Rosario\\Lib\\site-packages\\pyod\\models\\mad.py:129: RuntimeWarning: divide by zero encountered in divide\n",
      "  return np.nan_to_num(np.ravel(0.6745 * diff / self.median_diff_))\n",
      "c:\\Users\\s1248850\\AppData\\Local\\anaconda3\\envs\\Rosario\\Lib\\site-packages\\pyod\\models\\mad.py:129: RuntimeWarning: invalid value encountered in divide\n",
      "  return np.nan_to_num(np.ravel(0.6745 * diff / self.median_diff_))\n",
      "c:\\Users\\s1248850\\AppData\\Local\\anaconda3\\envs\\Rosario\\Lib\\site-packages\\numpy\\core\\fromnumeric.py:88: RuntimeWarning: overflow encountered in reduce\n",
      "  return ufunc.reduce(obj, axis, dtype, out, **passkwargs)\n",
      "c:\\Users\\s1248850\\AppData\\Local\\anaconda3\\envs\\Rosario\\Lib\\site-packages\\pyod\\models\\mad.py:129: RuntimeWarning: divide by zero encountered in divide\n",
      "  return np.nan_to_num(np.ravel(0.6745 * diff / self.median_diff_))\n",
      "c:\\Users\\s1248850\\AppData\\Local\\anaconda3\\envs\\Rosario\\Lib\\site-packages\\pyod\\models\\mad.py:129: RuntimeWarning: invalid value encountered in divide\n",
      "  return np.nan_to_num(np.ravel(0.6745 * diff / self.median_diff_))\n",
      "c:\\Users\\s1248850\\AppData\\Local\\anaconda3\\envs\\Rosario\\Lib\\site-packages\\numpy\\core\\fromnumeric.py:88: RuntimeWarning: overflow encountered in reduce\n",
      "  return ufunc.reduce(obj, axis, dtype, out, **passkwargs)\n",
      "c:\\Users\\s1248850\\AppData\\Local\\anaconda3\\envs\\Rosario\\Lib\\site-packages\\pyod\\models\\mad.py:129: RuntimeWarning: divide by zero encountered in divide\n",
      "  return np.nan_to_num(np.ravel(0.6745 * diff / self.median_diff_))\n",
      "c:\\Users\\s1248850\\AppData\\Local\\anaconda3\\envs\\Rosario\\Lib\\site-packages\\pyod\\models\\mad.py:129: RuntimeWarning: invalid value encountered in divide\n",
      "  return np.nan_to_num(np.ravel(0.6745 * diff / self.median_diff_))\n",
      "c:\\Users\\s1248850\\AppData\\Local\\anaconda3\\envs\\Rosario\\Lib\\site-packages\\numpy\\core\\fromnumeric.py:88: RuntimeWarning: overflow encountered in reduce\n",
      "  return ufunc.reduce(obj, axis, dtype, out, **passkwargs)\n"
     ]
    }
   ],
   "source": [
    "# Ahora sí, vamos a proceder a identificar los outliers las columnas de interés.\n",
    "# Para ello, vamos a usar el método de la desviación absoluta media (MAD).\n",
    "# Install pyod package\n",
    "#%pip install pyod\n",
    "\n",
    "# Import MAD estimator\n",
    "from pyod.models.mad import MAD\n",
    "\n",
    "# Se suele utilizar un umbral de 3.5 para considerar que un punto de datos es un outlier.\n",
    "mad = MAD(threshold = 3.5)\n",
    "columns_with_outliers = ['ch06', 'ch08', 'v5_m', 'v11_m', 'v12_m', 'ipcf', 'itf', 'ix_tot', 'ix_mayeq10']\n",
    "\n",
    "for column in columns_with_outliers:\n",
    "    # Para calcular el Z-score modificado, primero debemos tranformar las columnas en 2D numpy arrays.\n",
    "    total_reshaped = base_final[column].values.reshape(-1, 1)\n",
    "\n",
    "    # Clasificamos los puntos de datos en outliers (1) y no outliers (0)\n",
    "    labels = mad.fit(total_reshaped).labels_\n",
    "    print(f'Outliers for {column}: {np.sum(labels == 1)}')"
   ]
  },
  {
   "cell_type": "code",
   "execution_count": 44,
   "metadata": {},
   "outputs": [
    {
     "data": {
      "text/plain": [
       "(13666, 27)"
      ]
     },
     "execution_count": 44,
     "metadata": {},
     "output_type": "execute_result"
    }
   ],
   "source": [
    "# Por último, filtramos los outliers de cada columna y nos quedamos con un nuevo df.\n",
    "df_unificado = base_final.copy()\n",
    "df_unificado = df_unificado[labels == 0]\n",
    "df_unificado.shape"
   ]
  },
  {
   "cell_type": "markdown",
   "metadata": {},
   "source": [
    "4. Construya variables (mínimo 3) que no estén en la base pero que sean relevantes para predecir individuos desocupados (por ejemplo, la proporción de personas que trabajan en el hogar)."
   ]
  },
  {
   "cell_type": "code",
   "execution_count": 45,
   "metadata": {},
   "outputs": [
    {
     "name": "stdout",
     "output_type": "stream",
     "text": [
      "[1 3 2 4 0]\n"
     ]
    }
   ],
   "source": [
    "print(df_unificado['estado'].unique())"
   ]
  },
  {
   "cell_type": "code",
   "execution_count": 46,
   "metadata": {},
   "outputs": [],
   "source": [
    "# Primero, vamos a crear las variables que utilizamos en el tp3 para la predicción del desempleo.\n",
    "# La columna PEA (Población Económicamente Activa) que toma 1 si están ocupados o desocupados en ESTADO.\n",
    "df_unificado['PEA'] = df_unificado['estado'].apply(lambda x: 1 if x in [1, 2] else 0)"
   ]
  },
  {
   "cell_type": "code",
   "execution_count": 47,
   "metadata": {},
   "outputs": [
    {
     "name": "stdout",
     "output_type": "stream",
     "text": [
      "[1 0]\n"
     ]
    }
   ],
   "source": [
    "print(df_unificado['PEA'].unique())"
   ]
  },
  {
   "cell_type": "code",
   "execution_count": 48,
   "metadata": {},
   "outputs": [],
   "source": [
    "# La columna PET (Población en Edad para Trabajar) toma 1 si están la persona tiene entre 15 y 65 años cumplidos. \n",
    "df_unificado['PET'] = df_unificado['ch06'].apply(lambda x: 1 if 15 <= x <= 65 else 0)"
   ]
  },
  {
   "cell_type": "code",
   "execution_count": 49,
   "metadata": {},
   "outputs": [
    {
     "name": "stdout",
     "output_type": "stream",
     "text": [
      "[0 1]\n"
     ]
    }
   ],
   "source": [
    "print(df_unificado['PET'].unique())"
   ]
  },
  {
   "cell_type": "code",
   "execution_count": 50,
   "metadata": {},
   "outputs": [],
   "source": [
    "# Agregamos una columna llamada desocupado que tome 1 si esta desocupada\n",
    "df_unificado['desocupado'] = df_unificado['estado'].apply(lambda x: 1 if x == 2 else 0)\n"
   ]
  },
  {
   "cell_type": "code",
   "execution_count": 51,
   "metadata": {},
   "outputs": [
    {
     "name": "stdout",
     "output_type": "stream",
     "text": [
      "[0 1]\n"
     ]
    }
   ],
   "source": [
    "print(df_unificado['desocupado'].unique())"
   ]
  },
  {
   "cell_type": "code",
   "execution_count": 52,
   "metadata": {},
   "outputs": [],
   "source": [
    "# Ahora vamos a crear una nueva columna que contenga la proporción de personas que trabajan en el hogar.\n",
    "# Para esto, vamos a dividir la cantidad de personas ocupadas en el hogar por la cantidad total de personas en el hogar.\n",
    "df_unificado['prop_ocupados'] = df_unificado['PEA'] / df_unificado['ix_tot']\n",
    "\n",
    "# Ahora vamos a crear una nueva columna que contenga la proporción de personas que reciben subsidio o ayuda social en el hogar.\n",
    "# Para esto, vamos a dividir la cantidad de personas que reciben subsidio o ayuda social en el hogar por la cantidad total de personas en el hogar.\n",
    "df_unificado['prop_subsidio'] = base_final['v5'] / df_unificado['ix_tot']\n",
    "\n",
    "# Crear una nueva columna que contenga la proporción de personas menores de 10 años en el hogar.\n",
    "# Para esto, vamos a dividir la cantidad de personas menores de 10 años en el hogar por la cantidad total de personas en el hogar.\n",
    "df_unificado['prop_menores_10'] = df_unificado['ix_mayeq10'] / df_unificado['ix_tot']"
   ]
  },
  {
   "cell_type": "markdown",
   "metadata": {},
   "source": [
    "5. Presenten estadísticas descriptivas de tres variables de la encuesta de hogar que ustedes creen que pueden ser relevantes para predecir la desocupación. Comenten las estadísticas obtenidas."
   ]
  },
  {
   "cell_type": "markdown",
   "metadata": {},
   "source": [
    "Por último, vamos a crear dummmys de todas las variables que son categóricas para las regresiones."
   ]
  },
  {
   "cell_type": "code",
   "execution_count": 53,
   "metadata": {},
   "outputs": [
    {
     "name": "stdout",
     "output_type": "stream",
     "text": [
      "Index(['codusu', 'nro_hogar', 'ano4_x', 'ch04', 'ch06', 'ch07', 'ch08',\n",
      "       'nivel_ed', 'estado', 'cat_inac', 'v5_m', 'v11_m', 'v12_m', 'ipcf',\n",
      "       'pp02h', 'pp02i', 'ano4_y', 'iv5', 'iv12_1', 'v5', 'v6', 'v7', 'v11',\n",
      "       'ix_tot', 'ix_mayeq10', 'itf', 'Año', 'PEA', 'PET', 'desocupado',\n",
      "       'prop_ocupados', 'prop_subsidio', 'prop_menores_10', 'ch04_2',\n",
      "       'pp02h_2', 'pp02i_2', 'iv5_2', 'iv12_1_2', 'v5_2', 'v6_2', 'v7_2',\n",
      "       'v11_2', 'ch07_1', 'ch07_2', 'ch07_3', 'ch07_4', 'ch07_5', 'ch07_9',\n",
      "       'ch08_1', 'ch08_2', 'ch08_3', 'ch08_4', 'ch08_9', 'ch08_12', 'ch08_13',\n",
      "       'ch08_23', 'nivel_ed_1', 'nivel_ed_2', 'nivel_ed_3', 'nivel_ed_4',\n",
      "       'nivel_ed_5', 'nivel_ed_6', 'nivel_ed_7', 'cat_inac_0.0',\n",
      "       'cat_inac_1.0', 'cat_inac_2.0', 'cat_inac_3.0', 'cat_inac_4.0',\n",
      "       'cat_inac_5.0', 'cat_inac_6.0', 'cat_inac_7.0', 'cat_inac_9.0'],\n",
      "      dtype='object')\n",
      "     codusu  nro_hogar  ano4_x  ch04  ch06  ch07  ch08  nivel_ed  estado  \\\n",
      "0  125397          1.0  2004.0     2  67.0     3     2         2       1   \n",
      "1  125558          1.0  2004.0     1  54.0     2     3         2       1   \n",
      "2  125558          1.0  2004.0     2  51.0     2     3         6       3   \n",
      "3  125558          1.0  2004.0     2  25.0     5     3         5       1   \n",
      "4  125558          1.0  2004.0     2  20.0     5     3         5       1   \n",
      "\n",
      "   cat_inac  ...  nivel_ed_7  cat_inac_0.0  cat_inac_1.0  cat_inac_2.0  \\\n",
      "0       9.0  ...       False         False         False         False   \n",
      "1       9.0  ...       False         False         False         False   \n",
      "2       4.0  ...       False         False         False         False   \n",
      "3       9.0  ...       False         False         False         False   \n",
      "4       9.0  ...       False         False         False         False   \n",
      "\n",
      "   cat_inac_3.0  cat_inac_4.0  cat_inac_5.0  cat_inac_6.0  cat_inac_7.0  \\\n",
      "0         False         False         False         False         False   \n",
      "1         False         False         False         False         False   \n",
      "2         False          True         False         False         False   \n",
      "3         False         False         False         False         False   \n",
      "4         False         False         False         False         False   \n",
      "\n",
      "   cat_inac_9.0  \n",
      "0          True  \n",
      "1          True  \n",
      "2         False  \n",
      "3          True  \n",
      "4          True  \n",
      "\n",
      "[5 rows x 72 columns]\n"
     ]
    }
   ],
   "source": [
    "#Transformamos género en binaria \n",
    "df_unificado['ch04_2'] = df_unificado['ch04'].replace({1: 0, 2: 1})\n",
    "\n",
    "#Creamos dummies para ch07 \n",
    "dummies_ch07 = pd.get_dummies(df_unificado['ch07'], prefix='ch07', drop_first=False)\n",
    "\n",
    "#Cremamos dummies para ch08\n",
    "dummies_ch08 = pd.get_dummies(df_unificado['ch08'], prefix='ch08', drop_first=False)\n",
    "\n",
    "#Creamos dummies para nivel_ed\n",
    "dummies_nivel_ed = pd.get_dummies(df_unificado['nivel_ed'], prefix='nivel_ed', drop_first=False)\n",
    "\n",
    "#Creanis dummies para cat_inac\n",
    "dummies_cat_inac = pd.get_dummies(df_unificado['cat_inac'], prefix='cat_inac', drop_first=False)\n",
    "\n",
    "#Transformamos pp02h en binaria\n",
    "df_unificado['pp02h_2'] = df_unificado['pp02h'].replace({1: 0, 2: 1})\n",
    "\n",
    "#Transformamos pp02i en binaria\n",
    "df_unificado['pp02i_2'] = df_unificado['pp02i'].replace({1: 0, 2: 1})\n",
    "\n",
    "#Transformamos iv5 en binaria\n",
    "df_unificado['iv5_2'] = df_unificado['iv5'].replace({1: 0, 2: 1})\n",
    "\n",
    "#Transformamos iv12_1 en binaria\n",
    "df_unificado['iv12_1_2'] = df_unificado['iv12_1'].replace({1: 0, 2: 1})\n",
    "\n",
    "#Transformamos v5 en binaria\n",
    "df_unificado['v5_2'] = df_unificado['v5'].replace({1: 0, 2: 1})\n",
    "\n",
    "#Transformamos v6 en binaria\n",
    "df_unificado['v6_2'] = df_unificado['v6'].replace({1: 0, 2: 1})\n",
    "\n",
    "#Transformamos v7 en binaria\n",
    "df_unificado['v7_2'] = df_unificado['v7'].replace({1: 0, 2: 1})\n",
    "\n",
    "#Transformamos v11 en binaria\n",
    "df_unificado['v11_2'] = df_unificado['v11'].replace({1: 0, 2: 1})\n",
    "\n",
    "#Creamos un nuevo dataframe con las variables dummies\n",
    "df_unificado_2 = pd.concat([df_unificado, dummies_ch07, dummies_ch08, dummies_nivel_ed, dummies_cat_inac], axis=1)\n",
    "\n",
    "print(df_unificado_2.columns)\n",
    "print(df_unificado_2.head())"
   ]
  },
  {
   "cell_type": "markdown",
   "metadata": {},
   "source": [
    "#### Parte II: Clasificación y regularización"
   ]
  },
  {
   "cell_type": "markdown",
   "metadata": {},
   "source": [
    "1. Para cada año, partan la base respondieron en una base de prueba y una de entrenamiento (X_train, y_train, X_test, y_test) utilizando\n",
    "el comando train_test_split. La base de entrenamiento debe comprender el 70% de los datos, y la semilla a utilizar (random state\n",
    "instance) debe ser 101. Establezca a desocupado como su variable dependiente en la base de entrenamiento (vector y). El resto de las variables serán las variables independientes (matriz X). Recuerden agregar la columna de unos (1)."
   ]
  },
  {
   "cell_type": "markdown",
   "metadata": {},
   "source": [
    "Antes de hacer esto, sería importante considerar el feedback que nos dejó Nacho.\n",
    "Parte II:\n",
    "#### Creo que, si bien hicieron unas variables que tienen sentido ordinal, para los modelos hubiera creado dummies para las variables categóricas. Es más seguro.\n",
    "- Habría que preguntarle si crear dummies para absolutamente todas las variables categóricas que tiene la base final.\n",
    "#### Hay algún problema con la convergencia de la regresión logística, no termino de entender por qué.\n",
    "- Si ahora la parte de preprocesamiento de datos está bien, esto no debería volver a pasar. \n",
    "#### Me gustan mucho las figuras de ROC de todos los modelos juntos, pero por algún motivo que no comprendo les dieron valores de Accuracy y AUC bastante peores que sus compañeras. Igual se los consideré bien porque los modelos están bien hechos (salvo el tema de las dummies).\n",
    "- Idem al anterior\n",
    "#### Definitivamente no hubiera utilizado la variable PEA para el entrenamiento de los modelos. Piensen que para crearla utilizaron la variable estado.\n",
    "- Tener en mente la posibilidad de sacar las variables madres de otras variables que creemos. Si podemos pensar entre todas que variables que podamos crear nos evitaría tener tantas variables categóricas, como en el caso de PEA, nos ahorraría tiempo.\n",
    "#### Sacar la variable estado de la base final"
   ]
  },
  {
   "cell_type": "code",
   "execution_count": 54,
   "metadata": {},
   "outputs": [],
   "source": [
    "import statsmodels.api as sm     \n",
    "\n",
    "from sklearn import datasets\n",
    "from sklearn.linear_model import LogisticRegression\n",
    "from sklearn.model_selection import train_test_split\n",
    "from sklearn.metrics import confusion_matrix\n",
    "from sklearn.metrics import accuracy_score, recall_score \n",
    "from sklearn.metrics import roc_curve\n",
    "from sklearn.metrics import roc_auc_score\n",
    "from sklearn.metrics import RocCurveDisplay\n",
    "#from sklearn.metrics import plot_roc_curve\n",
    "from sklearn.discriminant_analysis import LinearDiscriminantAnalysis\n",
    "from sklearn.neighbors import KNeighborsClassifier\n",
    "from sklearn.preprocessing import StandardScaler\n",
    "\n"
   ]
  },
  {
   "cell_type": "markdown",
   "metadata": {},
   "source": [
    "Variables que hay que droppear: 'codusu', 'nro_hogar', 'ano4_x', 'ch04', 'ch07', 'ch08', 'nivel_ed', 'estado', 'cat_inac', 'pp02h', 'pp02i', 'ano4_y', 'iv5', 'iv12_1', 'v5', 'v6', 'v7', 'v11'"
   ]
  },
  {
   "cell_type": "code",
   "execution_count": 55,
   "metadata": {},
   "outputs": [
    {
     "data": {
      "text/plain": [
       "<bound method NDFrame.head of        ch06  v5_m  v11_m  v12_m   ipcf  ix_tot  ix_mayeq10     itf   Año  PEA  \\\n",
       "0      67.0   0.0    0.0    0.0    0.0     1.0         1.0     0.0  2004    1   \n",
       "1      54.0   0.0    0.0    0.0  532.5     4.0         4.0  2130.0  2004    1   \n",
       "2      51.0   0.0    0.0    0.0  532.5     4.0         4.0  2130.0  2004    0   \n",
       "3      25.0   0.0    0.0    0.0  532.5     4.0         4.0  2130.0  2004    1   \n",
       "4      20.0   0.0    0.0    0.0  532.5     4.0         4.0  2130.0  2004    1   \n",
       "...     ...   ...    ...    ...    ...     ...         ...     ...   ...  ...   \n",
       "13740  43.0   0.0    0.0    0.0    0.0     5.0         5.0     0.0  2024    1   \n",
       "13741  21.0   0.0    0.0    0.0    0.0     5.0         5.0     0.0  2024    0   \n",
       "13742  20.0   0.0    0.0    0.0    0.0     5.0         5.0     0.0  2024    0   \n",
       "13743  11.0   0.0    0.0    0.0    0.0     5.0         5.0     0.0  2024    0   \n",
       "13744  24.0   0.0    0.0    0.0    0.0     5.0         5.0     0.0  2024    0   \n",
       "\n",
       "       ...  nivel_ed_7  cat_inac_0.0  cat_inac_1.0  cat_inac_2.0  \\\n",
       "0      ...       False         False         False         False   \n",
       "1      ...       False         False         False         False   \n",
       "2      ...       False         False         False         False   \n",
       "3      ...       False         False         False         False   \n",
       "4      ...       False         False         False         False   \n",
       "...    ...         ...           ...           ...           ...   \n",
       "13740  ...       False          True         False         False   \n",
       "13741  ...       False          True         False         False   \n",
       "13742  ...       False          True         False         False   \n",
       "13743  ...       False          True         False         False   \n",
       "13744  ...       False          True         False         False   \n",
       "\n",
       "       cat_inac_3.0  cat_inac_4.0  cat_inac_5.0  cat_inac_6.0  cat_inac_7.0  \\\n",
       "0             False         False         False         False         False   \n",
       "1             False         False         False         False         False   \n",
       "2             False          True         False         False         False   \n",
       "3             False         False         False         False         False   \n",
       "4             False         False         False         False         False   \n",
       "...             ...           ...           ...           ...           ...   \n",
       "13740         False         False         False         False         False   \n",
       "13741         False         False         False         False         False   \n",
       "13742         False         False         False         False         False   \n",
       "13743         False         False         False         False         False   \n",
       "13744         False         False         False         False         False   \n",
       "\n",
       "       cat_inac_9.0  \n",
       "0              True  \n",
       "1              True  \n",
       "2             False  \n",
       "3              True  \n",
       "4              True  \n",
       "...             ...  \n",
       "13740         False  \n",
       "13741         False  \n",
       "13742         False  \n",
       "13743         False  \n",
       "13744         False  \n",
       "\n",
       "[13666 rows x 54 columns]>"
      ]
     },
     "execution_count": 55,
     "metadata": {},
     "output_type": "execute_result"
    }
   ],
   "source": [
    "#hago solo un df con las variables dummisadas\n",
    "df_regresion = df_unificado_2.drop(['codusu', 'nro_hogar', 'ano4_x', 'ch04', 'ch07', 'ch08', 'nivel_ed', 'estado', 'cat_inac', 'ano4_y', 'pp02h', 'pp02i','iv5', 'iv12_1', 'v5', 'v6', 'v7', 'v11'], axis=1)\n",
    "df_regresion.head"
   ]
  },
  {
   "cell_type": "code",
   "execution_count": 56,
   "metadata": {},
   "outputs": [
    {
     "name": "stdout",
     "output_type": "stream",
     "text": [
      "[0 1]\n"
     ]
    }
   ],
   "source": [
    "print(df_regresion['desocupado'].unique())"
   ]
  },
  {
   "cell_type": "code",
   "execution_count": 57,
   "metadata": {},
   "outputs": [],
   "source": [
    "# Entrenaremos con el 70% de la base de datos del 2004 y el resto se usarán para testear \n",
    "# el modelo obtenido\n",
    "# Split the data into training and testing sets\n",
    "# Filtrar los datos para 2004\n",
    "unificado_2004 = df_regresion[df_regresion['Año'] == 2004.0]\n",
    "\n",
    "# Filtrar los datos para 2024\n",
    "unificado_2024 = df_regresion[df_regresion['Año'] == 2024.0]\n",
    "\n",
    "# Dividir los datos de 2004 en conjuntos de entrenamiento y prueba\n",
    "train2004, test2004 = train_test_split(unificado_2004, test_size=0.3, random_state=101)\n",
    "\n",
    "# Dividir los datos de 2024 en conjuntos de entrenamiento y prueba\n",
    "train2024, test2024 = train_test_split(unificado_2024, test_size=0.3, random_state=101)\n",
    "# Define the dependent variable y and the independent variables X\n",
    "y_train_2004 = train2004[['desocupado']]\n",
    "X_train_2004 = train2004.drop(columns=['desocupado'])\n",
    "\n",
    "y_test_2004 = test2004[['desocupado']]\n",
    "X_test_2004 = test2004.drop(columns=['desocupado'])\n",
    "\n",
    "# Add a column of ones to X_train and X_test\n",
    "X_train_2004 = X_train_2004.assign(intercept=1)\n",
    "X_test_2004 = X_test_2004.assign(intercept=1)\n",
    "\n",
    "# Repito lo mismo para el 2024\n",
    "train2024, test2024 = train_test_split(unificado_2024, test_size=0.3, random_state=101)\n",
    "# Define the dependent variable y and the independent variables X\n",
    "y_test_2024 = test2024[['desocupado']]\n",
    "X_test_2024 = test2024.drop(columns=['desocupado'])\n",
    "\n",
    "y_train_2024 = train2024[['desocupado']]\n",
    "X_train_2024 = train2024.drop(columns=['desocupado'])"
   ]
  },
  {
   "cell_type": "code",
   "execution_count": 58,
   "metadata": {},
   "outputs": [
    {
     "data": {
      "text/html": [
       "<div>\n",
       "<style scoped>\n",
       "    .dataframe tbody tr th:only-of-type {\n",
       "        vertical-align: middle;\n",
       "    }\n",
       "\n",
       "    .dataframe tbody tr th {\n",
       "        vertical-align: top;\n",
       "    }\n",
       "\n",
       "    .dataframe thead th {\n",
       "        text-align: right;\n",
       "    }\n",
       "</style>\n",
       "<table border=\"1\" class=\"dataframe\">\n",
       "  <thead>\n",
       "    <tr style=\"text-align: right;\">\n",
       "      <th></th>\n",
       "      <th>desocupado</th>\n",
       "    </tr>\n",
       "  </thead>\n",
       "  <tbody>\n",
       "    <tr>\n",
       "      <th>2249</th>\n",
       "      <td>True</td>\n",
       "    </tr>\n",
       "    <tr>\n",
       "      <th>1864</th>\n",
       "      <td>True</td>\n",
       "    </tr>\n",
       "    <tr>\n",
       "      <th>6470</th>\n",
       "      <td>False</td>\n",
       "    </tr>\n",
       "    <tr>\n",
       "      <th>1376</th>\n",
       "      <td>True</td>\n",
       "    </tr>\n",
       "    <tr>\n",
       "      <th>3544</th>\n",
       "      <td>True</td>\n",
       "    </tr>\n",
       "    <tr>\n",
       "      <th>...</th>\n",
       "      <td>...</td>\n",
       "    </tr>\n",
       "    <tr>\n",
       "      <th>599</th>\n",
       "      <td>True</td>\n",
       "    </tr>\n",
       "    <tr>\n",
       "      <th>5754</th>\n",
       "      <td>True</td>\n",
       "    </tr>\n",
       "    <tr>\n",
       "      <th>1361</th>\n",
       "      <td>True</td>\n",
       "    </tr>\n",
       "    <tr>\n",
       "      <th>1547</th>\n",
       "      <td>False</td>\n",
       "    </tr>\n",
       "    <tr>\n",
       "      <th>5006</th>\n",
       "      <td>False</td>\n",
       "    </tr>\n",
       "  </tbody>\n",
       "</table>\n",
       "<p>4751 rows × 1 columns</p>\n",
       "</div>"
      ],
      "text/plain": [
       "      desocupado\n",
       "2249        True\n",
       "1864        True\n",
       "6470       False\n",
       "1376        True\n",
       "3544        True\n",
       "...          ...\n",
       "599         True\n",
       "5754        True\n",
       "1361        True\n",
       "1547       False\n",
       "5006       False\n",
       "\n",
       "[4751 rows x 1 columns]"
      ]
     },
     "execution_count": 58,
     "metadata": {},
     "output_type": "execute_result"
    }
   ],
   "source": [
    "y_train_2004 == 0"
   ]
  },
  {
   "cell_type": "code",
   "execution_count": 59,
   "metadata": {},
   "outputs": [
    {
     "name": "stdout",
     "output_type": "stream",
     "text": [
      "El conjunto de entrenamiento del 2004 tiene 4751 observaciones.\n",
      "El conjunto de test del 2004 tiene 2037 observaciones.\n",
      "El conjunto de entrenamiento del 2024 tiene 4814 observaciones.\n",
      "El conjunto de test del 2024 tiene 2064 observaciones.\n"
     ]
    }
   ],
   "source": [
    "# Revisamos cuantas observaciones quedaron para Test y cuantas para Entrenamiento.\n",
    "print(f'El conjunto de entrenamiento del 2004 tiene {len(X_train_2004)} observaciones.')\n",
    "print(f'El conjunto de test del 2004 tiene {len(X_test_2004)} observaciones.')\n",
    "print(f'El conjunto de entrenamiento del 2024 tiene {len(X_train_2024)} observaciones.')\n",
    "print(f'El conjunto de test del 2024 tiene {len(X_test_2024)} observaciones.')"
   ]
  },
  {
   "cell_type": "markdown",
   "metadata": {},
   "source": [
    "Expliquen brevemente cómo elegirían λ por validación cruzada (en Python es alpha). Detallen por qué no usarían el conjunto de prueba (test) para su elección"
   ]
  },
  {
   "cell_type": "markdown",
   "metadata": {},
   "source": [
    "En validación cruzada, ¿cuáles son las implicancias de usar un k muy\n",
    "pequeño o uno muy grande? Cuando k = n (con n el número de\n",
    "muestras), ¿cuántas veces se estima el modelo?"
   ]
  },
  {
   "cell_type": "markdown",
   "metadata": {},
   "source": [
    "Para regresión logística, implementen la penalidad, L1 como la de\n",
    "LASSO y L2 como la de Ridge con λ = 1 (como en la Tutorial 10), usando\n",
    "la opción penalty y reporten la matriz de confusión, la curva ROC, los\n",
    "valores de AUC y de Accuracy para cada año.1 ¿Cómo cambiaron los\n",
    "resultados con respecto al TP3? ¿La performance de regresión logística\n",
    "con regularización es mejor o peor?"
   ]
  },
  {
   "cell_type": "code",
   "execution_count": null,
   "metadata": {},
   "outputs": [],
   "source": [
    "#antes de hacer la regresión, necesitamos estandarizar las variables\n",
    "# Estadisticas antes de estandarizar, base 2004\n",
    "X_train_2004.describe().T"
   ]
  },
  {
   "cell_type": "code",
   "execution_count": null,
   "metadata": {},
   "outputs": [],
   "source": [
    "# Estadisticas antes de estandarizar\n",
    "X_train_2024.describe().T\n"
   ]
  },
  {
   "cell_type": "code",
   "execution_count": null,
   "metadata": {},
   "outputs": [],
   "source": [
    "#primero para 2004\n",
    "#  Iniciamos el Standard Scaler\n",
    "sc = StandardScaler()\n",
    "\n",
    "# Estandarizamos las observaciones de entrenamiento\n",
    "X_train_2004_transformed = pd.DataFrame(sc.fit_transform(X_train_2004), index= X_train_2004.index, columns=X_train_2004.columns)\n",
    "\n",
    "# Estandarizamos las observaciones de test\n",
    "X_test_2004_transformed = pd.DataFrame(sc.transform(X_test_2004), index=X_test_2004.index, columns=X_test_2004.columns)\n",
    "\n",
    "# Estadisticas luego de estandarizar\n",
    "X_train_2004_transformed.describe().T\n"
   ]
  },
  {
   "cell_type": "code",
   "execution_count": null,
   "metadata": {},
   "outputs": [],
   "source": [
    "#ahora para 2024\n",
    "#  Iniciamos el Standard Scaler\n",
    "sc = StandardScaler()\n",
    "\n",
    "# Estandarizamos las observaciones de entrenamiento\n",
    "X_train_2024_transformed = pd.DataFrame(sc.fit_transform(X_train_2024), index=X_train_2024.index, columns=X_train_2024.columns)\n",
    "\n",
    "# Estandarizamos las observaciones de test\n",
    "X_test_2024_transformed = pd.DataFrame(sc.transform(X_test_2024), index=X_test_2024.index, columns=X_test_2024.columns)\n",
    "\n",
    "# Estadisticas luego de estandarizar\n",
    "X_train_2024_transformed.describe().T\n"
   ]
  },
  {
   "cell_type": "code",
   "execution_count": 64,
   "metadata": {},
   "outputs": [
    {
     "data": {
      "text/html": [
       "<div>\n",
       "<style scoped>\n",
       "    .dataframe tbody tr th:only-of-type {\n",
       "        vertical-align: middle;\n",
       "    }\n",
       "\n",
       "    .dataframe tbody tr th {\n",
       "        vertical-align: top;\n",
       "    }\n",
       "\n",
       "    .dataframe thead th {\n",
       "        text-align: right;\n",
       "    }\n",
       "</style>\n",
       "<table border=\"1\" class=\"dataframe\">\n",
       "  <thead>\n",
       "    <tr style=\"text-align: right;\">\n",
       "      <th></th>\n",
       "      <th>desocupado</th>\n",
       "    </tr>\n",
       "  </thead>\n",
       "  <tbody>\n",
       "    <tr>\n",
       "      <th>2249</th>\n",
       "      <td>0</td>\n",
       "    </tr>\n",
       "    <tr>\n",
       "      <th>1864</th>\n",
       "      <td>0</td>\n",
       "    </tr>\n",
       "    <tr>\n",
       "      <th>6470</th>\n",
       "      <td>1</td>\n",
       "    </tr>\n",
       "    <tr>\n",
       "      <th>1376</th>\n",
       "      <td>0</td>\n",
       "    </tr>\n",
       "    <tr>\n",
       "      <th>3544</th>\n",
       "      <td>0</td>\n",
       "    </tr>\n",
       "  </tbody>\n",
       "</table>\n",
       "</div>"
      ],
      "text/plain": [
       "      desocupado\n",
       "2249           0\n",
       "1864           0\n",
       "6470           1\n",
       "1376           0\n",
       "3544           0"
      ]
     },
     "execution_count": 64,
     "metadata": {},
     "output_type": "execute_result"
    }
   ],
   "source": [
    "y_train_2004.head()"
   ]
  },
  {
   "cell_type": "markdown",
   "metadata": {},
   "source": [
    "Ahora si, comenzamos con las regresiones"
   ]
  },
  {
   "cell_type": "code",
   "execution_count": 125,
   "metadata": {},
   "outputs": [
    {
     "name": "stdout",
     "output_type": "stream",
     "text": [
      "Resultados para 2004:\n",
      "Accuracy: 0.9199803632793323\n",
      "MSE:  0.08001963672066764\n",
      "Classification Report:\n",
      "              precision    recall  f1-score   support\n",
      "\n",
      "           0       0.92      0.99      0.96      1868\n",
      "           1       0.60      0.11      0.18       169\n",
      "\n",
      "    accuracy                           0.92      2037\n",
      "   macro avg       0.76      0.55      0.57      2037\n",
      "weighted avg       0.90      0.92      0.89      2037\n",
      "\n",
      "\n",
      "Coeficientes del modelo 2004:\n",
      "[[-0.37140636 -0.01368321 -0.00810487  0.18238401 -1.78684533  0.34512033\n",
      "  -0.36397041 -0.09920594  0.          1.41442784 -0.3740541   0.67212603\n",
      "  -0.62097318  0.39403881  0.25453439  0.42455623  0.42968008 -0.0505948\n",
      "   0.11104471  0.03387683 -0.00236052 -0.07461975  0.14656582 -0.12688808\n",
      "  -0.08671972 -0.1115387  -0.0423329   0.22028913  0.         -0.18009229\n",
      "   0.20573707  0.02237808  0.         -0.18701507 -0.08353503  0.\n",
      "  -0.09203651 -0.04297996 -0.03745077 -0.05835663  0.09690473  0.12722946\n",
      "   0.02044965 -0.08228703  0.          0.         -0.01833281 -0.73320845\n",
      "  -0.18609063 -0.58097921 -0.06399369 -0.12301004  1.12445794  0.        ]]\n"
     ]
    },
    {
     "name": "stderr",
     "output_type": "stream",
     "text": [
      "c:\\Users\\s1248850\\AppData\\Local\\anaconda3\\envs\\Rosario\\Lib\\site-packages\\sklearn\\utils\\validation.py:1339: DataConversionWarning: A column-vector y was passed when a 1d array was expected. Please change the shape of y to (n_samples, ), for example using ravel().\n",
      "  y = column_or_1d(y, warn=True)\n"
     ]
    }
   ],
   "source": [
    "import numpy as np\n",
    "from sklearn.linear_model import LogisticRegression\n",
    "from sklearn.preprocessing import StandardScaler\n",
    "from sklearn.metrics import mean_squared_error\n",
    "from sklearn.metrics import accuracy_score, classification_report\n",
    "# Crear y ajustar el modelo para 2004\n",
    "modelo_2004 = LogisticRegression(penalty='l2', C=1, solver='lbfgs', random_state=101)\n",
    "modelo_2004.fit(X_train_2004_transformed, y_train_2004)\n",
    "\n",
    "# Hacer predicciones y evaluar el modelo para 2004\n",
    "y_pred_2004_ridge = modelo_2004.predict(X_test_2004_transformed)\n",
    "accuracy_2004 = accuracy_score(y_test_2004, y_pred_2004_ridge)\n",
    "ecm_a1 = mean_squared_error(y_test_2004, y_pred_2004_ridge)\n",
    "\n",
    "\n",
    "print(\"Resultados para 2004:\")\n",
    "print(f\"Accuracy: {accuracy_2004}\")\n",
    "print(\"MSE: \", ecm_a1)\n",
    "print(\"Classification Report:\")\n",
    "print(classification_report(y_test_2004, y_pred_2004_ridge))\n",
    "# Si quieres ver los coeficientes de los modelos\n",
    "print(\"\\nCoeficientes del modelo 2004:\")\n",
    "print(modelo_2004.coef_)"
   ]
  },
  {
   "cell_type": "code",
   "execution_count": 128,
   "metadata": {},
   "outputs": [
    {
     "name": "stdout",
     "output_type": "stream",
     "text": [
      "Resultados para 2024:\n",
      "Accuracy: 0.9563953488372093\n",
      "MSE:  0.0436046511627907\n",
      "Classification Report:\n",
      "              precision    recall  f1-score   support\n",
      "\n",
      "           0       0.96      1.00      0.98      1978\n",
      "           1       0.25      0.02      0.04        86\n",
      "\n",
      "    accuracy                           0.96      2064\n",
      "   macro avg       0.60      0.51      0.51      2064\n",
      "weighted avg       0.93      0.96      0.94      2064\n",
      "\n",
      "\n",
      "Coeficientes del modelo 2024:\n",
      "[[-0.57827399 -0.06674551  0.03792297  0.05741556 -1.10767763 -0.33934144\n",
      "   0.12062272  0.67542866  0.          1.12913921 -0.17553744  0.02575355\n",
      "  -0.13129007  0.10901265  0.13774283 -0.50080121 -0.48759343  0.05604181\n",
      "   0.02215281  0.07568878 -0.15882536 -0.51875352 -0.05650332 -0.1340867\n",
      "   0.04477075  0.05746104 -0.0972803   0.09321934 -0.10682751 -0.31453507\n",
      "  -0.00403567 -0.00535763  0.39210065 -0.2345684  -0.05532639  0.00682279\n",
      "   0.         -0.35403059  0.16636284  0.07223171  0.2047034   0.17440199\n",
      "   0.00177289 -0.49003266  0.8989091   0.03283867 -0.0588504  -0.6363601\n",
      "  -0.2883548  -0.34266218 -0.06897217 -0.2226214   0.        ]]\n"
     ]
    },
    {
     "name": "stderr",
     "output_type": "stream",
     "text": [
      "c:\\Users\\s1248850\\AppData\\Local\\anaconda3\\envs\\Rosario\\Lib\\site-packages\\sklearn\\utils\\validation.py:1339: DataConversionWarning: A column-vector y was passed when a 1d array was expected. Please change the shape of y to (n_samples, ), for example using ravel().\n",
      "  y = column_or_1d(y, warn=True)\n"
     ]
    }
   ],
   "source": [
    "# Crear y ajustar el modelo para 2024\n",
    "modelo_2024 = LogisticRegression(penalty='l2', C=1, solver='lbfgs', random_state=101)\n",
    "modelo_2024.fit(X_train_2024_transformed, y_train_2024)\n",
    "\n",
    "# Hacer predicciones y evaluar el modelo para 2024\n",
    "y_pred_2024_ridge = modelo_2024.predict(X_test_2024_transformed)\n",
    "accuracy_2024 = accuracy_score(y_test_2024, y_pred_2024_ridge)\n",
    "ecm_a1_2024 = mean_squared_error(y_test_2024, y_pred_2024_ridge)\n",
    "\n",
    "\n",
    "\n",
    "print(\"Resultados para 2024:\")\n",
    "print(f\"Accuracy: {accuracy_2024}\")\n",
    "print(\"MSE: \", ecm_a1_2024)\n",
    "print(\"Classification Report:\")\n",
    "print(classification_report(y_test_2024, y_pred_2024_ridge))\n",
    "print(\"\\nCoeficientes del modelo 2024:\")\n",
    "print(modelo_2024.coef_)"
   ]
  },
  {
   "cell_type": "markdown",
   "metadata": {},
   "source": [
    "Aca hago Lasso con CV"
   ]
  },
  {
   "cell_type": "code",
   "execution_count": 127,
   "metadata": {},
   "outputs": [
    {
     "name": "stderr",
     "output_type": "stream",
     "text": [
      "c:\\Users\\s1248850\\AppData\\Local\\anaconda3\\envs\\Rosario\\Lib\\site-packages\\sklearn\\utils\\validation.py:1339: DataConversionWarning: A column-vector y was passed when a 1d array was expected. Please change the shape of y to (n_samples, ), for example using ravel().\n",
      "  y = column_or_1d(y, warn=True)\n"
     ]
    },
    {
     "name": "stdout",
     "output_type": "stream",
     "text": [
      "Accuracy: 0.9185076092292587\n",
      "MSE 0.08001963672066764\n",
      "Coeficientes:\n",
      "ch06: -0.34642306194188355\n",
      "v5_m: 0.0\n",
      "v11_m: 0.0\n",
      "v12_m: 0.1777912654477515\n",
      "ipcf: -2.021228144341268\n",
      "ix_tot: 0.11585319586070124\n",
      "ix_mayeq10: -0.15909860825497182\n",
      "itf: 0.0\n",
      "Año: 0.0\n",
      "PEA: 3.5013695033674517\n",
      "PET: -0.34113961150952593\n",
      "prop_ocupados: 0.05700770208058229\n",
      "prop_subsidio: -0.08409235370307154\n",
      "prop_menores_10: 0.2621644916033526\n",
      "ch04_2: 0.2497773437755502\n",
      "pp02h_2: 0.0\n",
      "pp02i_2: 0.0\n",
      "iv5_2: -0.04273713626739382\n",
      "iv12_1_2: 0.10535500901811622\n",
      "v5_2: -0.0565185319831881\n",
      "v6_2: 0.0\n",
      "v7_2: -0.06442699344998921\n",
      "v11_2: 0.13756370122096248\n",
      "ch07_1: -0.061099629895146675\n",
      "ch07_2: 0.0\n",
      "ch07_3: -0.07106138466893948\n",
      "ch07_4: -0.010237989258501485\n",
      "ch07_5: 0.32793417930470725\n",
      "ch07_9: 0.0\n",
      "ch08_1: -0.2145400461938169\n",
      "ch08_2: 0.15791759711300266\n",
      "ch08_3: 0.0\n",
      "ch08_4: 0.0\n",
      "ch08_9: -0.13728357763479956\n",
      "ch08_12: -0.08542574381048865\n",
      "ch08_13: 0.0\n",
      "ch08_23: -0.02216738688361458\n",
      "nivel_ed_1: -0.0018309131117231895\n",
      "nivel_ed_2: 0.0\n",
      "nivel_ed_3: -0.01888577134014419\n",
      "nivel_ed_4: 0.1271445298334291\n",
      "nivel_ed_5: 0.1541738901348815\n",
      "nivel_ed_6: 0.04152069476894778\n",
      "nivel_ed_7: -0.012059619293252615\n",
      "cat_inac_0.0: 0.0\n",
      "cat_inac_1.0: 0.0\n",
      "cat_inac_2.0: 0.0\n",
      "cat_inac_3.0: 0.0\n",
      "cat_inac_4.0: 0.0\n",
      "cat_inac_5.0: 0.0\n",
      "cat_inac_6.0: 0.0\n",
      "cat_inac_7.0: 0.0\n",
      "cat_inac_9.0: 0.11253196326052894\n"
     ]
    }
   ],
   "source": [
    "#2004\n",
    "# C es el inverso de la fuerza de regularización\n",
    "# Valores más pequeños de C aumentan la regularización\n",
    "lasso_logistic_2004 = LogisticRegression(penalty='l1', solver='liblinear', C=1.0, random_state=101)\n",
    "lasso_logistic_2004.fit(X_train_2004_transformed, y_train_2004)\n",
    "y_pred_2004_lasso = lasso_logistic_2004.predict(X_test_2004_transformed)\n",
    "y_test_pred_score_log_2004 = lasso_logistic_2004.predict_proba(X_test_2004)[:,1]\n",
    "accuracy = accuracy_score(y_test_2004, y_pred_2004_lasso)\n",
    "ecm_lasso_2004 = mean_squared_error(y_test_2004, y_pred_2004_ridge)\n",
    "print(f\"Accuracy: {accuracy}\")\n",
    "print(\"MSE\", ecm_lasso_2004)    \n",
    "print(\"Coeficientes:\")\n",
    "for feature, coef in zip(X_train_2024.columns, lasso_logistic_2004.coef_[0]):\n",
    "    print(f\"{feature}: {coef}\")"
   ]
  },
  {
   "cell_type": "code",
   "execution_count": null,
   "metadata": {},
   "outputs": [
    {
     "name": "stderr",
     "output_type": "stream",
     "text": [
      "c:\\Users\\s1248850\\AppData\\Local\\anaconda3\\envs\\Rosario\\Lib\\site-packages\\sklearn\\utils\\validation.py:1339: DataConversionWarning: A column-vector y was passed when a 1d array was expected. Please change the shape of y to (n_samples, ), for example using ravel().\n",
      "  y = column_or_1d(y, warn=True)\n"
     ]
    },
    {
     "name": "stdout",
     "output_type": "stream",
     "text": [
      "Accuracy: 0.9563953488372093\n",
      "MSE 0.0436046511627907\n",
      "Coeficientes:\n",
      "ch06: -0.5690684531113743\n",
      "v5_m: -0.06275348178945908\n",
      "v11_m: 0.04105390875202988\n",
      "v12_m: 0.05586364074249094\n",
      "ipcf: -1.0877532636442881\n",
      "ix_tot: -0.2019681701614315\n",
      "ix_mayeq10: 0.0\n",
      "itf: 0.6550597585524874\n",
      "Año: 0.0\n",
      "PEA: 2.686306185393184\n",
      "PET: -0.13666133743593964\n",
      "prop_ocupados: -0.10611945950802387\n",
      "prop_subsidio: 0.0\n",
      "prop_menores_10: 0.15489798934561685\n",
      "ch04_2: 0.12974454124051454\n",
      "pp02h_2: 0.0\n",
      "pp02i_2: 0.0\n",
      "iv5_2: 0.052566801819542604\n",
      "iv12_1_2: 0.01412259823410457\n",
      "v5_2: 0.01594046036287162\n",
      "v6_2: -0.11262572990219892\n",
      "v7_2: -0.5047040400023722\n",
      "v11_2: -0.02537817529171073\n",
      "ch07_1: -0.17535591633438566\n",
      "ch07_2: 0.0\n",
      "ch07_3: 0.027452600900114994\n",
      "ch07_4: -0.09434624847976557\n",
      "ch07_5: 0.036631960189053334\n",
      "ch07_9: 0.0\n",
      "ch08_1: -0.28966028546716044\n",
      "ch08_2: 0.0\n",
      "ch08_3: 0.0\n",
      "ch08_4: 0.4086596921475853\n",
      "ch08_9: -0.10728079617938252\n",
      "ch08_12: -0.04290635170245857\n",
      "ch08_13: 0.0\n",
      "ch08_23: 0.0\n",
      "nivel_ed_1: -0.36010941237703\n",
      "nivel_ed_2: 0.10900200269071302\n",
      "nivel_ed_3: 0.0\n",
      "nivel_ed_4: 0.12919092672511173\n",
      "nivel_ed_5: 0.11543981990667698\n",
      "nivel_ed_6: -0.053378177129688585\n",
      "nivel_ed_7: -0.27386966111376704\n",
      "cat_inac_0.0: 0.2535301043457612\n",
      "cat_inac_1.0: 0.0\n",
      "cat_inac_2.0: 0.0\n",
      "cat_inac_3.0: 0.0\n",
      "cat_inac_4.0: 0.0\n",
      "cat_inac_5.0: 0.0\n",
      "cat_inac_6.0: 0.0\n",
      "cat_inac_7.0: 0.0\n",
      "cat_inac_9.0: 0.0\n"
     ]
    }
   ],
   "source": [
    "#2024\n",
    "# C es el inverso de la fuerza de regularización\n",
    "# Valores más pequeños de C aumentan la regularización\n",
    "lasso_logistic_2024 = LogisticRegression(penalty='l1', solver='liblinear', C=1.0, random_state=101)\n",
    "lasso_logistic_2024.fit(X_train_2024_transformed, y_train_2024)\n",
    "y_pred_2024_lasso = lasso_logistic_2024.predict(X_test_2024_transformed)\n",
    "y_test_pred_score_log_2024 = lasso_logistic_2024.predict_proba(X_test_2024)[:,1]\n",
    "accuracy = accuracy_score(y_test_2024, y_pred_2024_lasso)\n",
    "ecm_lasso_2024 = mean_squared_error(y_test_2024, y_pred_2024_lasso)\n",
    "print(f\"Accuracy: {accuracy}\")\n",
    "print(\"MSE\", ecm_lasso_2024)    \n",
    "print(\"Coeficientes:\")\n",
    "for feature, coef in zip(X_train_2024.columns, lasso_logistic_2024.coef_[0]):\n",
    "    print(f\"{feature}: {coef}\")"
   ]
  },
  {
   "cell_type": "markdown",
   "metadata": {},
   "source": [
    "Entonces, quedamos que para Ridge el alpha es 1 y para Lasso el lambda es 0.005 (esto es antes de hacer las dummies)\n",
    "\n",
    "Evaluamos la performance de los modelos con ridge y lasso"
   ]
  },
  {
   "cell_type": "code",
   "execution_count": 129,
   "metadata": {},
   "outputs": [
    {
     "name": "stdout",
     "output_type": "stream",
     "text": [
      "Error cuadrático medio con Ridge en 2004:  0.08001963672066764\n",
      "Error cuadrático medio con Lasso en 2004:  0.08149239077074129\n",
      "Error cuadrático medio con Ridge en 2024:  0.0436046511627907\n",
      "Error cuadrático medio con Lasso en 2024:  0.0436046511627907\n"
     ]
    }
   ],
   "source": [
    "print(\"Error cuadrático medio con Ridge en 2004: \", mean_squared_error(y_test_2004, y_pred_2004_ridge))\n",
    "print(\"Error cuadrático medio con Lasso en 2004: \", mean_squared_error(y_test_2004, y_pred_2004_lasso))\n",
    "print(\"Error cuadrático medio con Ridge en 2024: \", mean_squared_error(y_test_2024, y_pred_2024_ridge))\n",
    "print(\"Error cuadrático medio con Lasso en 2024: \", mean_squared_error(y_test_2024, y_pred_2024_lasso))"
   ]
  },
  {
   "cell_type": "markdown",
   "metadata": {},
   "source": [
    "Matriz de confusión"
   ]
  },
  {
   "cell_type": "markdown",
   "metadata": {},
   "source": [
    "Primero con ridge para 2004 y 2024"
   ]
  },
  {
   "cell_type": "code",
   "execution_count": 132,
   "metadata": {},
   "outputs": [
    {
     "name": "stdout",
     "output_type": "stream",
     "text": [
      "Verdadero 0:  1856\n",
      "Falso 1:  12\n",
      "Falso 0:  151\n",
      "Verdadero 1:  18\n"
     ]
    }
   ],
   "source": [
    "# Primero calculamos la matriz de confusión para la regresión del año 2004.\n",
    "from sklearn.metrics import confusion_matrix, roc_curve, auc, accuracy_score\n",
    "tn_log_2004_ridge, fp_log_2004_ridge, fn_log_2004_ridge, tp_log_2004_ridge = confusion_matrix(y_test_2004, y_pred_2004_ridge).ravel()   # Ravel transforma la matriz en un 1D array\n",
    "\n",
    "print(\"Verdadero 0: \", tn_log_2004_ridge)\n",
    "print(\"Falso 1: \", fp_log_2004_ridge)\n",
    "print(\"Falso 0: \", fn_log_2004_ridge)\n",
    "print(\"Verdadero 1: \", tp_log_2004_ridge)"
   ]
  },
  {
   "cell_type": "code",
   "execution_count": 133,
   "metadata": {},
   "outputs": [
    {
     "name": "stdout",
     "output_type": "stream",
     "text": [
      "Verdadero 0:  1972\n",
      "Falso 1:  6\n",
      "Falso 0:  84\n",
      "Verdadero 1:  2\n"
     ]
    }
   ],
   "source": [
    "# Primero calculamos la matriz de confusión para la regresión del año 2024.\n",
    "tn_log_2024_ridge, fp_log_2024_ridge, fn_log_2024_ridge, tp_log_2024_ridge = confusion_matrix(y_test_2024, y_pred_2024_ridge).ravel()   # Ravel transforma la matriz en un 1D array\n",
    "\n",
    "print(\"Verdadero 0: \", tn_log_2024_ridge)\n",
    "print(\"Falso 1: \", fp_log_2024_ridge)\n",
    "print(\"Falso 0: \", fn_log_2024_ridge)\n",
    "print(\"Verdadero 1: \", tp_log_2024_ridge)"
   ]
  },
  {
   "cell_type": "markdown",
   "metadata": {},
   "source": [
    "Matrices para lasso 2024"
   ]
  },
  {
   "cell_type": "code",
   "execution_count": 134,
   "metadata": {},
   "outputs": [
    {
     "name": "stdout",
     "output_type": "stream",
     "text": [
      "Verdadero 0:  1855\n",
      "Falso 1:  13\n",
      "Falso 0:  153\n",
      "Verdadero 1:  16\n"
     ]
    }
   ],
   "source": [
    "# Primero calculamos la matriz de confusión para la regresión del año 2004.\n",
    "from sklearn.metrics import confusion_matrix, roc_curve, auc, accuracy_score\n",
    "tn_log_2004_lasso, fp_log_2004_lasso, fn_log_2004_lasso, tp_log_2004_lasso = confusion_matrix(y_test_2004, y_pred_2004_lasso).ravel()   # Ravel transforma la matriz en un 1D array\n",
    "\n",
    "print(\"Verdadero 0: \", tn_log_2004_lasso)\n",
    "print(\"Falso 1: \", fp_log_2004_lasso)\n",
    "print(\"Falso 0: \", fn_log_2004_lasso)\n",
    "print(\"Verdadero 1: \", tp_log_2004_lasso)"
   ]
  },
  {
   "cell_type": "code",
   "execution_count": 135,
   "metadata": {},
   "outputs": [
    {
     "name": "stdout",
     "output_type": "stream",
     "text": [
      "Verdadero 0:  1972\n",
      "Falso 1:  6\n",
      "Falso 0:  84\n",
      "Verdadero 1:  2\n"
     ]
    }
   ],
   "source": [
    "# Calculamos la matriz de confusión para la regresión del año 2024.\n",
    "from sklearn.metrics import confusion_matrix, roc_curve, auc, accuracy_score\n",
    "tn_log_2024_lasso, fp_log_2024_lasso, fn_log_2024_lasso, tp_log_2024_lasso = confusion_matrix(y_test_2024, y_pred_2024_lasso).ravel()   # Ravel transforma la matriz en un 1D array\n",
    "\n",
    "print(\"Verdadero 0: \", tn_log_2024_lasso)\n",
    "print(\"Falso 1: \", fp_log_2024_lasso)\n",
    "print(\"Falso 0: \", fn_log_2024_lasso)\n",
    "print(\"Verdadero 1: \", tp_log_2024_lasso)"
   ]
  },
  {
   "cell_type": "markdown",
   "metadata": {},
   "source": [
    "AUC y ROC"
   ]
  },
  {
   "cell_type": "code",
   "execution_count": 119,
   "metadata": {},
   "outputs": [
    {
     "name": "stdout",
     "output_type": "stream",
     "text": [
      "AUC: 0.6118\n",
      "Thresholds: [       inf 0.00851634 0.00351959 ... 0.         0.         0.        ]\n",
      "FPR: [0.         0.00053533 0.00107066 ... 0.67558887 0.6761242  1.        ]\n",
      "TPR: [0.         0.         0.         ... 0.82248521 0.82248521 1.        ]\n"
     ]
    }
   ],
   "source": [
    "# Ahora calculamos AUC y ROC para la regresión logística del 2004.\n",
    "auc_log_2004 = roc_auc_score(y_test_2004, y_test_pred_score_log_2004)\n",
    "print('AUC: %.4f' % auc_log_2004)\n",
    "fpr_log_2004, tpr_log_2004, thresholds_log_2004 = roc_curve(y_test_2004, y_test_pred_score_log_2004, drop_intermediate=False)  # drop_intermediate=False nos da mas thresholds ('c') para probar\n",
    "print('Thresholds:', thresholds_log_2004)\n",
    "print('FPR:', fpr_log_2004)\n",
    "print('TPR:', tpr_log_2004)"
   ]
  },
  {
   "cell_type": "code",
   "execution_count": 120,
   "metadata": {},
   "outputs": [
    {
     "data": {
      "image/png": "[encoded data removed]",
      "text/plain": [
       "<Figure size 640x480 with 1 Axes>"
      ]
     },
     "metadata": {},
     "output_type": "display_data"
    }
   ],
   "source": [
    "#Graficamos la curva ROC para la regresión logística del 2004.\n",
    "display_log_2004 = RocCurveDisplay(fpr=fpr_log_2004, tpr=tpr_log_2004, roc_auc=auc_log_2004, estimator_name='Reg_log')\n",
    "display_log_2004.plot()  \n",
    "plt.plot([0, 1], [0, 1], color='red', linestyle='--')\n",
    "plt.show() "
   ]
  },
  {
   "cell_type": "code",
   "execution_count": 121,
   "metadata": {},
   "outputs": [
    {
     "name": "stdout",
     "output_type": "stream",
     "text": [
      "AUC: 0.5798\n",
      "Thresholds: [       inf 1.         0.00049959 0.00042616 0.00040482 0.00037634\n",
      " 0.00036886 0.00032423 0.00031198 0.00029601 0.0002912  0.00028707\n",
      " 0.00026576 0.00024649 0.00023388 0.00021174 0.00020872 0.0002009\n",
      " 0.00018068 0.00017645 0.00017286 0.00016386 0.00015105 0.00014358\n",
      " 0.00013541 0.00013345 0.00010725 0.00009989 0.00009637 0.00009543\n",
      " 0.00009366 0.00007962 0.00007754 0.00007326 0.00006438 0.0000596\n",
      " 0.00005785 0.00005458 0.0000537  0.0000518  0.00004946 0.00004905\n",
      " 0.00004591 0.00004198 0.00003978 0.0000392  0.00003781 0.00003644\n",
      " 0.00003437 0.0000316  0.00003072 0.00003052 0.00002914 0.00002862\n",
      " 0.00002813 0.00002727 0.000025   0.00002154 0.00002098 0.00002049\n",
      " 0.00001967 0.00001922 0.00001861 0.00001844 0.00001728 0.000017\n",
      " 0.00001662 0.00001559 0.00001452 0.00001379 0.00001199 0.00001173\n",
      " 0.00001168 0.00001114 0.00001067 0.00000992 0.00000929 0.00000902\n",
      " 0.00000781 0.0000074  0.00000658 0.00000651 0.0000063  0.00000613\n",
      " 0.00000591 0.00000459 0.00000443 0.00000442 0.00000381 0.00000361\n",
      " 0.00000344 0.00000343 0.00000334 0.00000316 0.00000314 0.00000313\n",
      " 0.00000295 0.00000294 0.00000279 0.00000268 0.00000258 0.00000249\n",
      " 0.00000237 0.00000235 0.00000191 0.00000186 0.00000174 0.00000172\n",
      " 0.00000166 0.00000159 0.00000151 0.00000145 0.00000141 0.00000139\n",
      " 0.00000138 0.00000133 0.00000124 0.00000114 0.00000113 0.000001\n",
      " 0.00000096 0.00000094 0.0000009  0.0000009  0.0000009  0.00000087\n",
      " 0.00000083 0.00000082 0.00000081 0.00000078 0.00000076 0.00000076\n",
      " 0.00000075 0.00000073 0.0000007  0.00000069 0.00000062 0.00000057\n",
      " 0.00000054 0.00000053 0.00000052 0.00000052 0.00000051 0.00000051\n",
      " 0.00000047 0.00000046 0.00000045 0.00000043 0.00000042 0.00000042\n",
      " 0.00000041 0.0000004  0.00000038 0.00000036 0.00000036 0.00000035\n",
      " 0.00000034 0.00000033 0.00000033 0.0000003  0.0000003  0.00000029\n",
      " 0.00000028 0.00000028 0.00000028 0.00000027 0.00000027 0.00000027\n",
      " 0.00000026 0.00000026 0.00000025 0.00000024 0.00000024 0.00000024\n",
      " 0.00000023 0.00000023 0.00000022 0.00000021 0.0000002  0.0000002\n",
      " 0.0000002  0.00000019 0.00000018 0.00000017 0.00000017 0.00000015\n",
      " 0.00000015 0.00000014 0.00000014 0.00000013 0.00000012 0.00000012\n",
      " 0.00000011 0.00000011 0.00000011 0.00000011 0.0000001  0.0000001\n",
      " 0.0000001  0.0000001  0.00000009 0.00000009 0.00000009 0.00000009\n",
      " 0.00000009 0.00000009 0.00000008 0.00000008 0.00000008 0.00000008\n",
      " 0.00000008 0.00000008 0.00000007 0.00000007 0.00000007 0.00000007\n",
      " 0.00000007 0.00000006 0.00000006 0.00000006 0.00000006 0.00000006\n",
      " 0.00000005 0.00000005 0.00000005 0.00000005 0.00000005 0.00000005\n",
      " 0.00000005 0.00000005 0.00000005 0.00000005 0.00000004 0.00000004\n",
      " 0.00000004 0.00000004 0.00000004 0.00000004 0.00000004 0.00000004\n",
      " 0.00000004 0.00000004 0.00000004 0.00000004 0.00000004 0.00000003\n",
      " 0.00000003 0.00000003 0.00000003 0.00000003 0.00000003 0.00000003\n",
      " 0.00000003 0.00000003 0.00000003 0.00000002 0.00000002 0.00000002\n",
      " 0.00000002 0.00000002 0.00000002 0.00000002 0.00000002 0.00000002\n",
      " 0.00000002 0.00000002 0.00000002 0.00000002 0.00000002 0.00000002\n",
      " 0.00000002 0.00000002 0.00000001 0.00000001 0.00000001 0.00000001\n",
      " 0.00000001 0.00000001 0.00000001 0.00000001 0.00000001 0.00000001\n",
      " 0.00000001 0.00000001 0.00000001 0.00000001 0.00000001 0.00000001\n",
      " 0.00000001 0.00000001 0.00000001 0.00000001 0.00000001 0.00000001\n",
      " 0.00000001 0.00000001 0.00000001 0.00000001 0.00000001 0.00000001\n",
      " 0.00000001 0.00000001 0.         0.         0.         0.\n",
      " 0.         0.         0.         0.         0.         0.\n",
      " 0.         0.         0.         0.         0.         0.\n",
      " 0.         0.         0.         0.         0.         0.\n",
      " 0.         0.         0.         0.         0.         0.\n",
      " 0.         0.         0.         0.         0.         0.\n",
      " 0.         0.         0.         0.         0.         0.\n",
      " 0.         0.         0.         0.         0.         0.\n",
      " 0.         0.         0.         0.         0.         0.\n",
      " 0.         0.         0.         0.         0.         0.\n",
      " 0.         0.         0.         0.         0.         0.\n",
      " 0.         0.         0.         0.         0.         0.\n",
      " 0.         0.         0.         0.         0.         0.\n",
      " 0.         0.         0.         0.         0.         0.\n",
      " 0.         0.         0.         0.         0.         0.\n",
      " 0.         0.         0.         0.         0.         0.\n",
      " 0.         0.         0.         0.         0.         0.\n",
      " 0.         0.         0.         0.         0.         0.\n",
      " 0.         0.         0.         0.         0.         0.\n",
      " 0.         0.         0.         0.         0.         0.\n",
      " 0.         0.         0.         0.         0.         0.\n",
      " 0.         0.         0.         0.         0.         0.\n",
      " 0.         0.         0.         0.         0.         0.\n",
      " 0.         0.         0.         0.         0.         0.\n",
      " 0.         0.         0.         0.         0.         0.\n",
      " 0.         0.         0.         0.         0.         0.\n",
      " 0.         0.         0.         0.         0.         0.\n",
      " 0.         0.         0.         0.         0.         0.\n",
      " 0.         0.         0.         0.         0.         0.\n",
      " 0.         0.         0.         0.         0.         0.\n",
      " 0.         0.         0.         0.         0.         0.\n",
      " 0.         0.         0.         0.         0.         0.\n",
      " 0.         0.         0.         0.         0.         0.\n",
      " 0.         0.         0.         0.         0.         0.\n",
      " 0.         0.         0.         0.         0.         0.\n",
      " 0.         0.         0.         0.         0.         0.\n",
      " 0.         0.         0.         0.         0.         0.\n",
      " 0.         0.         0.         0.         0.         0.\n",
      " 0.         0.         0.         0.         0.         0.\n",
      " 0.         0.         0.         0.         0.         0.\n",
      " 0.         0.         0.         0.         0.         0.\n",
      " 0.         0.         0.         0.         0.         0.\n",
      " 0.         0.         0.         0.         0.         0.\n",
      " 0.         0.         0.         0.         0.         0.\n",
      " 0.         0.         0.         0.         0.         0.\n",
      " 0.         0.         0.         0.         0.         0.\n",
      " 0.         0.         0.         0.         0.         0.\n",
      " 0.         0.         0.         0.         0.         0.\n",
      " 0.         0.         0.         0.         0.         0.\n",
      " 0.         0.         0.         0.         0.         0.\n",
      " 0.         0.         0.         0.         0.         0.\n",
      " 0.         0.         0.         0.         0.         0.\n",
      " 0.         0.         0.         0.         0.         0.\n",
      " 0.         0.         0.         0.         0.         0.\n",
      " 0.         0.         0.         0.         0.         0.\n",
      " 0.         0.         0.         0.         0.         0.\n",
      " 0.         0.         0.         0.         0.         0.\n",
      " 0.         0.         0.         0.         0.         0.\n",
      " 0.         0.         0.         0.         0.         0.\n",
      " 0.         0.         0.         0.         0.         0.\n",
      " 0.         0.         0.         0.         0.         0.\n",
      " 0.         0.         0.         0.         0.         0.\n",
      " 0.         0.         0.         0.         0.         0.\n",
      " 0.         0.         0.         0.         0.         0.\n",
      " 0.         0.         0.         0.         0.         0.\n",
      " 0.         0.         0.         0.         0.         0.\n",
      " 0.         0.         0.         0.         0.         0.\n",
      " 0.         0.         0.         0.         0.         0.\n",
      " 0.         0.         0.         0.         0.         0.\n",
      " 0.         0.         0.         0.         0.         0.\n",
      " 0.         0.         0.         0.         0.         0.\n",
      " 0.         0.         0.         0.         0.         0.\n",
      " 0.         0.         0.         0.         0.         0.\n",
      " 0.         0.         0.         0.         0.         0.\n",
      " 0.         0.         0.         0.         0.         0.\n",
      " 0.         0.         0.         0.         0.         0.\n",
      " 0.         0.         0.         0.         0.         0.\n",
      " 0.         0.         0.         0.         0.         0.\n",
      " 0.         0.         0.         0.         0.         0.\n",
      " 0.         0.         0.         0.         0.         0.\n",
      " 0.         0.         0.         0.         0.         0.\n",
      " 0.         0.         0.         0.         0.         0.\n",
      " 0.         0.         0.         0.         0.         0.\n",
      " 0.         0.         0.         0.         0.         0.\n",
      " 0.         0.         0.         0.         0.         0.\n",
      " 0.         0.         0.         0.         0.         0.\n",
      " 0.        ]\n",
      "FPR: [0.         0.51617796 0.51668352 0.51718908 0.51769464 0.5182002\n",
      " 0.51870576 0.51921132 0.51971689 0.52022245 0.52072801 0.52123357\n",
      " 0.52173913 0.52224469 0.52275025 0.52325581 0.52376138 0.52426694\n",
      " 0.5247725  0.52527806 0.52578362 0.52628918 0.52679474 0.5273003\n",
      " 0.52780586 0.52831143 0.52881699 0.52932255 0.52982811 0.53033367\n",
      " 0.53083923 0.53134479 0.53185035 0.53235592 0.53286148 0.53336704\n",
      " 0.5338726  0.53437816 0.53488372 0.53538928 0.53589484 0.5364004\n",
      " 0.53690597 0.53741153 0.53791709 0.53842265 0.53892821 0.53943377\n",
      " 0.53993933 0.54044489 0.54095046 0.54145602 0.54196158 0.54246714\n",
      " 0.5429727  0.54347826 0.54398382 0.54448938 0.54499494 0.54550051\n",
      " 0.54600607 0.54651163 0.54701719 0.54802831 0.54853387 0.54903943\n",
      " 0.54954499 0.55005056 0.55055612 0.55106168 0.55156724 0.5520728\n",
      " 0.55257836 0.55308392 0.55358948 0.55409505 0.55460061 0.55510617\n",
      " 0.55561173 0.55611729 0.55662285 0.55712841 0.55763397 0.55813953\n",
      " 0.5586451  0.55915066 0.55965622 0.56016178 0.56066734 0.5611729\n",
      " 0.56167846 0.56218402 0.56268959 0.56319515 0.56370071 0.56420627\n",
      " 0.56471183 0.56521739 0.56572295 0.56622851 0.56673407 0.56723964\n",
      " 0.5677452  0.56825076 0.56875632 0.56926188 0.56976744 0.570273\n",
      " 0.57077856 0.57128413 0.57178969 0.57229525 0.57280081 0.57330637\n",
      " 0.57381193 0.57431749 0.57482305 0.57532861 0.57583418 0.57633974\n",
      " 0.5768453  0.57735086 0.57735086 0.57785642 0.57836198 0.57886754\n",
      " 0.57886754 0.5793731  0.57987867 0.58038423 0.58088979 0.58139535\n",
      " 0.58139535 0.58190091 0.58240647 0.58291203 0.58341759 0.58392315\n",
      " 0.58442872 0.58493428 0.58543984 0.5859454  0.58645096 0.58695652\n",
      " 0.58746208 0.58796764 0.58847321 0.58948433 0.58998989 0.59049545\n",
      " 0.59049545 0.59100101 0.59150657 0.59150657 0.59201213 0.59251769\n",
      " 0.59302326 0.59352882 0.59403438 0.59453994 0.5950455  0.59555106\n",
      " 0.59605662 0.59656218 0.59706775 0.59757331 0.59807887 0.59858443\n",
      " 0.59908999 0.59959555 0.60010111 0.60060667 0.60111223 0.6016178\n",
      " 0.60212336 0.60262892 0.60313448 0.60364004 0.6041456  0.60465116\n",
      " 0.60515672 0.60566229 0.60616785 0.60667341 0.60717897 0.60768453\n",
      " 0.60819009 0.60869565 0.60920121 0.61021234 0.6107179  0.61122346\n",
      " 0.61122346 0.61172902 0.61223458 0.61274014 0.61274014 0.6132457\n",
      " 0.61375126 0.61425683 0.61476239 0.61526795 0.61577351 0.61627907\n",
      " 0.61678463 0.61729019 0.61779575 0.61830131 0.61880688 0.61931244\n",
      " 0.619818   0.62032356 0.62082912 0.62133468 0.62184024 0.6223458\n",
      " 0.62285137 0.62335693 0.62386249 0.62487361 0.62537917 0.62639029\n",
      " 0.62689585 0.62740142 0.62740142 0.62841254 0.62841254 0.6289181\n",
      " 0.62942366 0.62992922 0.63043478 0.63094034 0.6314459  0.63195147\n",
      " 0.63245703 0.63296259 0.63346815 0.63397371 0.63447927 0.63447927\n",
      " 0.63498483 0.63549039 0.63599596 0.63650152 0.63700708 0.63700708\n",
      " 0.63751264 0.6380182  0.63852376 0.63902932 0.63953488 0.64004044\n",
      " 0.64054601 0.64105157 0.64155713 0.64206269 0.64256825 0.64307381\n",
      " 0.64307381 0.64357937 0.64408493 0.6445905  0.64509606 0.64560162\n",
      " 0.64610718 0.64661274 0.6471183  0.64762386 0.64812942 0.64863498\n",
      " 0.64914055 0.64964611 0.65015167 0.65065723 0.65116279 0.65166835\n",
      " 0.65217391 0.65267947 0.65318504 0.6536906  0.65419616 0.65470172\n",
      " 0.65520728 0.65571284 0.6562184  0.65672396 0.65722952 0.65773509\n",
      " 0.65824065 0.65874621 0.65925177 0.65975733 0.66026289 0.66076845\n",
      " 0.66127401 0.66127401 0.66177958 0.66228514 0.6627907  0.66329626\n",
      " 0.66380182 0.66430738 0.66481294 0.6653185  0.66582406 0.66632963\n",
      " 0.66683519 0.66734075 0.66784631 0.66835187 0.66835187 0.66835187\n",
      " 0.66885743 0.66936299 0.66986855 0.67037412 0.67087968 0.67138524\n",
      " 0.6718908  0.67239636 0.67290192 0.67391304 0.6744186  0.67492417\n",
      " 0.67492417 0.67542973 0.67542973 0.67593529 0.67644085 0.67694641\n",
      " 0.67745197 0.67795753 0.67846309 0.67896866 0.67947422 0.67997978\n",
      " 0.68048534 0.6809909  0.68149646 0.68200202 0.68250758 0.68301314\n",
      " 0.68301314 0.68351871 0.68402427 0.68452983 0.68503539 0.68554095\n",
      " 0.68604651 0.68655207 0.68705763 0.6875632  0.68806876 0.68857432\n",
      " 0.68907988 0.68958544 0.690091   0.69059656 0.69110212 0.69160768\n",
      " 0.69211325 0.69261881 0.69312437 0.69362993 0.69413549 0.69464105\n",
      " 0.69514661 0.69565217 0.69615774 0.6966633  0.69716886 0.69767442\n",
      " 0.69817998 0.69868554 0.6991911  0.69969666 0.70020222 0.70070779\n",
      " 0.70121335 0.70171891 0.70222447 0.70273003 0.70323559 0.70374115\n",
      " 0.70424671 0.70475228 0.70525784 0.7057634  0.70626896 0.70677452\n",
      " 0.70728008 0.70778564 0.7082912  0.70879676 0.70879676 0.70930233\n",
      " 0.70980789 0.71031345 0.71081901 0.71132457 0.71183013 0.71233569\n",
      " 0.71284125 0.71334681 0.71385238 0.71435794 0.7148635  0.71536906\n",
      " 0.71587462 0.71638018 0.71688574 0.7173913  0.71789687 0.71840243\n",
      " 0.71840243 0.71890799 0.71941355 0.71991911 0.72042467 0.72093023\n",
      " 0.72143579 0.72194135 0.72244692 0.72295248 0.72345804 0.7239636\n",
      " 0.72446916 0.72497472 0.72548028 0.72598584 0.72649141 0.72699697\n",
      " 0.72750253 0.72800809 0.72851365 0.72901921 0.72952477 0.73003033\n",
      " 0.73053589 0.73104146 0.73154702 0.73205258 0.73255814 0.7330637\n",
      " 0.73356926 0.73407482 0.73458038 0.73508595 0.73559151 0.73609707\n",
      " 0.73660263 0.73710819 0.73761375 0.73811931 0.73862487 0.73913043\n",
      " 0.739636   0.74014156 0.74064712 0.74115268 0.74165824 0.7421638\n",
      " 0.74266936 0.74317492 0.74368049 0.74418605 0.74469161 0.74519717\n",
      " 0.74570273 0.74620829 0.74671385 0.74721941 0.74772497 0.74823054\n",
      " 0.7487361  0.74924166 0.74974722 0.75025278 0.75075834 0.7512639\n",
      " 0.75176946 0.75227503 0.75278059 0.75328615 0.75379171 0.75429727\n",
      " 0.75480283 0.75480283 0.75530839 0.75581395 0.75581395 0.75631951\n",
      " 0.75682508 0.75733064 0.7578362  0.75834176 0.75884732 0.75935288\n",
      " 0.75985844 0.760364   0.76086957 0.76137513 0.76188069 0.76238625\n",
      " 0.76289181 0.76339737 0.76390293 0.76440849 0.76491405 0.76541962\n",
      " 0.76592518 0.76643074 0.7669363  0.76744186 0.76794742 0.76845298\n",
      " 0.76895854 0.76946411 0.76996967 0.77047523 0.77098079 0.77148635\n",
      " 0.77199191 0.77249747 0.77300303 0.77350859 0.77401416 0.77451972\n",
      " 0.77502528 0.77553084 0.7760364  0.77654196 0.77704752 0.77755308\n",
      " 0.77805865 0.77856421 0.77906977 0.77957533 0.78008089 0.78058645\n",
      " 0.78109201 0.78159757 0.78210313 0.7826087  0.78311426 0.78361982\n",
      " 0.78412538 0.78463094 0.7851365  0.78564206 0.78614762 0.78665319\n",
      " 0.78715875 0.78766431 0.78816987 0.78867543 0.78918099 0.78968655\n",
      " 0.79019211 0.79069767 0.79120324 0.7917088  0.79221436 0.79271992\n",
      " 0.79322548 0.79373104 0.7942366  0.79474216 0.79524772 0.79575329\n",
      " 0.79625885 0.79625885 0.79676441 0.79726997 0.79777553 0.79828109\n",
      " 0.79878665 0.79929221 0.79979778 0.80030334 0.80030334 0.80030334\n",
      " 0.8008089  0.80131446 0.80182002 0.80283114 0.8033367  0.80384226\n",
      " 0.80434783 0.80485339 0.80535895 0.80586451 0.80637007 0.80637007\n",
      " 0.80687563 0.80738119 0.80788675 0.80839232 0.80889788 0.80940344\n",
      " 0.809909   0.81041456 0.81092012 0.81142568 0.81193124 0.8124368\n",
      " 0.81294237 0.81344793 0.81395349 0.81445905 0.81496461 0.81547017\n",
      " 0.81597573 0.81648129 0.81698686 0.81749242 0.81799798 0.81850354\n",
      " 0.8190091  0.81951466 0.82002022 0.82052578 0.82103134 0.82153691\n",
      " 0.82204247 0.82254803 0.82305359 0.82355915 0.82406471 0.82457027\n",
      " 0.82507583 0.8255814  0.82608696 0.82659252 0.82709808 0.82760364\n",
      " 0.8281092  0.82861476 0.82912032 0.82962588 0.83013145 0.83063701\n",
      " 0.83114257 0.83164813 0.83215369 0.83265925 0.83316481 0.83367037\n",
      " 0.83417594 0.8346815  0.83518706 0.83569262 0.83619818 0.83670374\n",
      " 0.8372093  0.83771486 0.83822042 0.83872599 0.83923155 0.83973711\n",
      " 0.84024267 0.84074823 0.84125379 0.84175935 0.84226491 0.84277048\n",
      " 0.84327604 0.8437816  0.84428716 0.84479272 0.84529828 0.84580384\n",
      " 0.8463094  0.84681496 0.84732053 0.84782609 0.84833165 0.84883721\n",
      " 0.84934277 0.84984833 0.85035389 0.85085945 0.85136502 0.85187058\n",
      " 0.85237614 0.8528817  0.85338726 0.85389282 0.85439838 0.85490394\n",
      " 0.8554095  0.85591507 0.85642063 0.85692619 0.85743175 0.85793731\n",
      " 0.85844287 0.85894843 0.85945399 0.85995956 0.86046512 0.86097068\n",
      " 0.86147624 0.8619818  0.86248736 0.86299292 0.86349848 0.86400404\n",
      " 0.86450961 0.86501517 0.86552073 0.86602629 0.86653185 0.86703741\n",
      " 0.86754297 0.86804853 0.8685541  0.86905966 0.86956522 0.87007078\n",
      " 0.87057634 0.8710819  0.87158746 0.87209302 0.87259858 0.87310415\n",
      " 0.87360971 0.87411527 0.87462083 0.87512639 0.87563195 0.87613751\n",
      " 0.87664307 0.87714863 0.8776542  0.87815976 0.87866532 0.87917088\n",
      " 0.87967644 0.880182   0.88068756 0.88119312 0.88169869 0.88220425\n",
      " 0.88270981 0.88321537 0.88372093 0.88422649 0.88473205 0.88523761\n",
      " 0.88574317 0.88624874 0.8867543  0.88725986 0.88776542 0.88827098\n",
      " 0.88877654 0.8892821  0.88978766 0.89029323 0.89079879 0.89130435\n",
      " 0.89180991 0.89231547 0.89282103 0.89332659 0.89383215 0.89433771\n",
      " 0.89484328 0.89534884 0.8958544  0.89635996 0.89686552 0.89737108\n",
      " 0.89787664 0.8983822  0.89888777 0.89939333 0.89989889 0.90040445\n",
      " 0.90091001 0.90141557 0.90192113 0.90242669 0.90293225 0.90343782\n",
      " 0.90394338 0.90444894 0.9049545  0.90546006 0.90596562 0.90647118\n",
      " 0.90697674 0.90748231 0.90798787 0.90849343 0.90899899 0.90950455\n",
      " 0.91001011 0.91051567 0.91102123 0.91152679 0.91203236 0.91253792\n",
      " 0.91304348 0.91354904 0.9140546  0.91456016 0.91506572 0.91557128\n",
      " 0.91607685 0.91658241 0.91708797 0.91759353 0.91809909 0.91860465\n",
      " 1.        ]\n",
      "TPR: [0.         0.63953488 0.63953488 0.63953488 0.63953488 0.63953488\n",
      " 0.63953488 0.63953488 0.63953488 0.63953488 0.63953488 0.63953488\n",
      " 0.63953488 0.63953488 0.63953488 0.63953488 0.63953488 0.63953488\n",
      " 0.63953488 0.63953488 0.63953488 0.63953488 0.63953488 0.63953488\n",
      " 0.63953488 0.63953488 0.63953488 0.63953488 0.63953488 0.63953488\n",
      " 0.63953488 0.63953488 0.63953488 0.63953488 0.63953488 0.63953488\n",
      " 0.63953488 0.63953488 0.63953488 0.63953488 0.63953488 0.63953488\n",
      " 0.63953488 0.63953488 0.63953488 0.63953488 0.63953488 0.63953488\n",
      " 0.63953488 0.63953488 0.63953488 0.63953488 0.63953488 0.63953488\n",
      " 0.63953488 0.63953488 0.63953488 0.63953488 0.63953488 0.63953488\n",
      " 0.63953488 0.63953488 0.63953488 0.63953488 0.63953488 0.63953488\n",
      " 0.63953488 0.63953488 0.63953488 0.63953488 0.63953488 0.63953488\n",
      " 0.63953488 0.63953488 0.63953488 0.63953488 0.63953488 0.63953488\n",
      " 0.63953488 0.63953488 0.63953488 0.63953488 0.63953488 0.63953488\n",
      " 0.63953488 0.63953488 0.63953488 0.63953488 0.63953488 0.63953488\n",
      " 0.63953488 0.63953488 0.63953488 0.63953488 0.63953488 0.63953488\n",
      " 0.63953488 0.63953488 0.63953488 0.63953488 0.63953488 0.63953488\n",
      " 0.63953488 0.63953488 0.63953488 0.63953488 0.63953488 0.63953488\n",
      " 0.63953488 0.63953488 0.63953488 0.63953488 0.63953488 0.63953488\n",
      " 0.63953488 0.63953488 0.63953488 0.63953488 0.63953488 0.63953488\n",
      " 0.63953488 0.63953488 0.65116279 0.65116279 0.65116279 0.65116279\n",
      " 0.6627907  0.6627907  0.6627907  0.6627907  0.6627907  0.6627907\n",
      " 0.6744186  0.6744186  0.6744186  0.6744186  0.6744186  0.6744186\n",
      " 0.6744186  0.6744186  0.6744186  0.6744186  0.6744186  0.6744186\n",
      " 0.6744186  0.6744186  0.6744186  0.6744186  0.6744186  0.6744186\n",
      " 0.68604651 0.68604651 0.68604651 0.69767442 0.69767442 0.69767442\n",
      " 0.69767442 0.69767442 0.69767442 0.69767442 0.69767442 0.69767442\n",
      " 0.69767442 0.69767442 0.69767442 0.69767442 0.69767442 0.69767442\n",
      " 0.69767442 0.69767442 0.69767442 0.69767442 0.69767442 0.69767442\n",
      " 0.69767442 0.69767442 0.69767442 0.69767442 0.69767442 0.69767442\n",
      " 0.69767442 0.69767442 0.69767442 0.69767442 0.69767442 0.69767442\n",
      " 0.69767442 0.69767442 0.69767442 0.69767442 0.69767442 0.69767442\n",
      " 0.70930233 0.70930233 0.70930233 0.70930233 0.72093023 0.72093023\n",
      " 0.72093023 0.72093023 0.72093023 0.72093023 0.72093023 0.72093023\n",
      " 0.72093023 0.72093023 0.72093023 0.72093023 0.72093023 0.72093023\n",
      " 0.72093023 0.72093023 0.72093023 0.72093023 0.72093023 0.73255814\n",
      " 0.73255814 0.73255814 0.73255814 0.73255814 0.73255814 0.73255814\n",
      " 0.73255814 0.73255814 0.74418605 0.74418605 0.75581395 0.75581395\n",
      " 0.75581395 0.75581395 0.75581395 0.75581395 0.75581395 0.75581395\n",
      " 0.75581395 0.75581395 0.75581395 0.75581395 0.75581395 0.76744186\n",
      " 0.76744186 0.76744186 0.76744186 0.76744186 0.76744186 0.77906977\n",
      " 0.77906977 0.77906977 0.77906977 0.77906977 0.77906977 0.77906977\n",
      " 0.77906977 0.77906977 0.77906977 0.77906977 0.77906977 0.77906977\n",
      " 0.79069767 0.79069767 0.79069767 0.79069767 0.79069767 0.79069767\n",
      " 0.79069767 0.79069767 0.79069767 0.79069767 0.79069767 0.79069767\n",
      " 0.79069767 0.79069767 0.79069767 0.79069767 0.79069767 0.79069767\n",
      " 0.79069767 0.79069767 0.79069767 0.79069767 0.79069767 0.79069767\n",
      " 0.79069767 0.79069767 0.79069767 0.79069767 0.79069767 0.79069767\n",
      " 0.79069767 0.79069767 0.79069767 0.79069767 0.79069767 0.79069767\n",
      " 0.79069767 0.80232558 0.80232558 0.80232558 0.80232558 0.80232558\n",
      " 0.80232558 0.80232558 0.80232558 0.80232558 0.80232558 0.80232558\n",
      " 0.80232558 0.80232558 0.80232558 0.80232558 0.81395349 0.8255814\n",
      " 0.8255814  0.8255814  0.8255814  0.8255814  0.8255814  0.8255814\n",
      " 0.8255814  0.8255814  0.8255814  0.8255814  0.8255814  0.8255814\n",
      " 0.8372093  0.8372093  0.84883721 0.84883721 0.84883721 0.84883721\n",
      " 0.84883721 0.84883721 0.84883721 0.84883721 0.84883721 0.84883721\n",
      " 0.84883721 0.84883721 0.84883721 0.84883721 0.84883721 0.84883721\n",
      " 0.86046512 0.86046512 0.86046512 0.86046512 0.86046512 0.86046512\n",
      " 0.86046512 0.86046512 0.86046512 0.86046512 0.86046512 0.86046512\n",
      " 0.86046512 0.86046512 0.86046512 0.86046512 0.86046512 0.86046512\n",
      " 0.86046512 0.86046512 0.86046512 0.86046512 0.86046512 0.86046512\n",
      " 0.86046512 0.86046512 0.86046512 0.86046512 0.86046512 0.86046512\n",
      " 0.86046512 0.86046512 0.86046512 0.86046512 0.86046512 0.86046512\n",
      " 0.86046512 0.86046512 0.86046512 0.86046512 0.86046512 0.86046512\n",
      " 0.86046512 0.86046512 0.86046512 0.86046512 0.86046512 0.86046512\n",
      " 0.86046512 0.86046512 0.86046512 0.86046512 0.87209302 0.87209302\n",
      " 0.87209302 0.87209302 0.87209302 0.87209302 0.87209302 0.87209302\n",
      " 0.87209302 0.87209302 0.87209302 0.87209302 0.87209302 0.87209302\n",
      " 0.87209302 0.87209302 0.87209302 0.87209302 0.87209302 0.87209302\n",
      " 0.88372093 0.88372093 0.88372093 0.88372093 0.88372093 0.88372093\n",
      " 0.88372093 0.88372093 0.88372093 0.88372093 0.88372093 0.88372093\n",
      " 0.88372093 0.88372093 0.88372093 0.88372093 0.88372093 0.88372093\n",
      " 0.88372093 0.88372093 0.88372093 0.88372093 0.88372093 0.88372093\n",
      " 0.88372093 0.88372093 0.88372093 0.88372093 0.88372093 0.88372093\n",
      " 0.88372093 0.88372093 0.88372093 0.88372093 0.88372093 0.88372093\n",
      " 0.88372093 0.88372093 0.88372093 0.88372093 0.88372093 0.88372093\n",
      " 0.88372093 0.88372093 0.88372093 0.88372093 0.88372093 0.88372093\n",
      " 0.88372093 0.88372093 0.88372093 0.88372093 0.88372093 0.88372093\n",
      " 0.88372093 0.88372093 0.88372093 0.88372093 0.88372093 0.88372093\n",
      " 0.88372093 0.88372093 0.88372093 0.88372093 0.88372093 0.88372093\n",
      " 0.88372093 0.88372093 0.88372093 0.88372093 0.88372093 0.88372093\n",
      " 0.88372093 0.89534884 0.89534884 0.89534884 0.90697674 0.90697674\n",
      " 0.90697674 0.90697674 0.90697674 0.90697674 0.90697674 0.90697674\n",
      " 0.90697674 0.90697674 0.90697674 0.90697674 0.90697674 0.90697674\n",
      " 0.90697674 0.90697674 0.90697674 0.90697674 0.90697674 0.90697674\n",
      " 0.90697674 0.90697674 0.90697674 0.90697674 0.90697674 0.90697674\n",
      " 0.90697674 0.90697674 0.90697674 0.90697674 0.90697674 0.90697674\n",
      " 0.90697674 0.90697674 0.90697674 0.90697674 0.90697674 0.90697674\n",
      " 0.90697674 0.90697674 0.90697674 0.90697674 0.90697674 0.90697674\n",
      " 0.90697674 0.90697674 0.90697674 0.90697674 0.90697674 0.90697674\n",
      " 0.90697674 0.90697674 0.90697674 0.90697674 0.90697674 0.90697674\n",
      " 0.90697674 0.90697674 0.90697674 0.90697674 0.90697674 0.90697674\n",
      " 0.90697674 0.90697674 0.90697674 0.90697674 0.90697674 0.90697674\n",
      " 0.90697674 0.90697674 0.90697674 0.90697674 0.90697674 0.90697674\n",
      " 0.90697674 0.90697674 0.90697674 0.90697674 0.90697674 0.90697674\n",
      " 0.90697674 0.91860465 0.91860465 0.91860465 0.91860465 0.91860465\n",
      " 0.91860465 0.91860465 0.91860465 0.91860465 0.93023256 0.94186047\n",
      " 0.94186047 0.94186047 0.94186047 0.94186047 0.94186047 0.94186047\n",
      " 0.94186047 0.94186047 0.94186047 0.94186047 0.94186047 0.95348837\n",
      " 0.95348837 0.95348837 0.95348837 0.95348837 0.95348837 0.95348837\n",
      " 0.95348837 0.95348837 0.95348837 0.95348837 0.95348837 0.95348837\n",
      " 0.95348837 0.95348837 0.95348837 0.95348837 0.95348837 0.95348837\n",
      " 0.95348837 0.95348837 0.95348837 0.95348837 0.95348837 0.95348837\n",
      " 0.95348837 0.95348837 0.95348837 0.95348837 0.95348837 0.95348837\n",
      " 0.95348837 0.95348837 0.95348837 0.95348837 0.95348837 0.95348837\n",
      " 0.95348837 0.95348837 0.95348837 0.95348837 0.95348837 0.95348837\n",
      " 0.95348837 0.95348837 0.95348837 0.95348837 0.95348837 0.95348837\n",
      " 0.95348837 0.95348837 0.95348837 0.95348837 0.95348837 0.95348837\n",
      " 0.95348837 0.95348837 0.95348837 0.95348837 0.95348837 0.95348837\n",
      " 0.95348837 0.95348837 0.95348837 0.95348837 0.95348837 0.95348837\n",
      " 0.95348837 0.95348837 0.95348837 0.95348837 0.95348837 0.95348837\n",
      " 0.95348837 0.95348837 0.95348837 0.95348837 0.95348837 0.95348837\n",
      " 0.95348837 0.95348837 0.95348837 0.95348837 0.95348837 0.95348837\n",
      " 0.95348837 0.95348837 0.95348837 0.95348837 0.95348837 0.95348837\n",
      " 0.95348837 0.95348837 0.95348837 0.95348837 0.95348837 0.95348837\n",
      " 0.95348837 0.95348837 0.95348837 0.95348837 0.95348837 0.95348837\n",
      " 0.95348837 0.95348837 0.95348837 0.95348837 0.95348837 0.95348837\n",
      " 0.95348837 0.95348837 0.95348837 0.95348837 0.95348837 0.95348837\n",
      " 0.95348837 0.95348837 0.95348837 0.95348837 0.95348837 0.95348837\n",
      " 0.95348837 0.95348837 0.95348837 0.95348837 0.95348837 0.95348837\n",
      " 0.95348837 0.95348837 0.95348837 0.95348837 0.95348837 0.95348837\n",
      " 0.95348837 0.95348837 0.95348837 0.95348837 0.95348837 0.95348837\n",
      " 0.95348837 0.95348837 0.95348837 0.95348837 0.95348837 0.95348837\n",
      " 0.95348837 0.95348837 0.95348837 0.95348837 0.95348837 0.95348837\n",
      " 0.95348837 0.95348837 0.95348837 0.95348837 0.95348837 0.95348837\n",
      " 0.95348837 0.95348837 0.95348837 0.95348837 0.95348837 0.95348837\n",
      " 0.95348837 0.95348837 0.95348837 0.95348837 0.95348837 0.95348837\n",
      " 0.95348837 0.95348837 0.95348837 0.95348837 0.95348837 0.95348837\n",
      " 0.95348837 0.95348837 0.95348837 0.95348837 0.95348837 0.95348837\n",
      " 0.95348837 0.95348837 0.95348837 0.95348837 0.95348837 0.95348837\n",
      " 0.95348837 0.95348837 0.95348837 0.95348837 0.95348837 0.95348837\n",
      " 0.95348837 0.95348837 0.95348837 0.95348837 0.95348837 0.95348837\n",
      " 0.95348837 0.95348837 0.95348837 0.95348837 0.95348837 0.95348837\n",
      " 0.95348837 0.95348837 0.95348837 0.95348837 0.95348837 0.95348837\n",
      " 0.95348837 0.95348837 0.95348837 0.95348837 0.95348837 0.95348837\n",
      " 0.95348837 0.95348837 0.95348837 0.95348837 0.95348837 0.95348837\n",
      " 1.        ]\n"
     ]
    }
   ],
   "source": [
    "# Ahora calculamos AUC y ROC para la regresión logística del 2024.\n",
    "auc_log_2024 = roc_auc_score(y_test_2024, y_test_pred_score_log_2024)\n",
    "print('AUC: %.4f' % auc_log_2024)\n",
    "fpr_log_2024, tpr_log_2024, thresholds_log_2024 = roc_curve(y_test_2024, y_test_pred_score_log_2024, drop_intermediate=False)  # drop_intermediate=False nos da mas thresholds ('c') para probar\n",
    "print('Thresholds:', thresholds_log_2024)\n",
    "print('FPR:', fpr_log_2024)\n",
    "print('TPR:', tpr_log_2024)"
   ]
  },
  {
   "cell_type": "code",
   "execution_count": 122,
   "metadata": {},
   "outputs": [
    {
     "data": {
      "image/png": "[encoded data removed]",
      "text/plain": [
       "<Figure size 640x480 with 1 Axes>"
      ]
     },
     "metadata": {},
     "output_type": "display_data"
    }
   ],
   "source": [
    "#Graficamos la curva ROC para la regresión logística del 2024.\n",
    "display_log_2024 = RocCurveDisplay(fpr=fpr_log_2024, tpr=tpr_log_2024, roc_auc=auc_log_2024, estimator_name='Reg_log')\n",
    "display_log_2024.plot()  \n",
    "plt.plot([0, 1], [0, 1], color='red', linestyle='--')\n",
    "plt.show() "
   ]
  }
 ],
 "metadata": {
  "kernelspec": {
   "display_name": "Rosario",
   "language": "python",
   "name": "python3"
  },
  "language_info": {
   "codemirror_mode": {
    "name": "ipython",
    "version": 3
   },
   "file_extension": ".py",
   "mimetype": "text/x-python",
   "name": "python",
   "nbconvert_exporter": "python",
   "pygments_lexer": "ipython3",
   "version": "3.12.5"
  }
 },
 "nbformat": 4,
 "nbformat_minor": 2
}
