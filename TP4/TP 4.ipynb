{
 "cells": [
  {
   "cell_type": "code",
   "execution_count": 1,
   "metadata": {},
   "outputs": [],
   "source": [
    "import pandas as pd\n",
    "import numpy as np\n",
    "import matplotlib.pyplot as plt\n",
    "import seaborn as sns\n",
    "import os"
   ]
  },
  {
   "cell_type": "code",
   "execution_count": 2,
   "metadata": {},
   "outputs": [],
   "source": [
    "# Abrimos la carpeta donde se encuentran las bases de datos\n",
    "#os.chdir(r\"C:/Users\\s1248850/OneDrive - Syngenta/Documents/Rosario Luque/Ciencias de datos/TP/TP3\")\n",
    "os.chdir(r\"c:\\Users\\s1290226\\OneDrive - Syngenta\\Desktop\\UdeSA\\Ciencia de datos\\CC408-T2-3\\TP4\")\n",
    "#os.chdir(r\"C:\\Users\\clari\\OneDrive\\Documents\\Tutoriales CD\\CC408-T2-3\\TP4\")\n",
    "#os.chdir(r\"c:\\Users\\Teresa\\Desktop\\Cuarto año\\Semestre de primavera\\Ciencia de Datos\\CC408-T2-3\\TP4\")\n",
    "\n",
    "# Guardamos las bases de datos en en dos variables\n",
    "ind_2004 = pd.read_stata(\"Individual_t104.dta\")\n",
    "hogar_2004 = pd.read_stata(\"Hogar_t104.dta\")\n",
    "ind_2024 = pd.read_excel(\"usu_individual_T124.xlsx\")\n",
    "hogar_2024 = pd.read_excel(\"usu_hogar_T124.xlsx\")"
   ]
  },
  {
   "cell_type": "code",
   "execution_count": 3,
   "metadata": {},
   "outputs": [
    {
     "data": {
      "text/plain": [
       "((45289, 176), (12816, 88), (46050, 177), (16104, 88))"
      ]
     },
     "execution_count": 3,
     "metadata": {},
     "output_type": "execute_result"
    }
   ],
   "source": [
    "ind_2004.shape, hogar_2004.shape, ind_2024.shape, hogar_2024.shape"
   ]
  },
  {
   "cell_type": "code",
   "execution_count": 4,
   "metadata": {},
   "outputs": [
    {
     "data": {
      "text/plain": [
       "Index(['CODUSU', 'ANO4', 'TRIMESTRE', 'NRO_HOGAR', 'REALIZADA', 'REGION',\n",
       "       'MAS_500', 'AGLOMERADO', 'PONDERA', 'IV1', 'IV1_ESP', 'IV2', 'IV3',\n",
       "       'IV3_ESP', 'IV4', 'IV5', 'IV6', 'IV7', 'IV7_ESP', 'IV8', 'IV9', 'IV10',\n",
       "       'IV11', 'IV12_1', 'IV12_2', 'IV12_3', 'II1', 'II2', 'II3', 'II3_1',\n",
       "       'II4_1', 'II4_2', 'II4_3', 'II5', 'II5_1', 'II6', 'II6_1', 'II7',\n",
       "       'II7_ESP', 'II8', 'II8_ESP', 'II9', 'V1', 'V2', 'V21', 'V22', 'V3',\n",
       "       'V4', 'V5', 'V6', 'V7', 'V8', 'V9', 'V10', 'V11', 'V12', 'V13', 'V14',\n",
       "       'V15', 'V16', 'V17', 'V18', 'V19_A', 'V19_B', 'IX_TOT', 'IX_MEN10',\n",
       "       'IX_MAYEQ10', 'ITF', 'DECIFR', 'IDECIFR', 'RDECIFR', 'GDECIFR',\n",
       "       'PDECIFR', 'ADECIFR', 'IPCF', 'DECCFR', 'IDECCFR', 'RDECCFR', 'GDECCFR',\n",
       "       'PDECCFR', 'ADECCFR', 'PONDIH', 'VII1_1', 'VII1_2', 'VII2_1', 'VII2_2',\n",
       "       'VII2_3', 'VII2_4'],\n",
       "      dtype='object')"
      ]
     },
     "execution_count": 4,
     "metadata": {},
     "output_type": "execute_result"
    }
   ],
   "source": [
    "hogar_2024.columns"
   ]
  },
  {
   "cell_type": "markdown",
   "metadata": {},
   "source": [
    "2. Descarguen la base de microdatos de la EPH correspondiente al primer trimestre de 2004 y 2024 en formato .dta y .xls, respectivamente. La base de hogares se llama Hogar_t104.dta y usu_hogar_T124.xls, respectivamente. Eliminen todas las observaciones que no corresponden a los aglomerados de Ciudad Autónoma de Buenos Aires o Gran Buenos Aires y unan ambos trimestres en una sola base. Esto es, a la base de la encuesta individual de cada año (que usaron en el TP3) unan la base de la encuesta de hogar. Asegúrese de estar usando las variables CODUSU y NRO_Hogar para el merge."
   ]
  },
  {
   "cell_type": "markdown",
   "metadata": {},
   "source": [
    "Para poder trabajar con las cuatro bases de datos es necesario primero pasar el nombre de todas las columnas a minúscula. Esto nos permitirá luego concatenar las bases de datos en una sola y preservar la estructura de la información."
   ]
  },
  {
   "cell_type": "code",
   "execution_count": 5,
   "metadata": {},
   "outputs": [],
   "source": [
    "# En la base de datos del 2024 los nombres de las columnas están en mayúsculas.\n",
    "# Entonces, cambiamos los nombres de las columnas a minúsculas.\n",
    "ind_2024.columns = ind_2024.columns.str.lower()\n",
    "hogar_2024.columns = hogar_2024.columns.str.lower()\n",
    "\n",
    "#Just in case, hacemos lo mismo para las bases del 2004.\n",
    "ind_2004.columns = ind_2004.columns.str.lower()\n",
    "hogar_2004.columns = hogar_2004.columns.str.lower()"
   ]
  },
  {
   "cell_type": "markdown",
   "metadata": {},
   "source": [
    "Ahora eliminamos todas las observaciones que no corresponden a los aglomerados de Ciudad Autónoma de Buenos Aires o Gran Buenos Aires, y unimos ambos trimestres de hogares e individuos en una sola base."
   ]
  },
  {
   "cell_type": "code",
   "execution_count": 6,
   "metadata": {},
   "outputs": [
    {
     "name": "stdout",
     "output_type": "stream",
     "text": [
      "El número de filas con aglomerado 32 y 33 para el año 2004 es: 7647\n",
      "El número de filas con aglomerado 32 y 33 para el año 2024 es: 7051\n",
      "El número de filas con aglomerado 32 y 33 en la base de hogares para el año 2004 es: 2351\n",
      "El número de filas con aglomerado 32 y 33 en la base de hogares para el año 2024 es: 2545\n"
     ]
    }
   ],
   "source": [
    "# Contar el número de filas en el dataframe ind_2004 que son 'Ciudad de Buenos Aires' o 'Partidos del GBA' en la columna \"aglomerado\"\n",
    "count_32_33 = ind_2004[ind_2004['aglomerado'].isin(['Ciudad de Buenos Aires', 'Partidos del GBA'])].shape[0]\n",
    "print(f\"El número de filas con aglomerado 32 y 33 para el año 2004 es: {count_32_33}\")\n",
    "# Contar el número de filas en el dataframe ind_2024 que tienen el valor 32 y 33 en la columna \"aglomerado\"\n",
    "count_32_33_2024 = ind_2024[ind_2024['aglomerado'].isin([32, 33])].shape[0]\n",
    "print(f\"El número de filas con aglomerado 32 y 33 para el año 2024 es: {count_32_33_2024}\")\n",
    "# Contar el número de filas en el dataframe hogar_2004 que son 'Ciudad de Buenos Aires' o 'Partidos del GBA' en la columna \"aglomerado\"\n",
    "count_32_33_hogar = hogar_2004[hogar_2004['aglomerado'].isin(['Ciudad de Buenos Aires', 'Partidos del GBA'])].shape[0]\n",
    "print(f\"El número de filas con aglomerado 32 y 33 en la base de hogares para el año 2004 es: {count_32_33_hogar}\")\n",
    "# Contar el número de filas en el dataframe hogar_2024 que tienen el valor 32 y 33 en la columna \"aglomerado\"\n",
    "count_32_33_hogar_2024 = hogar_2024[hogar_2024['aglomerado'].isin([32, 33])].shape[0]\n",
    "print(f\"El número de filas con aglomerado 32 y 33 en la base de hogares para el año 2024 es: {count_32_33_hogar_2024}\")\n"
   ]
  },
  {
   "cell_type": "code",
   "execution_count": 7,
   "metadata": {},
   "outputs": [],
   "source": [
    "# Primero filtramos los aglomerados de Ciudad Autónoma de Buenos Aires (32) y Gran Buenos Aires (33)\n",
    "ind_2004 = ind_2004[ind_2004['aglomerado'].isin(['Ciudad de Buenos Aires', 'Partidos del GBA'])]\n",
    "ind_2024 = ind_2024[ind_2024['aglomerado'].isin([32, 33])]\n",
    "hogar_2004 = hogar_2004[hogar_2004['aglomerado'].isin(['Ciudad de Buenos Aires', 'Partidos del GBA'])]\n",
    "hogar_2024 = hogar_2024[hogar_2024['aglomerado'].isin([32, 33])]"
   ]
  },
  {
   "cell_type": "markdown",
   "metadata": {},
   "source": [
    "Antes de unir las bases de datos, vamos a quedarnos con las variables que usamos en el TP3 y vamos a reorganizar las variables. Seguramente tengamos que hacer esto con las bases de hogares, lo iremos haciendo al paso."
   ]
  },
  {
   "cell_type": "code",
   "execution_count": 8,
   "metadata": {},
   "outputs": [
    {
     "name": "stdout",
     "output_type": "stream",
     "text": [
      "Index(['codusu', 'nro_hogar', 'ano4', 'ch04', 'ch06', 'ch07', 'ch08',\n",
      "       'nivel_ed', 'estado', 'cat_inac', 'v5_m', 'v11_m', 'v12_m', 'ipcf',\n",
      "       'pp02h', 'pp02i'],\n",
      "      dtype='object')\n",
      "Index(['codusu', 'nro_hogar', 'ano4', 'ch04', 'ch06', 'ch07', 'ch08',\n",
      "       'nivel_ed', 'estado', 'cat_inac', 'v5_m', 'v11_m', 'v12_m', 'ipcf',\n",
      "       'pp02h', 'pp02i'],\n",
      "      dtype='object')\n"
     ]
    }
   ],
   "source": [
    "# Primero hacemos el recorte de variables de interés de la base de individuos en función de lo realizado en el tp3.\n",
    "ind_2004 = ind_2004[['codusu', 'nro_hogar', 'ano4', 'ch04', 'ch06', 'ch07', 'ch08', 'nivel_ed', 'estado', 'cat_inac', 'v5_m', 'v11_m','v12_m', 'ipcf', 'pp02h', 'pp02i']]\n",
    "ind_2024 = ind_2024[['codusu', 'nro_hogar', 'ano4', 'ch04', 'ch06', 'ch07', 'ch08', 'nivel_ed', 'estado', 'cat_inac', 'v5_m', 'v11_m','v12_m', 'ipcf', 'pp02h', 'pp02i']]\n",
    "print(ind_2004.columns)\n",
    "print(ind_2024.columns)"
   ]
  },
  {
   "cell_type": "code",
   "execution_count": 9,
   "metadata": {},
   "outputs": [
    {
     "name": "stderr",
     "output_type": "stream",
     "text": [
      "C:\\Users\\s1290226\\AppData\\Local\\Temp\\ipykernel_17592\\3468715733.py:6: FutureWarning: Downcasting behavior in `replace` is deprecated and will be removed in a future version. To retain the old behavior, explicitly call `result.infer_objects(copy=False)`. To opt-in to the future behavior, set `pd.set_option('future.no_silent_downcasting', True)`\n",
      "  ind_2004['ch04'] = ind_2004['ch04'].replace({'Varón': 1, 'Mujer': 2})\n",
      "C:\\Users\\s1290226\\AppData\\Local\\Temp\\ipykernel_17592\\3468715733.py:6: FutureWarning: The behavior of Series.replace (and DataFrame.replace) with CategoricalDtype is deprecated. In a future version, replace will only be used for cases that preserve the categories. To change the categories, use ser.cat.rename_categories instead.\n",
      "  ind_2004['ch04'] = ind_2004['ch04'].replace({'Varón': 1, 'Mujer': 2})\n",
      "C:\\Users\\s1290226\\AppData\\Local\\Temp\\ipykernel_17592\\3468715733.py:9: FutureWarning: Downcasting behavior in `replace` is deprecated and will be removed in a future version. To retain the old behavior, explicitly call `result.infer_objects(copy=False)`. To opt-in to the future behavior, set `pd.set_option('future.no_silent_downcasting', True)`\n",
      "  ind_2004['ch07'] = ind_2004['ch07'].replace({'Unido': 1, 'Casado': 2,'Separado o divorciado':3, 'Viudo':4,'Ns./Nr.':9,'Soltero':5})\n",
      "C:\\Users\\s1290226\\AppData\\Local\\Temp\\ipykernel_17592\\3468715733.py:9: FutureWarning: The behavior of Series.replace (and DataFrame.replace) with CategoricalDtype is deprecated. In a future version, replace will only be used for cases that preserve the categories. To change the categories, use ser.cat.rename_categories instead.\n",
      "  ind_2004['ch07'] = ind_2004['ch07'].replace({'Unido': 1, 'Casado': 2,'Separado o divorciado':3, 'Viudo':4,'Ns./Nr.':9,'Soltero':5})\n",
      "C:\\Users\\s1290226\\AppData\\Local\\Temp\\ipykernel_17592\\3468715733.py:30: FutureWarning: Downcasting behavior in `replace` is deprecated and will be removed in a future version. To retain the old behavior, explicitly call `result.infer_objects(copy=False)`. To opt-in to the future behavior, set `pd.set_option('future.no_silent_downcasting', True)`\n",
      "  ind_2004['pp02h'] = ind_2004['pp02h'].replace({'Sí': 1, 'No': 2, 0.0:9})\n",
      "C:\\Users\\s1290226\\AppData\\Local\\Temp\\ipykernel_17592\\3468715733.py:30: FutureWarning: The behavior of Series.replace (and DataFrame.replace) with CategoricalDtype is deprecated. In a future version, replace will only be used for cases that preserve the categories. To change the categories, use ser.cat.rename_categories instead.\n",
      "  ind_2004['pp02h'] = ind_2004['pp02h'].replace({'Sí': 1, 'No': 2, 0.0:9})\n",
      "C:\\Users\\s1290226\\AppData\\Local\\Temp\\ipykernel_17592\\3468715733.py:33: FutureWarning: Downcasting behavior in `replace` is deprecated and will be removed in a future version. To retain the old behavior, explicitly call `result.infer_objects(copy=False)`. To opt-in to the future behavior, set `pd.set_option('future.no_silent_downcasting', True)`\n",
      "  ind_2004['pp02i'] = ind_2004['pp02i'].replace({'Sí': 1, 'No': 2, 0.0:9})\n",
      "C:\\Users\\s1290226\\AppData\\Local\\Temp\\ipykernel_17592\\3468715733.py:33: FutureWarning: The behavior of Series.replace (and DataFrame.replace) with CategoricalDtype is deprecated. In a future version, replace will only be used for cases that preserve the categories. To change the categories, use ser.cat.rename_categories instead.\n",
      "  ind_2004['pp02i'] = ind_2004['pp02i'].replace({'Sí': 1, 'No': 2, 0.0:9})\n"
     ]
    }
   ],
   "source": [
    "# Ahora ajustamos las variables de la base de invididuos del 2004 para que tengan el mismo formato que las de 2024.\n",
    "# Se convierte a numérico los valores de ch06 (edades) de los datos de 2004, convirtiendo en na los valores que no son numeros.\n",
    "ind_2004['ch06'] = pd.to_numeric(ind_2004['ch06'], errors='coerce')\n",
    "# Ahora convertimos las variables de 2004 al formato numérico de 2024, para facilitar posteriormente el análisis.\n",
    "#ch04=genero\n",
    "ind_2004['ch04'] = ind_2004['ch04'].replace({'Varón': 1, 'Mujer': 2})\n",
    "ind_2004['ch04'] = pd.to_numeric(ind_2004['ch04'], errors='coerce')\n",
    "#ch07= estado civil\n",
    "ind_2004['ch07'] = ind_2004['ch07'].replace({'Unido': 1, 'Casado': 2,'Separado o divorciado':3, 'Viudo':4,'Ns./Nr.':9,'Soltero':5})\n",
    "ind_2004['ch07'] = pd.to_numeric(ind_2004['ch07'], errors='coerce')\n",
    "#ch08= estado de salud\n",
    "mapeosalud = {'Obra social (incluye PAMI)': 1,'No paga ni le descuentan': 2,'Mutual/Prepaga/Servicio de emergencia': 3,'Obra social y mutual/prepaga/servicio de emergencia': 12,'Planes y seguros públicos': 3,'Ns./Nr.': 9,  'Obra social, mutual/prepaga/servicio de emergencia y planes': 123,'Obra social y planes y seguros públicos': 13,'Mutual/prepaga/servicio de emergencia/planes y seguros públi': 23}\n",
    "ind_2004['ch08'] = ind_2004['ch08'].map(mapeosalud)\n",
    "ind_2004['ch08'] = pd.to_numeric(ind_2004['ch08'], errors='coerce')\n",
    "#nivel_ed= nivel educativo\n",
    "mapeonivel = {'Primaria Incompleta (incluye educación especial)': 1,'Primaria Completa': 2,'Secundaria Incompleta': 3,'Secundaria Completa': 4,'Superior Universitaria Incompleta': 5,'Superior Universitaria Completa': 6,'Sin instrucción': 7,'Ns./ Nr.': 9  }\n",
    "ind_2004['nivel_ed'] = ind_2004['nivel_ed'].map(mapeonivel)\n",
    "ind_2004['nivel_ed'] = pd.to_numeric(ind_2004['nivel_ed'], errors='coerce')\n",
    "#estado = estado laboral\n",
    "mapeoestado = {'Entrevista individual no realizada (no respuesta al cuestion': 0,'Ocupado': 1,'Desocupado': 2,'Inactivo': 3,'Menor de 10 años': 4}\n",
    "ind_2004['estado'] = ind_2004['estado'].map(mapeoestado)\n",
    "ind_2004['estado'] = pd.to_numeric(ind_2004['estado'], errors='coerce')\n",
    "#cat_inac= categoría de inactividad\n",
    "mapeoinac = {'Jubilado / Pensionado': 1,'Rentista': 2,'Estudiante': 3,'Ama de casa': 4,'Menor de 6 años': 5,'Discapacitado': 6,'Otros': 7,0.0:9}\n",
    "ind_2004['cat_inac'] = ind_2004['cat_inac'].map(mapeoinac)\n",
    "ind_2004['cat_inac'] = pd.to_numeric(ind_2004['cat_inac'], errors='coerce')\n",
    "\n",
    "ind_2004['ipcf'] = pd.to_numeric(ind_2004['ipcf'], errors='coerce')\n",
    "\n",
    "ind_2004['pp02h'] = ind_2004['pp02h'].replace({'Sí': 1, 'No': 2, 0.0:9})\n",
    "ind_2004['pp02h'] = pd.to_numeric(ind_2004['pp02h'], errors='coerce')\n",
    "\n",
    "ind_2004['pp02i'] = ind_2004['pp02i'].replace({'Sí': 1, 'No': 2, 0.0:9})\n",
    "ind_2004['pp02i'] = pd.to_numeric(ind_2004['pp02i'], errors='coerce')\n",
    "\n",
    "ind_2004['v5_m'] = pd.to_numeric(ind_2004['v5_m'], errors='coerce')\n",
    "\n",
    "ind_2004['v11_m'] = pd.to_numeric(ind_2004['v11_m'], errors='coerce')\n",
    "\n",
    "ind_2004['v12_m'] = pd.to_numeric(ind_2004['v12_m'], errors='coerce')"
   ]
  },
  {
   "cell_type": "code",
   "execution_count": 10,
   "metadata": {},
   "outputs": [
    {
     "name": "stdout",
     "output_type": "stream",
     "text": [
      "(7647, 16) (7051, 16)\n"
     ]
    }
   ],
   "source": [
    "print(ind_2004.shape, ind_2024.shape)"
   ]
  },
  {
   "cell_type": "code",
   "execution_count": 11,
   "metadata": {},
   "outputs": [
    {
     "name": "stdout",
     "output_type": "stream",
     "text": [
      "codusu         0\n",
      "nro_hogar      0\n",
      "ano4           0\n",
      "ch04           0\n",
      "ch06         135\n",
      "ch07           0\n",
      "ch08           0\n",
      "nivel_ed       0\n",
      "estado         0\n",
      "cat_inac     668\n",
      "v5_m           0\n",
      "v11_m          0\n",
      "v12_m          0\n",
      "ipcf           0\n",
      "pp02h          0\n",
      "pp02i          0\n",
      "dtype: int64\n",
      "(7647, 16) (7051, 16)\n"
     ]
    }
   ],
   "source": [
    "# Ahora chequeamos si hay nulls en la base de datos de 2004\n",
    "print(ind_2004.isnull().sum())\n",
    "# Hay 135 nas en la variable ch06\n",
    "# Hay 668 nas en la variable cat_inac\n",
    "print(ind_2004.shape, ind_2024.shape)"
   ]
  },
  {
   "cell_type": "code",
   "execution_count": 12,
   "metadata": {},
   "outputs": [
    {
     "name": "stdout",
     "output_type": "stream",
     "text": [
      "codusu       0\n",
      "nro_hogar    0\n",
      "ano4         0\n",
      "ch04         0\n",
      "ch06         0\n",
      "ch07         0\n",
      "ch08         0\n",
      "nivel_ed     0\n",
      "estado       0\n",
      "cat_inac     0\n",
      "v5_m         0\n",
      "v11_m        0\n",
      "v12_m        0\n",
      "ipcf         0\n",
      "pp02h        0\n",
      "pp02i        0\n",
      "dtype: int64\n",
      "(7647, 16) (7051, 16)\n"
     ]
    }
   ],
   "source": [
    "# Y si hay nulls en la base de datos de 2024\n",
    "print(ind_2024.isnull().sum())\n",
    "#No hay valores faltantes en la base de datos de 2024.\n",
    "print(ind_2004.shape, ind_2024.shape)"
   ]
  },
  {
   "cell_type": "code",
   "execution_count": 14,
   "metadata": {},
   "outputs": [
    {
     "name": "stdout",
     "output_type": "stream",
     "text": [
      "(6847, 16) (7051, 16)\n",
      "(6847, 16) (7051, 16)\n"
     ]
    }
   ],
   "source": [
    "# Eliminamos los nas\n",
    "ind_2004 = ind_2004.dropna()\n",
    "print(ind_2004.shape, ind_2024.shape)\n",
    "ind_2024 = ind_2024.dropna()\n",
    "print(ind_2004.shape, ind_2024.shape)"
   ]
  },
  {
   "cell_type": "code",
   "execution_count": 15,
   "metadata": {},
   "outputs": [
    {
     "name": "stdout",
     "output_type": "stream",
     "text": [
      "0\n",
      "51\n",
      "(6847, 16) (7051, 16)\n"
     ]
    }
   ],
   "source": [
    "# Chequeamos si hay valores negativos en edad (ch06)\n",
    "print((ind_2004['ch06']<0).sum())\n",
    "print((ind_2024['ch06']<0).sum())\n",
    "#Hay 51 valores negativos de edad en la base del 2024.\n",
    "print(ind_2004.shape, ind_2024.shape)"
   ]
  },
  {
   "cell_type": "code",
   "execution_count": 16,
   "metadata": {},
   "outputs": [
    {
     "name": "stdout",
     "output_type": "stream",
     "text": [
      "(6847, 16) (7000, 16)\n"
     ]
    }
   ],
   "source": [
    "#Eliminamos los valores de edad que sean menores a 0 en ambas bases de datos.\n",
    "ind_2024 = ind_2024[ind_2024['ch06'] >= 0]\n",
    "ind_2004 = ind_2004[ind_2004['ch06'] >= 0]\n",
    "print(ind_2004.shape, ind_2024.shape)"
   ]
  },
  {
   "cell_type": "code",
   "execution_count": 17,
   "metadata": {},
   "outputs": [
    {
     "name": "stdout",
     "output_type": "stream",
     "text": [
      "0\n",
      "0\n"
     ]
    }
   ],
   "source": [
    "# Chequeamos si hay valores negativos de IPCF.\n",
    "print((ind_2004['ipcf']<0).sum())\n",
    "print((ind_2024['ipcf']<0).sum())\n",
    "# No hay valores negativos de IPCF en ninguna de las bases de datos."
   ]
  },
  {
   "cell_type": "code",
   "execution_count": 18,
   "metadata": {},
   "outputs": [
    {
     "name": "stdout",
     "output_type": "stream",
     "text": [
      "0\n",
      "42\n"
     ]
    }
   ],
   "source": [
    "# Chequeaamos si hay valores negativos de v5_m.\n",
    "print((ind_2004['v5_m']<0).sum())\n",
    "print((ind_2024['v5_m']<0).sum())\n",
    "# Hay 42 valores negativos de v5_m en la base de 2024."
   ]
  },
  {
   "cell_type": "code",
   "execution_count": 19,
   "metadata": {},
   "outputs": [
    {
     "name": "stdout",
     "output_type": "stream",
     "text": [
      "(6847, 16) (6958, 16)\n"
     ]
    }
   ],
   "source": [
    "#Eliminamos los valores de v5_m que sean menores a 0 en ambas bases de datos.\n",
    "ind_2024 = ind_2024[ind_2024['v5_m'] >= 0]\n",
    "ind_2004 = ind_2004[ind_2004['v5_m'] >= 0]\n",
    "print(ind_2004.shape, ind_2024.shape)"
   ]
  },
  {
   "cell_type": "code",
   "execution_count": 20,
   "metadata": {},
   "outputs": [
    {
     "name": "stdout",
     "output_type": "stream",
     "text": [
      "0\n",
      "14\n"
     ]
    }
   ],
   "source": [
    "# Chequeamos si hay valores negativos de v11_m.\n",
    "print((ind_2004['v11_m']<0).sum())\n",
    "print((ind_2024['v11_m']<0).sum())\n",
    "# Hay 14 valores negativos de v11_m en la base de 2024."
   ]
  },
  {
   "cell_type": "code",
   "execution_count": 21,
   "metadata": {},
   "outputs": [
    {
     "name": "stdout",
     "output_type": "stream",
     "text": [
      "(6847, 16) (6944, 16)\n"
     ]
    }
   ],
   "source": [
    "#Eliminamos los valores de v11_m que sean menores a 0 en ambas bases de datos.\n",
    "ind_2024 = ind_2024[ind_2024['v11_m'] >= 0]\n",
    "ind_2004 = ind_2004[ind_2004['v11_m'] >= 0]\n",
    "print(ind_2004.shape, ind_2024.shape)"
   ]
  },
  {
   "cell_type": "code",
   "execution_count": 22,
   "metadata": {},
   "outputs": [
    {
     "name": "stdout",
     "output_type": "stream",
     "text": [
      "0\n",
      "46\n"
     ]
    }
   ],
   "source": [
    "# Chequeaamos si hay valores negativos de v12_m.\n",
    "print((ind_2004['v12_m']<0).sum())\n",
    "print((ind_2024['v12_m']<0).sum())\n",
    "# Hay 52 valores negativos de v12_m en la base de 2024."
   ]
  },
  {
   "cell_type": "code",
   "execution_count": 23,
   "metadata": {},
   "outputs": [
    {
     "name": "stdout",
     "output_type": "stream",
     "text": [
      "(6847, 16) (6898, 16)\n"
     ]
    }
   ],
   "source": [
    "#Eliminamos los valores de v12_m que sean menores a 0 en ambas bases de datos.\n",
    "ind_2024 = ind_2024[ind_2024['v12_m'] >= 0]\n",
    "ind_2004 = ind_2004[ind_2004['v12_m'] >= 0]\n",
    "print(ind_2004.shape, ind_2024.shape)"
   ]
  },
  {
   "cell_type": "code",
   "execution_count": 24,
   "metadata": {},
   "outputs": [],
   "source": [
    "# Debido al problema de que las variables del 2004 hay que transformarlas nos vamos a quedar con una selección de variables.\n",
    "# A partir del análisis del diseño del registro, nos vamos a quedar con las siguientes variables:\n",
    "hogar_2004 = hogar_2004[['codusu', 'nro_hogar', 'ano4', 'iv3', 'iv4', 'iv5', 'iv9','iv12_1', 'ii7', 'v5', 'v6', 'v7', 'v11', 'ix_tot', 'ix_men10', 'ix_mayeq10', 'itf']]\n",
    "hogar_2024 = hogar_2024[['codusu', 'nro_hogar', 'ano4', 'iv3', 'iv4', 'iv5', 'iv9','iv12_1', 'ii7', 'v5', 'v6', 'v7', 'v11', 'ix_tot', 'ix_men10', 'ix_mayeq10', 'itf']]"
   ]
  },
  {
   "cell_type": "code",
   "execution_count": 25,
   "metadata": {},
   "outputs": [
    {
     "name": "stdout",
     "output_type": "stream",
     "text": [
      "['No', 'Sí', 'Ns./Nr.']\n",
      "Categories (4, object): [0.0 < 'Sí' < 'No' < 'Ns./Nr.']\n",
      "[2 1 9]\n"
     ]
    }
   ],
   "source": [
    "# Vamos a ver que valores únicos tienen las variables de la base de hogares de 2004.\n",
    "print(hogar_2004['v11'].unique())\n",
    "# Vamos a ver que valores únicos tiene las variables de la base de hogares de 2024.\n",
    "print(hogar_2024['v11'].unique())"
   ]
  },
  {
   "cell_type": "code",
   "execution_count": 26,
   "metadata": {},
   "outputs": [
    {
     "name": "stderr",
     "output_type": "stream",
     "text": [
      "C:\\Users\\s1290226\\AppData\\Local\\Temp\\ipykernel_17592\\3463664367.py:10: FutureWarning: Downcasting behavior in `replace` is deprecated and will be removed in a future version. To retain the old behavior, explicitly call `result.infer_objects(copy=False)`. To opt-in to the future behavior, set `pd.set_option('future.no_silent_downcasting', True)`\n",
      "  hogar_2004['iv5'] = hogar_2004['iv5'].replace({'Sí':1, 'No':2, 'Ns./Nr.':9, 0.0:9})\n",
      "C:\\Users\\s1290226\\AppData\\Local\\Temp\\ipykernel_17592\\3463664367.py:10: FutureWarning: The behavior of Series.replace (and DataFrame.replace) with CategoricalDtype is deprecated. In a future version, replace will only be used for cases that preserve the categories. To change the categories, use ser.cat.rename_categories instead.\n",
      "  hogar_2004['iv5'] = hogar_2004['iv5'].replace({'Sí':1, 'No':2, 'Ns./Nr.':9, 0.0:9})\n",
      "C:\\Users\\s1290226\\AppData\\Local\\Temp\\ipykernel_17592\\3463664367.py:17: FutureWarning: Downcasting behavior in `replace` is deprecated and will be removed in a future version. To retain the old behavior, explicitly call `result.infer_objects(copy=False)`. To opt-in to the future behavior, set `pd.set_option('future.no_silent_downcasting', True)`\n",
      "  hogar_2004['iv12_1'] = hogar_2004['iv12_1'].replace({'Sí': 1, 'No': 2, 0.0:9})\n",
      "C:\\Users\\s1290226\\AppData\\Local\\Temp\\ipykernel_17592\\3463664367.py:17: FutureWarning: The behavior of Series.replace (and DataFrame.replace) with CategoricalDtype is deprecated. In a future version, replace will only be used for cases that preserve the categories. To change the categories, use ser.cat.rename_categories instead.\n",
      "  hogar_2004['iv12_1'] = hogar_2004['iv12_1'].replace({'Sí': 1, 'No': 2, 0.0:9})\n",
      "C:\\Users\\s1290226\\AppData\\Local\\Temp\\ipykernel_17592\\3463664367.py:24: FutureWarning: Downcasting behavior in `replace` is deprecated and will be removed in a future version. To retain the old behavior, explicitly call `result.infer_objects(copy=False)`. To opt-in to the future behavior, set `pd.set_option('future.no_silent_downcasting', True)`\n",
      "  hogar_2004['v5'] = hogar_2004['v5'].replace({'Sí': 1, 'No': 2, 'Ns./Nr.': 9, 0.0:9})\n",
      "C:\\Users\\s1290226\\AppData\\Local\\Temp\\ipykernel_17592\\3463664367.py:24: FutureWarning: The behavior of Series.replace (and DataFrame.replace) with CategoricalDtype is deprecated. In a future version, replace will only be used for cases that preserve the categories. To change the categories, use ser.cat.rename_categories instead.\n",
      "  hogar_2004['v5'] = hogar_2004['v5'].replace({'Sí': 1, 'No': 2, 'Ns./Nr.': 9, 0.0:9})\n",
      "C:\\Users\\s1290226\\AppData\\Local\\Temp\\ipykernel_17592\\3463664367.py:27: FutureWarning: Downcasting behavior in `replace` is deprecated and will be removed in a future version. To retain the old behavior, explicitly call `result.infer_objects(copy=False)`. To opt-in to the future behavior, set `pd.set_option('future.no_silent_downcasting', True)`\n",
      "  hogar_2004['v6'] = hogar_2004['v6'].replace({'Sí': 1, 'No': 2, 'Ns./Nr.': 9, 0.0:9})\n",
      "C:\\Users\\s1290226\\AppData\\Local\\Temp\\ipykernel_17592\\3463664367.py:27: FutureWarning: The behavior of Series.replace (and DataFrame.replace) with CategoricalDtype is deprecated. In a future version, replace will only be used for cases that preserve the categories. To change the categories, use ser.cat.rename_categories instead.\n",
      "  hogar_2004['v6'] = hogar_2004['v6'].replace({'Sí': 1, 'No': 2, 'Ns./Nr.': 9, 0.0:9})\n",
      "C:\\Users\\s1290226\\AppData\\Local\\Temp\\ipykernel_17592\\3463664367.py:30: FutureWarning: Downcasting behavior in `replace` is deprecated and will be removed in a future version. To retain the old behavior, explicitly call `result.infer_objects(copy=False)`. To opt-in to the future behavior, set `pd.set_option('future.no_silent_downcasting', True)`\n",
      "  hogar_2004['v7'] = hogar_2004['v7'].replace({'Sí': 1, 'No': 2, 'Ns./Nr.': 9, 0.0:9})\n",
      "C:\\Users\\s1290226\\AppData\\Local\\Temp\\ipykernel_17592\\3463664367.py:30: FutureWarning: The behavior of Series.replace (and DataFrame.replace) with CategoricalDtype is deprecated. In a future version, replace will only be used for cases that preserve the categories. To change the categories, use ser.cat.rename_categories instead.\n",
      "  hogar_2004['v7'] = hogar_2004['v7'].replace({'Sí': 1, 'No': 2, 'Ns./Nr.': 9, 0.0:9})\n",
      "C:\\Users\\s1290226\\AppData\\Local\\Temp\\ipykernel_17592\\3463664367.py:33: FutureWarning: Downcasting behavior in `replace` is deprecated and will be removed in a future version. To retain the old behavior, explicitly call `result.infer_objects(copy=False)`. To opt-in to the future behavior, set `pd.set_option('future.no_silent_downcasting', True)`\n",
      "  hogar_2004['v11'] = hogar_2004['v11'].replace({'Sí': 1, 'No': 2, 'Ns./Nr.': 9, 0.0:9})\n",
      "C:\\Users\\s1290226\\AppData\\Local\\Temp\\ipykernel_17592\\3463664367.py:33: FutureWarning: The behavior of Series.replace (and DataFrame.replace) with CategoricalDtype is deprecated. In a future version, replace will only be used for cases that preserve the categories. To change the categories, use ser.cat.rename_categories instead.\n",
      "  hogar_2004['v11'] = hogar_2004['v11'].replace({'Sí': 1, 'No': 2, 'Ns./Nr.': 9, 0.0:9})\n"
     ]
    }
   ],
   "source": [
    "# Dado que la base de datos de hogares del 2004 tiene la descripción como valor en vez del valor numérico, vamos a cambiarlo.\n",
    "mapeo_iv3 = {'Mosaico/baldosa/madera/cerámica/alfombra':1, 'Cemento/ladrillo fijo':2, 'Ladrillo suelto/tierra':3, 'Otro':4, 0.0:9}\n",
    "hogar_2004['iv3'] = hogar_2004['iv3'].map(mapeo_iv3)\n",
    "hogar_2004['iv3'] = pd.to_numeric(hogar_2024['iv3'], errors='coerce')\n",
    "\n",
    "mapeo_iv4 = {'Membrana/cubierta asfáltica':1, 'N/S. Depto. de propiedad horizontal':9, 'Baldosa/losa sin cubierta':2, 'Chapa de metal sin cubierta':4, 'Chapa de fibrocemento/plástico':5, 'Pizarra/teja':3, 0.0:9, 'Chapa de cartón':6}\n",
    "hogar_2004['iv4'] = hogar_2004['iv4'].map(mapeo_iv4)\n",
    "hogar_2004['iv4'] = pd.to_numeric(hogar_2024['iv4'], errors='coerce')\n",
    "\n",
    "hogar_2004['iv5'] = hogar_2004['iv5'].replace({'Sí':1, 'No':2, 'Ns./Nr.':9, 0.0:9})\n",
    "hogar_2004['iv5'] = pd.to_numeric(hogar_2004['iv5'], errors='coerce')\n",
    "\n",
    "mapeo_iv9 = {'Dentro de la vivienda': 1, 'Fuera de la vivienda pero dentro del terreno': 2, 'Fuera del terreno':3, 0.0:9}\n",
    "hogar_2004['iv9'] = hogar_2004['iv9'].map(mapeo_iv9)\n",
    "hogar_2004['iv9'] = pd.to_numeric(hogar_2024['iv9'], errors='coerce')\n",
    "\n",
    "hogar_2004['iv12_1'] = hogar_2004['iv12_1'].replace({'Sí': 1, 'No': 2, 0.0:9})\n",
    "hogar_2004['iv12_1'] = pd.to_numeric(hogar_2004['iv12_1'], errors='coerce')\n",
    "\n",
    "mapeo_ii7 = {'Otra situación':9, 'Propietario de la vivienda y el terreno':1, 'Inquilino/arrendatario de la vivienda':3, 'Ocupante por pago de impuestos/expensas':4, 'Propietario de la vivienda solamente':2, 'Ocupante gratuito (con permiso)':6, 'Ocupante en relación de dependencia':5, 'Ocupante de hecho (sin permiso)':7, 'Está en sucesión':8,0.0:9}\n",
    "hogar_2004['ii7'] = hogar_2004['ii7'].map(mapeo_ii7)\n",
    "hogar_2004['ii7'] = pd.to_numeric(hogar_2024['ii7'], errors='coerce')\n",
    "\n",
    "hogar_2004['v5'] = hogar_2004['v5'].replace({'Sí': 1, 'No': 2, 'Ns./Nr.': 9, 0.0:9})\n",
    "hogar_2004['v5'] = pd.to_numeric(hogar_2004['v5'], errors='coerce')\n",
    "\n",
    "hogar_2004['v6'] = hogar_2004['v6'].replace({'Sí': 1, 'No': 2, 'Ns./Nr.': 9, 0.0:9})\n",
    "hogar_2004['v6'] = pd.to_numeric(hogar_2004['v6'], errors='coerce')\n",
    "\n",
    "hogar_2004['v7'] = hogar_2004['v7'].replace({'Sí': 1, 'No': 2, 'Ns./Nr.': 9, 0.0:9})\n",
    "hogar_2004['v7'] = pd.to_numeric(hogar_2004['v7'], errors='coerce')\n",
    "\n",
    "hogar_2004['v11'] = hogar_2004['v11'].replace({'Sí': 1, 'No': 2, 'Ns./Nr.': 9, 0.0:9})\n",
    "hogar_2004['v11'] = pd.to_numeric(hogar_2004['v11'], errors='coerce')\n",
    "\n",
    "hogar_2004['ix_tot'] = pd.to_numeric(hogar_2004['ix_tot'], errors='coerce')\n",
    "\n",
    "hogar_2004['ix_men10'] = pd.to_numeric(hogar_2004['ix_men10'], errors='coerce')\n",
    "\n",
    "hogar_2004['ix_mayeq10'] = pd.to_numeric(hogar_2004['ix_mayeq10'], errors='coerce')\n",
    "\n",
    "hogar_2004['itf'] = pd.to_numeric(hogar_2004['itf'], errors='coerce')"
   ]
  },
  {
   "cell_type": "code",
   "execution_count": 27,
   "metadata": {},
   "outputs": [
    {
     "name": "stdout",
     "output_type": "stream",
     "text": [
      "codusu           0\n",
      "nro_hogar        0\n",
      "ano4             0\n",
      "iv3           2075\n",
      "iv4           2075\n",
      "iv5              0\n",
      "iv9           2075\n",
      "iv12_1           0\n",
      "ii7           2075\n",
      "v5               0\n",
      "v6               0\n",
      "v7               0\n",
      "v11              0\n",
      "ix_tot           0\n",
      "ix_men10      1576\n",
      "ix_mayeq10       0\n",
      "itf              0\n",
      "dtype: int64\n"
     ]
    }
   ],
   "source": [
    "#Chequeo el número de nas para las variables seleccionadas.\n",
    "print(hogar_2004.isnull().sum())\n",
    "# Dado que las variables iv3, iv4, iv9, ii7 e ix_men10 tienen muchos nans, los vamos a excluir de la base de datos.\n",
    "hogar_2004 = hogar_2004.drop(['iv3', 'iv4', 'iv9', 'ii7', 'ix_men10'], axis=1)"
   ]
  },
  {
   "cell_type": "code",
   "execution_count": 28,
   "metadata": {},
   "outputs": [
    {
     "name": "stdout",
     "output_type": "stream",
     "text": [
      "codusu        0\n",
      "nro_hogar     0\n",
      "ano4          0\n",
      "iv5           0\n",
      "iv12_1        0\n",
      "v5            0\n",
      "v6            0\n",
      "v7            0\n",
      "v11           0\n",
      "ix_tot        0\n",
      "ix_mayeq10    0\n",
      "itf           0\n",
      "dtype: int64\n"
     ]
    }
   ],
   "source": [
    "# Vuelvo a chequear si hay valores faltantes en la base de datos de hogares de 2004.\n",
    "print(hogar_2004.isnull().sum())"
   ]
  },
  {
   "cell_type": "code",
   "execution_count": 29,
   "metadata": {},
   "outputs": [
    {
     "name": "stdout",
     "output_type": "stream",
     "text": [
      "codusu        0\n",
      "nro_hogar     0\n",
      "ano4          0\n",
      "iv3           0\n",
      "iv4           0\n",
      "iv5           0\n",
      "iv9           0\n",
      "iv12_1        0\n",
      "ii7           0\n",
      "v5            0\n",
      "v6            0\n",
      "v7            0\n",
      "v11           0\n",
      "ix_tot        0\n",
      "ix_men10      0\n",
      "ix_mayeq10    0\n",
      "itf           0\n",
      "dtype: int64\n"
     ]
    }
   ],
   "source": [
    "# Ahora chequeamos los valores faltantes para la base del 2024.\n",
    "print(hogar_2024.isnull().sum())\n",
    "# Y eliminamos las mismas columnas que en la base de 2004 para no generar nas en el merge.\n",
    "hogar_2024 = hogar_2024.drop(['iv3', 'iv4', 'iv9', 'ii7', 'ix_men10'], axis=1)"
   ]
  },
  {
   "cell_type": "code",
   "execution_count": 30,
   "metadata": {},
   "outputs": [
    {
     "name": "stdout",
     "output_type": "stream",
     "text": [
      "codusu        0\n",
      "nro_hogar     0\n",
      "ano4          0\n",
      "iv5           0\n",
      "iv12_1        0\n",
      "v5            0\n",
      "v6            0\n",
      "v7            0\n",
      "v11           0\n",
      "ix_tot        0\n",
      "ix_mayeq10    0\n",
      "itf           0\n",
      "dtype: int64\n"
     ]
    }
   ],
   "source": [
    "# Vuelvo a chequear si hay valores faltantes en la base de datos de hogares de 2004.\n",
    "print(hogar_2004.isnull().sum())"
   ]
  },
  {
   "cell_type": "code",
   "execution_count": 31,
   "metadata": {},
   "outputs": [
    {
     "name": "stdout",
     "output_type": "stream",
     "text": [
      "0\n",
      "0\n",
      "0\n"
     ]
    }
   ],
   "source": [
    "#Chequeo que las variables itf, ix_mayeq10, e ix_tot no tengan valores negativos.\n",
    "print((hogar_2004['itf']<0).sum())\n",
    "print((hogar_2004['ix_mayeq10']<0).sum())\n",
    "print((hogar_2004['ix_tot']<0).sum())"
   ]
  },
  {
   "cell_type": "code",
   "execution_count": 32,
   "metadata": {},
   "outputs": [
    {
     "name": "stdout",
     "output_type": "stream",
     "text": [
      "0\n",
      "0\n",
      "0\n"
     ]
    }
   ],
   "source": [
    "#Chequeo que las variables itf, ix_men10, e ix_tot no tengan valores negativos.\n",
    "print((hogar_2024['itf']<0).sum())\n",
    "print((hogar_2024['ix_mayeq10']<0).sum())\n",
    "print((hogar_2024['ix_tot']<0).sum())"
   ]
  },
  {
   "cell_type": "code",
   "execution_count": 33,
   "metadata": {},
   "outputs": [
    {
     "data": {
      "text/plain": [
       "((6847, 16), (2351, 12), (6898, 16), (2545, 12))"
      ]
     },
     "execution_count": 33,
     "metadata": {},
     "output_type": "execute_result"
    }
   ],
   "source": [
    "ind_2004.shape, hogar_2004.shape, ind_2024.shape, hogar_2024.shape"
   ]
  },
  {
   "cell_type": "markdown",
   "metadata": {},
   "source": [
    "Ahora sí, una vez eliminados los valores faltantes y los valores sin sentido, además de transformar las variables, procedemos a unir las bases de datos."
   ]
  },
  {
   "cell_type": "code",
   "execution_count": 34,
   "metadata": {},
   "outputs": [],
   "source": [
    "# Verificar las claves en todas las bases\n",
    "claves = [\"codusu\", \"nro_hogar\"]\n",
    "for df, name in zip([ind_2004, hogar_2004, ind_2024, hogar_2024],\n",
    "                    [\"individual_2004\", \"hogar_2004\", \"individual_2024\", \"hogar_2024\"]):\n",
    "    if not all(clave in df.columns for clave in claves):\n",
    "        raise ValueError(f\"Faltan claves en la base {name}\")\n",
    "\n",
    "# Unir las bases individuales y de hogar para cada año\n",
    "base_2004 = pd.merge(ind_2004, hogar_2004, on=claves, how=\"inner\")\n",
    "base_2024 = pd.merge(ind_2024, hogar_2024, on=claves, how=\"inner\")\n",
    "\n",
    "# Agregar columna de año\n",
    "base_2004[\"Año\"] = 2004\n",
    "base_2024[\"Año\"] = 2024\n",
    "\n",
    "# Combinar ambas bases en un solo DataFrame\n",
    "base_final = pd.concat([base_2004, base_2024], ignore_index=True)"
   ]
  },
  {
   "cell_type": "code",
   "execution_count": 35,
   "metadata": {},
   "outputs": [
    {
     "data": {
      "text/plain": [
       "(13745, 27)"
      ]
     },
     "execution_count": 35,
     "metadata": {},
     "output_type": "execute_result"
    }
   ],
   "source": [
    "base_final.shape\n"
   ]
  },
  {
   "cell_type": "markdown",
   "metadata": {},
   "source": [
    "3. Limpien la base de datos tomando criterios que hagan sentido. Explicar cualquier decisión como el tratamiento de valores faltantes (missing values), extremos (outliers), o variables categóricas. Justifique sus decisiones."
   ]
  },
  {
   "cell_type": "code",
   "execution_count": 36,
   "metadata": {},
   "outputs": [
    {
     "name": "stdout",
     "output_type": "stream",
     "text": [
      "No hay columnas con valores faltantes en base_final.\n"
     ]
    }
   ],
   "source": [
    "# Check for missing values in base_final\n",
    "missing_values_base_final = base_final.isnull().sum()\n",
    "missing_columns_base_final = missing_values_base_final[missing_values_base_final > 0]\n",
    "\n",
    "if not missing_columns_base_final.empty:\n",
    "    print(\"Columnas con valores faltantes y su cantidad de NAs:\")\n",
    "    print(missing_columns_base_final)\n",
    "else:\n",
    "    print(\"No hay columnas con valores faltantes en base_final.\")"
   ]
  },
  {
   "cell_type": "code",
   "execution_count": 191,
   "metadata": {},
   "outputs": [],
   "source": [
    "base_final.to_excel(\"base_final.xlsx\", index=False)"
   ]
  },
  {
   "cell_type": "code",
   "execution_count": 37,
   "metadata": {},
   "outputs": [
    {
     "data": {
      "text/plain": [
       "(8717, 27)"
      ]
     },
     "execution_count": 37,
     "metadata": {},
     "output_type": "execute_result"
    }
   ],
   "source": [
    "# Antes de chequear outliers con el MAD, es importante eliminar el valor 9 de todas las columnas que lo tengan.\n",
    "# El 9 es equivalente a 'Ns./Nr.' en las bases de datos, lo cual sigue siendo un missing value.\n",
    "base_final = base_final.replace(9, np.nan)\n",
    "# Eliminamos los valores faltantes\n",
    "base_final = base_final.dropna()\n",
    "base_final.shape"
   ]
  },
  {
   "cell_type": "markdown",
   "metadata": {},
   "source": [
    "Ahora vamos a chequear outliers"
   ]
  },
  {
   "cell_type": "code",
   "execution_count": 38,
   "metadata": {},
   "outputs": [
    {
     "data": {
      "image/png": "[encoded data removed]",
      "text/plain": [
       "<Figure size 2000x2000 with 1 Axes>"
      ]
     },
     "metadata": {},
     "output_type": "display_data"
    }
   ],
   "source": [
    "# Lo primero que debemos hacer es plotear boxplots para ver la distribución de las variables.\n",
    "plt.figure(figsize=(20, 20))\n",
    "sns.boxplot(data=base_final, orient=\"h\")\n",
    "plt.show()\n",
    "# Vemos que ipcf e itf, las variables de ingreso, parecieran tener outliers. Ninguna variable toma valores negativos,\n",
    "# por lo que la limpieza previa funcionó."
   ]
  },
  {
   "cell_type": "code",
   "execution_count": 39,
   "metadata": {},
   "outputs": [
    {
     "data": {
      "image/png": "[encoded data removed]",
      "text/plain": [
       "<Figure size 2000x1500 with 30 Axes>"
      ]
     },
     "metadata": {},
     "output_type": "display_data"
    }
   ],
   "source": [
    "# Otra herramienta útil para ver la distribución de las variables es el histograma.\n",
    "#El histograma nos permite ver si es necesario transformar alguna variable.\n",
    "base_final.hist(figsize=(20, 15), bins=50, edgecolor='black')\n",
    "plt.tight_layout()\n",
    "plt.show()"
   ]
  },
  {
   "cell_type": "code",
   "execution_count": 40,
   "metadata": {},
   "outputs": [
    {
     "data": {
      "text/plain": [
       "(4614, 27)"
      ]
     },
     "execution_count": 40,
     "metadata": {},
     "output_type": "execute_result"
    }
   ],
   "source": [
    "# Quiero eliminar las variables que toman 0 en pp02h.\n",
    "base_final = base_final[base_final['pp02h'] != 0]\n",
    "base_final.shape"
   ]
  },
  {
   "cell_type": "code",
   "execution_count": 41,
   "metadata": {},
   "outputs": [
    {
     "data": {
      "text/plain": [
       "(4614, 27)"
      ]
     },
     "execution_count": 41,
     "metadata": {},
     "output_type": "execute_result"
    }
   ],
   "source": [
    "# Quiero eliminar las variables que toman 0 en pp02i.\n",
    "base_final = base_final[base_final['pp02i'] != 0]\n",
    "base_final.shape"
   ]
  },
  {
   "cell_type": "code",
   "execution_count": 42,
   "metadata": {},
   "outputs": [
    {
     "name": "stdout",
     "output_type": "stream",
     "text": [
      "Outliers for ch06: 15\n",
      "Outliers for ch08: 1938\n",
      "Outliers for v5_m: 124\n",
      "Outliers for v11_m: 41\n",
      "Outliers for v12_m: 114\n",
      "Outliers for ipcf: 1567\n",
      "Outliers for itf: 1553\n",
      "Outliers for ix_tot: 106\n",
      "Outliers for ix_mayeq10: 18\n"
     ]
    },
    {
     "name": "stderr",
     "output_type": "stream",
     "text": [
      "c:\\Users\\s1290226\\AppData\\Local\\anaconda3\\envs\\TereL\\Lib\\site-packages\\pyod\\models\\mad.py:129: RuntimeWarning: divide by zero encountered in divide\n",
      "  return np.nan_to_num(np.ravel(0.6745 * diff / self.median_diff_))\n",
      "c:\\Users\\s1290226\\AppData\\Local\\anaconda3\\envs\\TereL\\Lib\\site-packages\\pyod\\models\\mad.py:129: RuntimeWarning: invalid value encountered in divide\n",
      "  return np.nan_to_num(np.ravel(0.6745 * diff / self.median_diff_))\n",
      "c:\\Users\\s1290226\\AppData\\Local\\anaconda3\\envs\\TereL\\Lib\\site-packages\\numpy\\core\\fromnumeric.py:88: RuntimeWarning: overflow encountered in reduce\n",
      "  return ufunc.reduce(obj, axis, dtype, out, **passkwargs)\n",
      "c:\\Users\\s1290226\\AppData\\Local\\anaconda3\\envs\\TereL\\Lib\\site-packages\\pyod\\models\\mad.py:129: RuntimeWarning: divide by zero encountered in divide\n",
      "  return np.nan_to_num(np.ravel(0.6745 * diff / self.median_diff_))\n",
      "c:\\Users\\s1290226\\AppData\\Local\\anaconda3\\envs\\TereL\\Lib\\site-packages\\pyod\\models\\mad.py:129: RuntimeWarning: invalid value encountered in divide\n",
      "  return np.nan_to_num(np.ravel(0.6745 * diff / self.median_diff_))\n",
      "c:\\Users\\s1290226\\AppData\\Local\\anaconda3\\envs\\TereL\\Lib\\site-packages\\numpy\\core\\fromnumeric.py:88: RuntimeWarning: overflow encountered in reduce\n",
      "  return ufunc.reduce(obj, axis, dtype, out, **passkwargs)\n",
      "c:\\Users\\s1290226\\AppData\\Local\\anaconda3\\envs\\TereL\\Lib\\site-packages\\pyod\\models\\mad.py:129: RuntimeWarning: divide by zero encountered in divide\n",
      "  return np.nan_to_num(np.ravel(0.6745 * diff / self.median_diff_))\n",
      "c:\\Users\\s1290226\\AppData\\Local\\anaconda3\\envs\\TereL\\Lib\\site-packages\\pyod\\models\\mad.py:129: RuntimeWarning: invalid value encountered in divide\n",
      "  return np.nan_to_num(np.ravel(0.6745 * diff / self.median_diff_))\n",
      "c:\\Users\\s1290226\\AppData\\Local\\anaconda3\\envs\\TereL\\Lib\\site-packages\\numpy\\core\\fromnumeric.py:88: RuntimeWarning: overflow encountered in reduce\n",
      "  return ufunc.reduce(obj, axis, dtype, out, **passkwargs)\n",
      "c:\\Users\\s1290226\\AppData\\Local\\anaconda3\\envs\\TereL\\Lib\\site-packages\\pyod\\models\\mad.py:129: RuntimeWarning: divide by zero encountered in divide\n",
      "  return np.nan_to_num(np.ravel(0.6745 * diff / self.median_diff_))\n",
      "c:\\Users\\s1290226\\AppData\\Local\\anaconda3\\envs\\TereL\\Lib\\site-packages\\pyod\\models\\mad.py:129: RuntimeWarning: invalid value encountered in divide\n",
      "  return np.nan_to_num(np.ravel(0.6745 * diff / self.median_diff_))\n",
      "c:\\Users\\s1290226\\AppData\\Local\\anaconda3\\envs\\TereL\\Lib\\site-packages\\numpy\\core\\fromnumeric.py:88: RuntimeWarning: overflow encountered in reduce\n",
      "  return ufunc.reduce(obj, axis, dtype, out, **passkwargs)\n"
     ]
    }
   ],
   "source": [
    "# Ahora sí, vamos a proceder a identificar los outliers las columnas de interés.\n",
    "# Para ello, vamos a usar el método de la desviación absoluta media (MAD).\n",
    "# Install pyod package\n",
    "#%pip install pyod\n",
    "\n",
    "# Import MAD estimator\n",
    "from pyod.models.mad import MAD\n",
    "\n",
    "# Se suele utilizar un umbral de 3.5 para considerar que un punto de datos es un outlier.\n",
    "mad = MAD(threshold = 3.5)\n",
    "columns_with_outliers = ['ch06', 'ch08', 'v5_m', 'v11_m', 'v12_m', 'ipcf', 'itf', 'ix_tot', 'ix_mayeq10']\n",
    "\n",
    "for column in columns_with_outliers:\n",
    "    # Para calcular el Z-score modificado, primero debemos tranformar las columnas en 2D numpy arrays.\n",
    "    total_reshaped = base_final[column].values.reshape(-1, 1)\n",
    "\n",
    "    # Clasificamos los puntos de datos en outliers (1) y no outliers (0)\n",
    "    labels = mad.fit(total_reshaped).labels_\n",
    "    print(f'Outliers for {column}: {np.sum(labels == 1)}')"
   ]
  },
  {
   "cell_type": "code",
   "execution_count": 43,
   "metadata": {},
   "outputs": [
    {
     "data": {
      "text/plain": [
       "(4596, 27)"
      ]
     },
     "execution_count": 43,
     "metadata": {},
     "output_type": "execute_result"
    }
   ],
   "source": [
    "# Por último, filtramos los outliers de cada columna y nos quedamos con un nuevo df.\n",
    "df_unificado = base_final.copy()\n",
    "df_unificado = df_unificado[labels == 0]\n",
    "df_unificado.shape"
   ]
  },
  {
   "cell_type": "markdown",
   "metadata": {},
   "source": [
    "4. Construya variables (mínimo 3) que no estén en la base pero que sean relevantes para predecir individuos desocupados (por ejemplo, la proporción de personas que trabajan en el hogar)."
   ]
  },
  {
   "cell_type": "code",
   "execution_count": 44,
   "metadata": {},
   "outputs": [],
   "source": [
    "# Primero, vamos a crear las variables que utilizamos en el tp3 para la predicción del desempleo.\n",
    "# La columna PEA (Población Económicamente Activa) que toma 1 si están ocupados o desocupados en ESTADO.\n",
    "df_unificado['PEA'] = df_unificado['estado'].apply(lambda x: 1 if x in [1, 2] else 0)"
   ]
  },
  {
   "cell_type": "code",
   "execution_count": 45,
   "metadata": {},
   "outputs": [],
   "source": [
    "# La columna PET (Población en Edad para Trabajar) toma 1 si están la persona tiene entre 15 y 65 años cumplidos. \n",
    "df_unificado['PET'] = df_unificado['ch06'].apply(lambda x: 1 if 15 <= x <= 65 else 0)"
   ]
  },
  {
   "cell_type": "code",
   "execution_count": 46,
   "metadata": {},
   "outputs": [],
   "source": [
    "# Agregamos una columna llamada desocupado que tome 1 si esta desocupada\n",
    "df_unificado['desocupado'] = df_unificado['estado'].apply(lambda x: 1 if x == 2 else 0)\n"
   ]
  },
  {
   "cell_type": "code",
   "execution_count": 47,
   "metadata": {},
   "outputs": [],
   "source": [
    "# Ahora vamos a crear una nueva columna que contenga la proporción de personas que trabajan en el hogar.\n",
    "# Para esto, vamos a dividir la cantidad de personas ocupadas en el hogar por la cantidad total de personas en el hogar.\n",
    "df_unificado['prop_ocupados'] = df_unificado['PEA'] / df_unificado['ix_tot']\n",
    "\n",
    "# Ahora vamos a crear una nueva columna que contenga la proporción de personas que reciben subsidio o ayuda social en el hogar.\n",
    "# Para esto, vamos a dividir la cantidad de personas que reciben subsidio o ayuda social en el hogar por la cantidad total de personas en el hogar.\n",
    "df_unificado['prop_subsidio'] = base_final['v5'] / df_unificado['ix_tot']\n",
    "\n",
    "# Crear una nueva columna que contenga la proporción de personas menores de 10 años en el hogar.\n",
    "# Para esto, vamos a dividir la cantidad de personas menores de 10 años en el hogar por la cantidad total de personas en el hogar.\n",
    "df_unificado['prop_menores_10'] = df_unificado['ix_mayeq10'] / df_unificado['ix_tot']"
   ]
  },
  {
   "cell_type": "markdown",
   "metadata": {},
   "source": [
    "5. Presenten estadísticas descriptivas de tres variables de la encuesta de hogar que ustedes creen que pueden ser relevantes para predecir la desocupación. Comenten las estadísticas obtenidas."
   ]
  },
  {
   "cell_type": "markdown",
   "metadata": {},
   "source": [
    "Por último, vamos a crear dummmys de todas las variables que son categóricas para las regresiones."
   ]
  },
  {
   "cell_type": "code",
   "execution_count": 49,
   "metadata": {},
   "outputs": [
    {
     "name": "stdout",
     "output_type": "stream",
     "text": [
      "Index(['codusu', 'nro_hogar', 'ano4_x', 'ch04', 'ch06', 'ch07', 'ch08',\n",
      "       'nivel_ed', 'estado', 'cat_inac', 'v5_m', 'v11_m', 'v12_m', 'ipcf',\n",
      "       'pp02h', 'pp02i', 'ano4_y', 'iv5', 'iv12_1', 'v5', 'v6', 'v7', 'v11',\n",
      "       'ix_tot', 'ix_mayeq10', 'itf', 'Año', 'PEA', 'PET', 'desocupado',\n",
      "       'prop_ocupados', 'prop_subsidio', 'prop_menores_10', 'ch04_2',\n",
      "       'pp02h_2', 'pp02i_2', 'iv5_2', 'iv12_1_2', 'v5_2', 'v6_2', 'v7_2',\n",
      "       'v11_2', 'ch07_1.0', 'ch07_2.0', 'ch07_3.0', 'ch07_4.0', 'ch07_5.0',\n",
      "       'ch08_1.0', 'ch08_2.0', 'ch08_3.0', 'ch08_4.0', 'ch08_12.0',\n",
      "       'ch08_13.0', 'ch08_23.0', 'nivel_ed_1', 'nivel_ed_2', 'nivel_ed_3',\n",
      "       'nivel_ed_4', 'nivel_ed_5', 'nivel_ed_6', 'nivel_ed_7', 'cat_inac_1.0',\n",
      "       'cat_inac_2.0', 'cat_inac_3.0', 'cat_inac_4.0', 'cat_inac_6.0',\n",
      "       'cat_inac_7.0'],\n",
      "      dtype='object')\n",
      "      codusu  nro_hogar  ano4_x  ch04  ch06  ch07  ch08  nivel_ed  estado  \\\n",
      "2   125558          1.0  2004.0     2  51.0   2.0   3.0         6       3   \n",
      "7   125599          1.0  2004.0     1  17.0   5.0   2.0         3       3   \n",
      "8   125599          1.0  2004.0     1  15.0   5.0   2.0         3       3   \n",
      "13  125783          1.0  2004.0     1  22.0   5.0  12.0         5       3   \n",
      "14  125783          1.0  2004.0     1  18.0   5.0  12.0         3       3   \n",
      "\n",
      "    cat_inac  ...  nivel_ed_4  nivel_ed_5  nivel_ed_6  nivel_ed_7  \\\n",
      "2        4.0  ...       False       False        True       False   \n",
      "7        3.0  ...       False       False       False       False   \n",
      "8        3.0  ...       False       False       False       False   \n",
      "13       3.0  ...       False        True       False       False   \n",
      "14       3.0  ...       False       False       False       False   \n",
      "\n",
      "    cat_inac_1.0  cat_inac_2.0  cat_inac_3.0  cat_inac_4.0  cat_inac_6.0  \\\n",
      "2          False         False         False          True         False   \n",
      "7          False         False          True         False         False   \n",
      "8          False         False          True         False         False   \n",
      "13         False         False          True         False         False   \n",
      "14         False         False          True         False         False   \n",
      "\n",
      "    cat_inac_7.0  \n",
      "2          False  \n",
      "7          False  \n",
      "8          False  \n",
      "13         False  \n",
      "14         False  \n",
      "\n",
      "[5 rows x 67 columns]\n"
     ]
    }
   ],
   "source": [
    "#Transformamos género en binaria \n",
    "df_unificado['ch04_2'] = df_unificado['ch04'].replace({1: 0, 2: 1})\n",
    "\n",
    "#Creamos dummies para ch07 \n",
    "dummies_ch07 = pd.get_dummies(df_unificado['ch07'], prefix='ch07', drop_first=False)\n",
    "\n",
    "#Cremamos dummies para ch08\n",
    "dummies_ch08 = pd.get_dummies(df_unificado['ch08'], prefix='ch08', drop_first=False)\n",
    "\n",
    "#Creamos dummies para nivel_ed\n",
    "dummies_nivel_ed = pd.get_dummies(df_unificado['nivel_ed'], prefix='nivel_ed', drop_first=False)\n",
    "\n",
    "#Creanis dummies para cat_inac\n",
    "dummies_cat_inac = pd.get_dummies(df_unificado['cat_inac'], prefix='cat_inac', drop_first=False)\n",
    "\n",
    "#Transformamos pp02h en binaria\n",
    "df_unificado['pp02h_2'] = df_unificado['pp02h'].replace({1: 0, 2: 1})\n",
    "\n",
    "#Transformamos pp02i en binaria\n",
    "df_unificado['pp02i_2'] = df_unificado['pp02i'].replace({1: 0, 2: 1})\n",
    "\n",
    "#Transformamos iv5 en binaria\n",
    "df_unificado['iv5_2'] = df_unificado['iv5'].replace({1: 0, 2: 1})\n",
    "\n",
    "#Transformamos iv12_1 en binaria\n",
    "df_unificado['iv12_1_2'] = df_unificado['iv12_1'].replace({1: 0, 2: 1})\n",
    "\n",
    "#Transformamos v5 en binaria\n",
    "df_unificado['v5_2'] = df_unificado['v5'].replace({1: 0, 2: 1})\n",
    "\n",
    "#Transformamos v6 en binaria\n",
    "df_unificado['v6_2'] = df_unificado['v6'].replace({1: 0, 2: 1})\n",
    "\n",
    "#Transformamos v7 en binaria\n",
    "df_unificado['v7_2'] = df_unificado['v7'].replace({1: 0, 2: 1})\n",
    "\n",
    "#Transformamos v11 en binaria\n",
    "df_unificado['v11_2'] = df_unificado['v11'].replace({1: 0, 2: 1})\n",
    "\n",
    "#Creamos un nuevo dataframe con las variables dummies\n",
    "df_unificado_2 = pd.concat([df_unificado, dummies_ch07, dummies_ch08, dummies_nivel_ed, dummies_cat_inac], axis=1)\n",
    "\n",
    "print(df_unificado_2.columns)\n",
    "print(df_unificado_2.head())"
   ]
  },
  {
   "cell_type": "markdown",
   "metadata": {},
   "source": [
    "#### Parte II: Clasificación y regularización"
   ]
  },
  {
   "cell_type": "markdown",
   "metadata": {},
   "source": [
    "1. Para cada año, partan la base respondieron en una base de prueba y una de entrenamiento (X_train, y_train, X_test, y_test) utilizando\n",
    "el comando train_test_split. La base de entrenamiento debe comprender el 70% de los datos, y la semilla a utilizar (random state\n",
    "instance) debe ser 101. Establezca a desocupado como su variable dependiente en la base de entrenamiento (vector y). El resto de las variables serán las variables independientes (matriz X). Recuerden agregar la columna de unos (1)."
   ]
  },
  {
   "cell_type": "markdown",
   "metadata": {},
   "source": [
    "Antes de hacer esto, sería importante considerar el feedback que nos dejó Nacho.\n",
    "Parte II:\n",
    "#### Creo que, si bien hicieron unas variables que tienen sentido ordinal, para los modelos hubiera creado dummies para las variables categóricas. Es más seguro.\n",
    "- Habría que preguntarle si crear dummies para absolutamente todas las variables categóricas que tiene la base final.\n",
    "#### Hay algún problema con la convergencia de la regresión logística, no termino de entender por qué.\n",
    "- Si ahora la parte de preprocesamiento de datos está bien, esto no debería volver a pasar. \n",
    "#### Me gustan mucho las figuras de ROC de todos los modelos juntos, pero por algún motivo que no comprendo les dieron valores de Accuracy y AUC bastante peores que sus compañeras. Igual se los consideré bien porque los modelos están bien hechos (salvo el tema de las dummies).\n",
    "- Idem al anterior\n",
    "#### Definitivamente no hubiera utilizado la variable PEA para el entrenamiento de los modelos. Piensen que para crearla utilizaron la variable estado.\n",
    "- Tener en mente la posibilidad de sacar las variables madres de otras variables que creemos. Si podemos pensar entre todas que variables que podamos crear nos evitaría tener tantas variables categóricas, como en el caso de PEA, nos ahorraría tiempo.\n",
    "#### Sacar la variable estado de la base final"
   ]
  },
  {
   "cell_type": "code",
   "execution_count": 50,
   "metadata": {},
   "outputs": [],
   "source": [
    "import statsmodels.api as sm     \n",
    "\n",
    "from sklearn import datasets\n",
    "from sklearn.linear_model import LogisticRegression\n",
    "from sklearn.model_selection import train_test_split\n",
    "from sklearn.metrics import confusion_matrix\n",
    "from sklearn.metrics import accuracy_score, recall_score \n",
    "from sklearn.metrics import roc_curve\n",
    "from sklearn.metrics import roc_auc_score\n",
    "from sklearn.metrics import RocCurveDisplay\n",
    "#from sklearn.metrics import plot_roc_curve\n",
    "from sklearn.discriminant_analysis import LinearDiscriminantAnalysis\n",
    "from sklearn.neighbors import KNeighborsClassifier\n",
    "from sklearn.preprocessing import StandardScaler\n",
    "\n"
   ]
  },
  {
   "cell_type": "code",
   "execution_count": 199,
   "metadata": {},
   "outputs": [],
   "source": [
    "# Entrenaremos con el 70% de la base de datos del 2004 y el resto se usarán para testear \n",
    "# el modelo obtenido\n",
    "# Split the data into training and testing sets\n",
    "train2004, test2004 = train_test_split(base_2004, test_size=0.3, random_state=101)\n",
    "# Define the dependent variable y and the independent variables X\n",
    "y_train_2004 = train2004['desocupado']\n",
    "X_train_2004 = train2004.drop(columns=['desocupado'])\n",
    "\n",
    "y_test_2004 = test2004['desocupado']\n",
    "X_test_2004 = test2004.drop(columns=['desocupado'])\n",
    "\n",
    "# Add a column of ones to X_train and X_test\n",
    "X_train_2004 = X_train_2004.assign(intercept=1)\n",
    "X_test_2004 = X_test_2004.assign(intercept=1)\n",
    "\n",
    "# Repito lo mismo para el 2024\n",
    "train2024, test2024 = train_test_split(base_2024, test_size=0.3, random_state=101)\n",
    "# Define the dependent variable y and the independent variables X\n",
    "y_test_2024 = test2024['desocupado']\n",
    "X_test_2024 = test2024.drop(columns=['desocupado'])\n",
    "\n",
    "y_train_2024 = train2024['desocupado']\n",
    "X_train_2024 = train2024.drop(columns=['desocupado'])"
   ]
  },
  {
   "cell_type": "code",
   "execution_count": 200,
   "metadata": {},
   "outputs": [
    {
     "name": "stdout",
     "output_type": "stream",
     "text": [
      "El conjunto de entrenamiento del 2004 tiene 2435 observaciones.\n",
      "El conjunto de test del 2004 tiene 1044 observaciones.\n",
      "El conjunto de entrenamiento del 2024 tiene 4900 observaciones.\n",
      "El conjunto de test del 2024 tiene 2100 observaciones.\n"
     ]
    }
   ],
   "source": [
    "# Revisamos cuantas observaciones quedaron para Test y cuantas para Entrenamiento.\n",
    "print(f'El conjunto de entrenamiento del 2004 tiene {len(X_train_2004)} observaciones.')\n",
    "print(f'El conjunto de test del 2004 tiene {len(X_test_2004)} observaciones.')\n",
    "print(f'El conjunto de entrenamiento del 2024 tiene {len(X_train_2024)} observaciones.')\n",
    "print(f'El conjunto de test del 2024 tiene {len(X_test_2024)} observaciones.')"
   ]
  },
  {
   "cell_type": "markdown",
   "metadata": {},
   "source": [
    "Expliquen brevemente cómo elegirían λ por validación cruzada (en Python es alpha). Detallen por qué no usarían el conjunto de prueba (test) para su elección"
   ]
  },
  {
   "cell_type": "markdown",
   "metadata": {},
   "source": [
    "En validación cruzada, ¿cuáles son las implicancias de usar un k muy\n",
    "pequeño o uno muy grande? Cuando k = n (con n el número de\n",
    "muestras), ¿cuántas veces se estima el modelo?"
   ]
  },
  {
   "cell_type": "markdown",
   "metadata": {},
   "source": [
    "Para regresión logística, implementen la penalidad, L1 como la de\n",
    "LASSO y L2 como la de Ridge con λ = 1 (como en la Tutorial 10), usando\n",
    "la opción penalty y reporten la matriz de confusión, la curva ROC, los\n",
    "valores de AUC y de Accuracy para cada año.1 ¿Cómo cambiaron los\n",
    "resultados con respecto al TP3? ¿La performance de regresión logística\n",
    "con regularización es mejor o peor?"
   ]
  },
  {
   "cell_type": "code",
   "execution_count": 201,
   "metadata": {},
   "outputs": [
    {
     "data": {
      "text/html": [
       "<div>\n",
       "<style scoped>\n",
       "    .dataframe tbody tr th:only-of-type {\n",
       "        vertical-align: middle;\n",
       "    }\n",
       "\n",
       "    .dataframe tbody tr th {\n",
       "        vertical-align: top;\n",
       "    }\n",
       "\n",
       "    .dataframe thead th {\n",
       "        text-align: right;\n",
       "    }\n",
       "</style>\n",
       "<table border=\"1\" class=\"dataframe\">\n",
       "  <thead>\n",
       "    <tr style=\"text-align: right;\">\n",
       "      <th></th>\n",
       "      <th>count</th>\n",
       "      <th>mean</th>\n",
       "      <th>std</th>\n",
       "      <th>min</th>\n",
       "      <th>25%</th>\n",
       "      <th>50%</th>\n",
       "      <th>75%</th>\n",
       "      <th>max</th>\n",
       "    </tr>\n",
       "  </thead>\n",
       "  <tbody>\n",
       "    <tr>\n",
       "      <th>nro_hogar</th>\n",
       "      <td>2435.0</td>\n",
       "      <td>1.037372</td>\n",
       "      <td>0.196099</td>\n",
       "      <td>1.0</td>\n",
       "      <td>1.0</td>\n",
       "      <td>1.0</td>\n",
       "      <td>1.0</td>\n",
       "      <td>3.0</td>\n",
       "    </tr>\n",
       "    <tr>\n",
       "      <th>ano4_x</th>\n",
       "      <td>2435.0</td>\n",
       "      <td>2004.000000</td>\n",
       "      <td>0.000000</td>\n",
       "      <td>2004.0</td>\n",
       "      <td>2004.0</td>\n",
       "      <td>2004.0</td>\n",
       "      <td>2004.0</td>\n",
       "      <td>2004.0</td>\n",
       "    </tr>\n",
       "    <tr>\n",
       "      <th>ch06</th>\n",
       "      <td>2435.0</td>\n",
       "      <td>21.766324</td>\n",
       "      <td>15.896854</td>\n",
       "      <td>1.0</td>\n",
       "      <td>8.0</td>\n",
       "      <td>20.0</td>\n",
       "      <td>33.0</td>\n",
       "      <td>88.0</td>\n",
       "    </tr>\n",
       "    <tr>\n",
       "      <th>ch08</th>\n",
       "      <td>2435.0</td>\n",
       "      <td>1.744969</td>\n",
       "      <td>1.169776</td>\n",
       "      <td>1.0</td>\n",
       "      <td>1.0</td>\n",
       "      <td>2.0</td>\n",
       "      <td>2.0</td>\n",
       "      <td>23.0</td>\n",
       "    </tr>\n",
       "    <tr>\n",
       "      <th>nivel_ed</th>\n",
       "      <td>2435.0</td>\n",
       "      <td>3.426283</td>\n",
       "      <td>2.169437</td>\n",
       "      <td>1.0</td>\n",
       "      <td>1.0</td>\n",
       "      <td>3.0</td>\n",
       "      <td>5.0</td>\n",
       "      <td>7.0</td>\n",
       "    </tr>\n",
       "    <tr>\n",
       "      <th>estado</th>\n",
       "      <td>2435.0</td>\n",
       "      <td>2.548665</td>\n",
       "      <td>1.265006</td>\n",
       "      <td>0.0</td>\n",
       "      <td>1.0</td>\n",
       "      <td>3.0</td>\n",
       "      <td>4.0</td>\n",
       "      <td>4.0</td>\n",
       "    </tr>\n",
       "    <tr>\n",
       "      <th>cat_inac</th>\n",
       "      <td>2435.0</td>\n",
       "      <td>2.299795</td>\n",
       "      <td>2.083029</td>\n",
       "      <td>0.0</td>\n",
       "      <td>0.0</td>\n",
       "      <td>3.0</td>\n",
       "      <td>4.0</td>\n",
       "      <td>7.0</td>\n",
       "    </tr>\n",
       "    <tr>\n",
       "      <th>ipcf</th>\n",
       "      <td>2435.0</td>\n",
       "      <td>243.479790</td>\n",
       "      <td>314.730579</td>\n",
       "      <td>0.0</td>\n",
       "      <td>87.5</td>\n",
       "      <td>161.5</td>\n",
       "      <td>300.0</td>\n",
       "      <td>4800.0</td>\n",
       "    </tr>\n",
       "    <tr>\n",
       "      <th>ano4_y</th>\n",
       "      <td>2435.0</td>\n",
       "      <td>2004.000000</td>\n",
       "      <td>0.000000</td>\n",
       "      <td>2004.0</td>\n",
       "      <td>2004.0</td>\n",
       "      <td>2004.0</td>\n",
       "      <td>2004.0</td>\n",
       "      <td>2004.0</td>\n",
       "    </tr>\n",
       "    <tr>\n",
       "      <th>itf</th>\n",
       "      <td>2435.0</td>\n",
       "      <td>1136.220123</td>\n",
       "      <td>1226.573110</td>\n",
       "      <td>0.0</td>\n",
       "      <td>450.0</td>\n",
       "      <td>830.0</td>\n",
       "      <td>1422.5</td>\n",
       "      <td>19200.0</td>\n",
       "    </tr>\n",
       "    <tr>\n",
       "      <th>ix_men10</th>\n",
       "      <td>2435.0</td>\n",
       "      <td>1.732238</td>\n",
       "      <td>0.898145</td>\n",
       "      <td>1.0</td>\n",
       "      <td>1.0</td>\n",
       "      <td>2.0</td>\n",
       "      <td>2.0</td>\n",
       "      <td>7.0</td>\n",
       "    </tr>\n",
       "    <tr>\n",
       "      <th>v4</th>\n",
       "      <td>2435.0</td>\n",
       "      <td>1.993018</td>\n",
       "      <td>0.083280</td>\n",
       "      <td>1.0</td>\n",
       "      <td>2.0</td>\n",
       "      <td>2.0</td>\n",
       "      <td>2.0</td>\n",
       "      <td>2.0</td>\n",
       "    </tr>\n",
       "    <tr>\n",
       "      <th>ix_tot</th>\n",
       "      <td>2435.0</td>\n",
       "      <td>5.365092</td>\n",
       "      <td>2.091226</td>\n",
       "      <td>2.0</td>\n",
       "      <td>4.0</td>\n",
       "      <td>5.0</td>\n",
       "      <td>6.0</td>\n",
       "      <td>15.0</td>\n",
       "    </tr>\n",
       "    <tr>\n",
       "      <th>v5</th>\n",
       "      <td>2435.0</td>\n",
       "      <td>1.892402</td>\n",
       "      <td>0.309935</td>\n",
       "      <td>1.0</td>\n",
       "      <td>2.0</td>\n",
       "      <td>2.0</td>\n",
       "      <td>2.0</td>\n",
       "      <td>2.0</td>\n",
       "    </tr>\n",
       "    <tr>\n",
       "      <th>Año</th>\n",
       "      <td>2435.0</td>\n",
       "      <td>2004.000000</td>\n",
       "      <td>0.000000</td>\n",
       "      <td>2004.0</td>\n",
       "      <td>2004.0</td>\n",
       "      <td>2004.0</td>\n",
       "      <td>2004.0</td>\n",
       "      <td>2004.0</td>\n",
       "    </tr>\n",
       "    <tr>\n",
       "      <th>intercept</th>\n",
       "      <td>2435.0</td>\n",
       "      <td>1.000000</td>\n",
       "      <td>0.000000</td>\n",
       "      <td>1.0</td>\n",
       "      <td>1.0</td>\n",
       "      <td>1.0</td>\n",
       "      <td>1.0</td>\n",
       "      <td>1.0</td>\n",
       "    </tr>\n",
       "  </tbody>\n",
       "</table>\n",
       "</div>"
      ],
      "text/plain": [
       "            count         mean          std     min     25%     50%     75%  \\\n",
       "nro_hogar  2435.0     1.037372     0.196099     1.0     1.0     1.0     1.0   \n",
       "ano4_x     2435.0  2004.000000     0.000000  2004.0  2004.0  2004.0  2004.0   \n",
       "ch06       2435.0    21.766324    15.896854     1.0     8.0    20.0    33.0   \n",
       "ch08       2435.0     1.744969     1.169776     1.0     1.0     2.0     2.0   \n",
       "nivel_ed   2435.0     3.426283     2.169437     1.0     1.0     3.0     5.0   \n",
       "estado     2435.0     2.548665     1.265006     0.0     1.0     3.0     4.0   \n",
       "cat_inac   2435.0     2.299795     2.083029     0.0     0.0     3.0     4.0   \n",
       "ipcf       2435.0   243.479790   314.730579     0.0    87.5   161.5   300.0   \n",
       "ano4_y     2435.0  2004.000000     0.000000  2004.0  2004.0  2004.0  2004.0   \n",
       "itf        2435.0  1136.220123  1226.573110     0.0   450.0   830.0  1422.5   \n",
       "ix_men10   2435.0     1.732238     0.898145     1.0     1.0     2.0     2.0   \n",
       "v4         2435.0     1.993018     0.083280     1.0     2.0     2.0     2.0   \n",
       "ix_tot     2435.0     5.365092     2.091226     2.0     4.0     5.0     6.0   \n",
       "v5         2435.0     1.892402     0.309935     1.0     2.0     2.0     2.0   \n",
       "Año        2435.0  2004.000000     0.000000  2004.0  2004.0  2004.0  2004.0   \n",
       "intercept  2435.0     1.000000     0.000000     1.0     1.0     1.0     1.0   \n",
       "\n",
       "               max  \n",
       "nro_hogar      3.0  \n",
       "ano4_x      2004.0  \n",
       "ch06          88.0  \n",
       "ch08          23.0  \n",
       "nivel_ed       7.0  \n",
       "estado         4.0  \n",
       "cat_inac       7.0  \n",
       "ipcf        4800.0  \n",
       "ano4_y      2004.0  \n",
       "itf        19200.0  \n",
       "ix_men10       7.0  \n",
       "v4             2.0  \n",
       "ix_tot        15.0  \n",
       "v5             2.0  \n",
       "Año         2004.0  \n",
       "intercept      1.0  "
      ]
     },
     "execution_count": 201,
     "metadata": {},
     "output_type": "execute_result"
    }
   ],
   "source": [
    "#antes de hacer la regresión, necesitamos estandarizar las variables\n",
    "# Estadisticas antes de estandarizar, base 2004\n",
    "X_train_2004.describe().T"
   ]
  },
  {
   "cell_type": "code",
   "execution_count": 202,
   "metadata": {},
   "outputs": [],
   "source": [
    "#voy a transformar la columna \"codusu\" en 0 porque es string y cuando corro la standarización me da error\n",
    "X_train_2024['codusu'] = 0\n",
    "X_test_2024['codusu'] = 0"
   ]
  },
  {
   "cell_type": "code",
   "execution_count": 203,
   "metadata": {},
   "outputs": [
    {
     "data": {
      "text/html": [
       "<div>\n",
       "<style scoped>\n",
       "    .dataframe tbody tr th:only-of-type {\n",
       "        vertical-align: middle;\n",
       "    }\n",
       "\n",
       "    .dataframe tbody tr th {\n",
       "        vertical-align: top;\n",
       "    }\n",
       "\n",
       "    .dataframe thead th {\n",
       "        text-align: right;\n",
       "    }\n",
       "</style>\n",
       "<table border=\"1\" class=\"dataframe\">\n",
       "  <thead>\n",
       "    <tr style=\"text-align: right;\">\n",
       "      <th></th>\n",
       "      <th>count</th>\n",
       "      <th>mean</th>\n",
       "      <th>std</th>\n",
       "      <th>min</th>\n",
       "      <th>25%</th>\n",
       "      <th>50%</th>\n",
       "      <th>75%</th>\n",
       "      <th>max</th>\n",
       "    </tr>\n",
       "  </thead>\n",
       "  <tbody>\n",
       "    <tr>\n",
       "      <th>codusu</th>\n",
       "      <td>4900.0</td>\n",
       "      <td>0.000000</td>\n",
       "      <td>0.000000e+00</td>\n",
       "      <td>0.0</td>\n",
       "      <td>0.0</td>\n",
       "      <td>0.00</td>\n",
       "      <td>0.0</td>\n",
       "      <td>0.00</td>\n",
       "    </tr>\n",
       "    <tr>\n",
       "      <th>nro_hogar</th>\n",
       "      <td>4900.0</td>\n",
       "      <td>1.019388</td>\n",
       "      <td>7.216307e-01</td>\n",
       "      <td>1.0</td>\n",
       "      <td>1.0</td>\n",
       "      <td>1.00</td>\n",
       "      <td>1.0</td>\n",
       "      <td>51.00</td>\n",
       "    </tr>\n",
       "    <tr>\n",
       "      <th>ano4_x</th>\n",
       "      <td>4900.0</td>\n",
       "      <td>2024.000000</td>\n",
       "      <td>0.000000e+00</td>\n",
       "      <td>2024.0</td>\n",
       "      <td>2024.0</td>\n",
       "      <td>2024.00</td>\n",
       "      <td>2024.0</td>\n",
       "      <td>2024.00</td>\n",
       "    </tr>\n",
       "    <tr>\n",
       "      <th>ch04</th>\n",
       "      <td>4900.0</td>\n",
       "      <td>1.527755</td>\n",
       "      <td>4.992800e-01</td>\n",
       "      <td>1.0</td>\n",
       "      <td>1.0</td>\n",
       "      <td>2.00</td>\n",
       "      <td>2.0</td>\n",
       "      <td>2.00</td>\n",
       "    </tr>\n",
       "    <tr>\n",
       "      <th>ch06</th>\n",
       "      <td>4900.0</td>\n",
       "      <td>38.341837</td>\n",
       "      <td>2.290298e+01</td>\n",
       "      <td>1.0</td>\n",
       "      <td>19.0</td>\n",
       "      <td>37.00</td>\n",
       "      <td>56.0</td>\n",
       "      <td>97.00</td>\n",
       "    </tr>\n",
       "    <tr>\n",
       "      <th>ch07</th>\n",
       "      <td>4900.0</td>\n",
       "      <td>3.438367</td>\n",
       "      <td>1.667894e+00</td>\n",
       "      <td>1.0</td>\n",
       "      <td>2.0</td>\n",
       "      <td>4.00</td>\n",
       "      <td>5.0</td>\n",
       "      <td>9.00</td>\n",
       "    </tr>\n",
       "    <tr>\n",
       "      <th>ch08</th>\n",
       "      <td>4900.0</td>\n",
       "      <td>2.145306</td>\n",
       "      <td>1.913443e+00</td>\n",
       "      <td>1.0</td>\n",
       "      <td>1.0</td>\n",
       "      <td>1.00</td>\n",
       "      <td>4.0</td>\n",
       "      <td>23.00</td>\n",
       "    </tr>\n",
       "    <tr>\n",
       "      <th>nivel_ed</th>\n",
       "      <td>4900.0</td>\n",
       "      <td>3.818163</td>\n",
       "      <td>1.722596e+00</td>\n",
       "      <td>1.0</td>\n",
       "      <td>3.0</td>\n",
       "      <td>4.00</td>\n",
       "      <td>5.0</td>\n",
       "      <td>7.00</td>\n",
       "    </tr>\n",
       "    <tr>\n",
       "      <th>estado</th>\n",
       "      <td>4900.0</td>\n",
       "      <td>2.136327</td>\n",
       "      <td>1.137867e+00</td>\n",
       "      <td>0.0</td>\n",
       "      <td>1.0</td>\n",
       "      <td>2.00</td>\n",
       "      <td>3.0</td>\n",
       "      <td>4.00</td>\n",
       "    </tr>\n",
       "    <tr>\n",
       "      <th>cat_inac</th>\n",
       "      <td>4900.0</td>\n",
       "      <td>1.592653</td>\n",
       "      <td>1.950967e+00</td>\n",
       "      <td>0.0</td>\n",
       "      <td>0.0</td>\n",
       "      <td>0.00</td>\n",
       "      <td>3.0</td>\n",
       "      <td>7.00</td>\n",
       "    </tr>\n",
       "    <tr>\n",
       "      <th>ipcf</th>\n",
       "      <td>4900.0</td>\n",
       "      <td>165109.349865</td>\n",
       "      <td>4.301617e+05</td>\n",
       "      <td>0.0</td>\n",
       "      <td>0.0</td>\n",
       "      <td>66666.67</td>\n",
       "      <td>200000.0</td>\n",
       "      <td>11312333.33</td>\n",
       "    </tr>\n",
       "    <tr>\n",
       "      <th>ano4_y</th>\n",
       "      <td>4900.0</td>\n",
       "      <td>2024.000000</td>\n",
       "      <td>0.000000e+00</td>\n",
       "      <td>2024.0</td>\n",
       "      <td>2024.0</td>\n",
       "      <td>2024.00</td>\n",
       "      <td>2024.0</td>\n",
       "      <td>2024.00</td>\n",
       "    </tr>\n",
       "    <tr>\n",
       "      <th>itf</th>\n",
       "      <td>4900.0</td>\n",
       "      <td>467527.111429</td>\n",
       "      <td>1.212928e+06</td>\n",
       "      <td>0.0</td>\n",
       "      <td>0.0</td>\n",
       "      <td>209500.00</td>\n",
       "      <td>600000.0</td>\n",
       "      <td>33937000.00</td>\n",
       "    </tr>\n",
       "    <tr>\n",
       "      <th>ix_men10</th>\n",
       "      <td>4900.0</td>\n",
       "      <td>0.558571</td>\n",
       "      <td>9.013598e-01</td>\n",
       "      <td>0.0</td>\n",
       "      <td>0.0</td>\n",
       "      <td>0.00</td>\n",
       "      <td>1.0</td>\n",
       "      <td>6.00</td>\n",
       "    </tr>\n",
       "    <tr>\n",
       "      <th>v4</th>\n",
       "      <td>4900.0</td>\n",
       "      <td>2.024898</td>\n",
       "      <td>4.377946e-01</td>\n",
       "      <td>1.0</td>\n",
       "      <td>2.0</td>\n",
       "      <td>2.00</td>\n",
       "      <td>2.0</td>\n",
       "      <td>9.00</td>\n",
       "    </tr>\n",
       "    <tr>\n",
       "      <th>ix_tot</th>\n",
       "      <td>4900.0</td>\n",
       "      <td>3.678163</td>\n",
       "      <td>1.895271e+00</td>\n",
       "      <td>1.0</td>\n",
       "      <td>2.0</td>\n",
       "      <td>3.00</td>\n",
       "      <td>5.0</td>\n",
       "      <td>12.00</td>\n",
       "    </tr>\n",
       "    <tr>\n",
       "      <th>v5</th>\n",
       "      <td>4900.0</td>\n",
       "      <td>1.850204</td>\n",
       "      <td>5.870011e-01</td>\n",
       "      <td>1.0</td>\n",
       "      <td>2.0</td>\n",
       "      <td>2.00</td>\n",
       "      <td>2.0</td>\n",
       "      <td>9.00</td>\n",
       "    </tr>\n",
       "    <tr>\n",
       "      <th>ii7</th>\n",
       "      <td>4900.0</td>\n",
       "      <td>1.964694</td>\n",
       "      <td>1.616844e+00</td>\n",
       "      <td>0.0</td>\n",
       "      <td>1.0</td>\n",
       "      <td>1.00</td>\n",
       "      <td>3.0</td>\n",
       "      <td>9.00</td>\n",
       "    </tr>\n",
       "    <tr>\n",
       "      <th>Año</th>\n",
       "      <td>4900.0</td>\n",
       "      <td>2024.000000</td>\n",
       "      <td>0.000000e+00</td>\n",
       "      <td>2024.0</td>\n",
       "      <td>2024.0</td>\n",
       "      <td>2024.00</td>\n",
       "      <td>2024.0</td>\n",
       "      <td>2024.00</td>\n",
       "    </tr>\n",
       "  </tbody>\n",
       "</table>\n",
       "</div>"
      ],
      "text/plain": [
       "            count           mean           std     min     25%        50%  \\\n",
       "codusu     4900.0       0.000000  0.000000e+00     0.0     0.0       0.00   \n",
       "nro_hogar  4900.0       1.019388  7.216307e-01     1.0     1.0       1.00   \n",
       "ano4_x     4900.0    2024.000000  0.000000e+00  2024.0  2024.0    2024.00   \n",
       "ch04       4900.0       1.527755  4.992800e-01     1.0     1.0       2.00   \n",
       "ch06       4900.0      38.341837  2.290298e+01     1.0    19.0      37.00   \n",
       "ch07       4900.0       3.438367  1.667894e+00     1.0     2.0       4.00   \n",
       "ch08       4900.0       2.145306  1.913443e+00     1.0     1.0       1.00   \n",
       "nivel_ed   4900.0       3.818163  1.722596e+00     1.0     3.0       4.00   \n",
       "estado     4900.0       2.136327  1.137867e+00     0.0     1.0       2.00   \n",
       "cat_inac   4900.0       1.592653  1.950967e+00     0.0     0.0       0.00   \n",
       "ipcf       4900.0  165109.349865  4.301617e+05     0.0     0.0   66666.67   \n",
       "ano4_y     4900.0    2024.000000  0.000000e+00  2024.0  2024.0    2024.00   \n",
       "itf        4900.0  467527.111429  1.212928e+06     0.0     0.0  209500.00   \n",
       "ix_men10   4900.0       0.558571  9.013598e-01     0.0     0.0       0.00   \n",
       "v4         4900.0       2.024898  4.377946e-01     1.0     2.0       2.00   \n",
       "ix_tot     4900.0       3.678163  1.895271e+00     1.0     2.0       3.00   \n",
       "v5         4900.0       1.850204  5.870011e-01     1.0     2.0       2.00   \n",
       "ii7        4900.0       1.964694  1.616844e+00     0.0     1.0       1.00   \n",
       "Año        4900.0    2024.000000  0.000000e+00  2024.0  2024.0    2024.00   \n",
       "\n",
       "                75%          max  \n",
       "codusu          0.0         0.00  \n",
       "nro_hogar       1.0        51.00  \n",
       "ano4_x       2024.0      2024.00  \n",
       "ch04            2.0         2.00  \n",
       "ch06           56.0        97.00  \n",
       "ch07            5.0         9.00  \n",
       "ch08            4.0        23.00  \n",
       "nivel_ed        5.0         7.00  \n",
       "estado          3.0         4.00  \n",
       "cat_inac        3.0         7.00  \n",
       "ipcf       200000.0  11312333.33  \n",
       "ano4_y       2024.0      2024.00  \n",
       "itf        600000.0  33937000.00  \n",
       "ix_men10        1.0         6.00  \n",
       "v4              2.0         9.00  \n",
       "ix_tot          5.0        12.00  \n",
       "v5              2.0         9.00  \n",
       "ii7             3.0         9.00  \n",
       "Año          2024.0      2024.00  "
      ]
     },
     "execution_count": 203,
     "metadata": {},
     "output_type": "execute_result"
    }
   ],
   "source": [
    "# Estadisticas antes de estandarizar\n",
    "X_train_2024.describe().T\n"
   ]
  },
  {
   "cell_type": "code",
   "execution_count": 204,
   "metadata": {},
   "outputs": [
    {
     "data": {
      "text/html": [
       "<div>\n",
       "<style scoped>\n",
       "    .dataframe tbody tr th:only-of-type {\n",
       "        vertical-align: middle;\n",
       "    }\n",
       "\n",
       "    .dataframe tbody tr th {\n",
       "        vertical-align: top;\n",
       "    }\n",
       "\n",
       "    .dataframe thead th {\n",
       "        text-align: right;\n",
       "    }\n",
       "</style>\n",
       "<table border=\"1\" class=\"dataframe\">\n",
       "  <thead>\n",
       "    <tr style=\"text-align: right;\">\n",
       "      <th></th>\n",
       "      <th>count</th>\n",
       "      <th>mean</th>\n",
       "      <th>std</th>\n",
       "      <th>min</th>\n",
       "      <th>25%</th>\n",
       "      <th>50%</th>\n",
       "      <th>75%</th>\n",
       "      <th>max</th>\n",
       "    </tr>\n",
       "  </thead>\n",
       "  <tbody>\n",
       "    <tr>\n",
       "      <th>codusu</th>\n",
       "      <td>1044.0</td>\n",
       "      <td>-0.027714</td>\n",
       "      <td>0.989524</td>\n",
       "      <td>-1.763105</td>\n",
       "      <td>-0.878766</td>\n",
       "      <td>-0.090725</td>\n",
       "      <td>0.889561</td>\n",
       "      <td>1.709348</td>\n",
       "    </tr>\n",
       "    <tr>\n",
       "      <th>nro_hogar</th>\n",
       "      <td>1044.0</td>\n",
       "      <td>-0.034277</td>\n",
       "      <td>0.907516</td>\n",
       "      <td>-0.190614</td>\n",
       "      <td>-0.190614</td>\n",
       "      <td>-0.190614</td>\n",
       "      <td>-0.190614</td>\n",
       "      <td>10.010402</td>\n",
       "    </tr>\n",
       "    <tr>\n",
       "      <th>ano4_x</th>\n",
       "      <td>1044.0</td>\n",
       "      <td>0.000000</td>\n",
       "      <td>0.000000</td>\n",
       "      <td>0.000000</td>\n",
       "      <td>0.000000</td>\n",
       "      <td>0.000000</td>\n",
       "      <td>0.000000</td>\n",
       "      <td>0.000000</td>\n",
       "    </tr>\n",
       "    <tr>\n",
       "      <th>ch04</th>\n",
       "      <td>1044.0</td>\n",
       "      <td>-0.045648</td>\n",
       "      <td>1.001784</td>\n",
       "      <td>-1.052723</td>\n",
       "      <td>-1.052723</td>\n",
       "      <td>0.949918</td>\n",
       "      <td>0.949918</td>\n",
       "      <td>0.949918</td>\n",
       "    </tr>\n",
       "    <tr>\n",
       "      <th>ch06</th>\n",
       "      <td>1044.0</td>\n",
       "      <td>0.026635</td>\n",
       "      <td>1.021803</td>\n",
       "      <td>-1.306585</td>\n",
       "      <td>-0.929074</td>\n",
       "      <td>-0.111134</td>\n",
       "      <td>0.769724</td>\n",
       "      <td>3.286462</td>\n",
       "    </tr>\n",
       "    <tr>\n",
       "      <th>ch07</th>\n",
       "      <td>1044.0</td>\n",
       "      <td>-0.013800</td>\n",
       "      <td>0.994528</td>\n",
       "      <td>-1.555851</td>\n",
       "      <td>-0.954693</td>\n",
       "      <td>0.848781</td>\n",
       "      <td>0.848781</td>\n",
       "      <td>0.848781</td>\n",
       "    </tr>\n",
       "    <tr>\n",
       "      <th>ch08</th>\n",
       "      <td>1044.0</td>\n",
       "      <td>0.041157</td>\n",
       "      <td>1.284352</td>\n",
       "      <td>-0.636979</td>\n",
       "      <td>-0.636979</td>\n",
       "      <td>0.218062</td>\n",
       "      <td>0.218062</td>\n",
       "      <td>18.173907</td>\n",
       "    </tr>\n",
       "    <tr>\n",
       "      <th>nivel_ed</th>\n",
       "      <td>1044.0</td>\n",
       "      <td>0.025154</td>\n",
       "      <td>1.011731</td>\n",
       "      <td>-1.118623</td>\n",
       "      <td>-0.657579</td>\n",
       "      <td>-0.196535</td>\n",
       "      <td>1.186596</td>\n",
       "      <td>1.647640</td>\n",
       "    </tr>\n",
       "    <tr>\n",
       "      <th>estado</th>\n",
       "      <td>1044.0</td>\n",
       "      <td>-0.035449</td>\n",
       "      <td>1.007946</td>\n",
       "      <td>-1.224487</td>\n",
       "      <td>-1.224487</td>\n",
       "      <td>0.356858</td>\n",
       "      <td>1.147531</td>\n",
       "      <td>1.147531</td>\n",
       "    </tr>\n",
       "    <tr>\n",
       "      <th>cat_inac</th>\n",
       "      <td>1044.0</td>\n",
       "      <td>-0.025750</td>\n",
       "      <td>1.015574</td>\n",
       "      <td>-1.104289</td>\n",
       "      <td>-1.104289</td>\n",
       "      <td>0.336217</td>\n",
       "      <td>0.816385</td>\n",
       "      <td>2.256892</td>\n",
       "    </tr>\n",
       "    <tr>\n",
       "      <th>ipcf</th>\n",
       "      <td>1044.0</td>\n",
       "      <td>0.005131</td>\n",
       "      <td>1.019694</td>\n",
       "      <td>-0.773772</td>\n",
       "      <td>-0.495700</td>\n",
       "      <td>-0.297076</td>\n",
       "      <td>0.179620</td>\n",
       "      <td>14.480500</td>\n",
       "    </tr>\n",
       "    <tr>\n",
       "      <th>ano4_y</th>\n",
       "      <td>1044.0</td>\n",
       "      <td>0.000000</td>\n",
       "      <td>0.000000</td>\n",
       "      <td>0.000000</td>\n",
       "      <td>0.000000</td>\n",
       "      <td>0.000000</td>\n",
       "      <td>0.000000</td>\n",
       "      <td>0.000000</td>\n",
       "    </tr>\n",
       "    <tr>\n",
       "      <th>itf</th>\n",
       "      <td>1044.0</td>\n",
       "      <td>0.029116</td>\n",
       "      <td>1.047054</td>\n",
       "      <td>-0.926527</td>\n",
       "      <td>-0.553460</td>\n",
       "      <td>-0.263977</td>\n",
       "      <td>0.215099</td>\n",
       "      <td>14.730056</td>\n",
       "    </tr>\n",
       "    <tr>\n",
       "      <th>ix_men10</th>\n",
       "      <td>1044.0</td>\n",
       "      <td>0.014447</td>\n",
       "      <td>1.023052</td>\n",
       "      <td>-0.815446</td>\n",
       "      <td>-0.815446</td>\n",
       "      <td>0.298189</td>\n",
       "      <td>0.298189</td>\n",
       "      <td>5.866365</td>\n",
       "    </tr>\n",
       "    <tr>\n",
       "      <th>v4</th>\n",
       "      <td>1044.0</td>\n",
       "      <td>0.014825</td>\n",
       "      <td>0.908298</td>\n",
       "      <td>-11.926244</td>\n",
       "      <td>0.083849</td>\n",
       "      <td>0.083849</td>\n",
       "      <td>0.083849</td>\n",
       "      <td>0.083849</td>\n",
       "    </tr>\n",
       "    <tr>\n",
       "      <th>ix_tot</th>\n",
       "      <td>1044.0</td>\n",
       "      <td>0.053988</td>\n",
       "      <td>1.022458</td>\n",
       "      <td>-1.609479</td>\n",
       "      <td>-0.652905</td>\n",
       "      <td>-0.174619</td>\n",
       "      <td>0.781954</td>\n",
       "      <td>4.608247</td>\n",
       "    </tr>\n",
       "    <tr>\n",
       "      <th>v5</th>\n",
       "      <td>1044.0</td>\n",
       "      <td>0.022664</td>\n",
       "      <td>0.971077</td>\n",
       "      <td>-2.879912</td>\n",
       "      <td>0.347233</td>\n",
       "      <td>0.347233</td>\n",
       "      <td>0.347233</td>\n",
       "      <td>0.347233</td>\n",
       "    </tr>\n",
       "    <tr>\n",
       "      <th>ii7</th>\n",
       "      <td>1044.0</td>\n",
       "      <td>-0.018036</td>\n",
       "      <td>1.013318</td>\n",
       "      <td>-0.659818</td>\n",
       "      <td>-0.659818</td>\n",
       "      <td>-0.659818</td>\n",
       "      <td>0.499386</td>\n",
       "      <td>3.976996</td>\n",
       "    </tr>\n",
       "    <tr>\n",
       "      <th>Año</th>\n",
       "      <td>1044.0</td>\n",
       "      <td>0.000000</td>\n",
       "      <td>0.000000</td>\n",
       "      <td>0.000000</td>\n",
       "      <td>0.000000</td>\n",
       "      <td>0.000000</td>\n",
       "      <td>0.000000</td>\n",
       "      <td>0.000000</td>\n",
       "    </tr>\n",
       "    <tr>\n",
       "      <th>intercept</th>\n",
       "      <td>1044.0</td>\n",
       "      <td>0.000000</td>\n",
       "      <td>0.000000</td>\n",
       "      <td>0.000000</td>\n",
       "      <td>0.000000</td>\n",
       "      <td>0.000000</td>\n",
       "      <td>0.000000</td>\n",
       "      <td>0.000000</td>\n",
       "    </tr>\n",
       "  </tbody>\n",
       "</table>\n",
       "</div>"
      ],
      "text/plain": [
       "            count      mean       std        min       25%       50%  \\\n",
       "codusu     1044.0 -0.027714  0.989524  -1.763105 -0.878766 -0.090725   \n",
       "nro_hogar  1044.0 -0.034277  0.907516  -0.190614 -0.190614 -0.190614   \n",
       "ano4_x     1044.0  0.000000  0.000000   0.000000  0.000000  0.000000   \n",
       "ch04       1044.0 -0.045648  1.001784  -1.052723 -1.052723  0.949918   \n",
       "ch06       1044.0  0.026635  1.021803  -1.306585 -0.929074 -0.111134   \n",
       "ch07       1044.0 -0.013800  0.994528  -1.555851 -0.954693  0.848781   \n",
       "ch08       1044.0  0.041157  1.284352  -0.636979 -0.636979  0.218062   \n",
       "nivel_ed   1044.0  0.025154  1.011731  -1.118623 -0.657579 -0.196535   \n",
       "estado     1044.0 -0.035449  1.007946  -1.224487 -1.224487  0.356858   \n",
       "cat_inac   1044.0 -0.025750  1.015574  -1.104289 -1.104289  0.336217   \n",
       "ipcf       1044.0  0.005131  1.019694  -0.773772 -0.495700 -0.297076   \n",
       "ano4_y     1044.0  0.000000  0.000000   0.000000  0.000000  0.000000   \n",
       "itf        1044.0  0.029116  1.047054  -0.926527 -0.553460 -0.263977   \n",
       "ix_men10   1044.0  0.014447  1.023052  -0.815446 -0.815446  0.298189   \n",
       "v4         1044.0  0.014825  0.908298 -11.926244  0.083849  0.083849   \n",
       "ix_tot     1044.0  0.053988  1.022458  -1.609479 -0.652905 -0.174619   \n",
       "v5         1044.0  0.022664  0.971077  -2.879912  0.347233  0.347233   \n",
       "ii7        1044.0 -0.018036  1.013318  -0.659818 -0.659818 -0.659818   \n",
       "Año        1044.0  0.000000  0.000000   0.000000  0.000000  0.000000   \n",
       "intercept  1044.0  0.000000  0.000000   0.000000  0.000000  0.000000   \n",
       "\n",
       "                75%        max  \n",
       "codusu     0.889561   1.709348  \n",
       "nro_hogar -0.190614  10.010402  \n",
       "ano4_x     0.000000   0.000000  \n",
       "ch04       0.949918   0.949918  \n",
       "ch06       0.769724   3.286462  \n",
       "ch07       0.848781   0.848781  \n",
       "ch08       0.218062  18.173907  \n",
       "nivel_ed   1.186596   1.647640  \n",
       "estado     1.147531   1.147531  \n",
       "cat_inac   0.816385   2.256892  \n",
       "ipcf       0.179620  14.480500  \n",
       "ano4_y     0.000000   0.000000  \n",
       "itf        0.215099  14.730056  \n",
       "ix_men10   0.298189   5.866365  \n",
       "v4         0.083849   0.083849  \n",
       "ix_tot     0.781954   4.608247  \n",
       "v5         0.347233   0.347233  \n",
       "ii7        0.499386   3.976996  \n",
       "Año        0.000000   0.000000  \n",
       "intercept  0.000000   0.000000  "
      ]
     },
     "execution_count": 204,
     "metadata": {},
     "output_type": "execute_result"
    }
   ],
   "source": [
    "#primero para 2004\n",
    "#  Iniciamos el Standard Scaler\n",
    "sc = StandardScaler()\n",
    "\n",
    "# Estandarizamos las observaciones de entrenamiento\n",
    "X_train_2004_transformed = pd.DataFrame(sc.fit_transform(X_train_2004), index=X_train_2004.index, columns=X_train_2004.columns)\n",
    "\n",
    "# Estandarizamos las observaciones de test\n",
    "X_test_2004_transformed = pd.DataFrame(sc.transform(X_test_2004), index=X_test_2004.index, columns=X_test_2004.columns)\n",
    "\n",
    "# Estadisticas luego de estandarizar\n",
    "X_test_2004_transformed.describe().T\n"
   ]
  },
  {
   "cell_type": "code",
   "execution_count": 205,
   "metadata": {},
   "outputs": [
    {
     "data": {
      "text/html": [
       "<div>\n",
       "<style scoped>\n",
       "    .dataframe tbody tr th:only-of-type {\n",
       "        vertical-align: middle;\n",
       "    }\n",
       "\n",
       "    .dataframe tbody tr th {\n",
       "        vertical-align: top;\n",
       "    }\n",
       "\n",
       "    .dataframe thead th {\n",
       "        text-align: right;\n",
       "    }\n",
       "</style>\n",
       "<table border=\"1\" class=\"dataframe\">\n",
       "  <thead>\n",
       "    <tr style=\"text-align: right;\">\n",
       "      <th></th>\n",
       "      <th>count</th>\n",
       "      <th>mean</th>\n",
       "      <th>std</th>\n",
       "      <th>min</th>\n",
       "      <th>25%</th>\n",
       "      <th>50%</th>\n",
       "      <th>75%</th>\n",
       "      <th>max</th>\n",
       "    </tr>\n",
       "  </thead>\n",
       "  <tbody>\n",
       "    <tr>\n",
       "      <th>codusu</th>\n",
       "      <td>2100.0</td>\n",
       "      <td>0.000000</td>\n",
       "      <td>0.000000</td>\n",
       "      <td>0.000000</td>\n",
       "      <td>0.000000</td>\n",
       "      <td>0.000000</td>\n",
       "      <td>0.000000</td>\n",
       "      <td>0.000000</td>\n",
       "    </tr>\n",
       "    <tr>\n",
       "      <th>nro_hogar</th>\n",
       "      <td>2100.0</td>\n",
       "      <td>0.017347</td>\n",
       "      <td>1.517584</td>\n",
       "      <td>-0.026869</td>\n",
       "      <td>-0.026869</td>\n",
       "      <td>-0.026869</td>\n",
       "      <td>-0.026869</td>\n",
       "      <td>69.267724</td>\n",
       "    </tr>\n",
       "    <tr>\n",
       "      <th>ano4_x</th>\n",
       "      <td>2100.0</td>\n",
       "      <td>0.000000</td>\n",
       "      <td>0.000000</td>\n",
       "      <td>0.000000</td>\n",
       "      <td>0.000000</td>\n",
       "      <td>0.000000</td>\n",
       "      <td>0.000000</td>\n",
       "      <td>0.000000</td>\n",
       "    </tr>\n",
       "    <tr>\n",
       "      <th>ch04</th>\n",
       "      <td>2100.0</td>\n",
       "      <td>-0.041288</td>\n",
       "      <td>1.001681</td>\n",
       "      <td>-1.057140</td>\n",
       "      <td>-1.057140</td>\n",
       "      <td>0.945948</td>\n",
       "      <td>0.945948</td>\n",
       "      <td>0.945948</td>\n",
       "    </tr>\n",
       "    <tr>\n",
       "      <th>ch06</th>\n",
       "      <td>2100.0</td>\n",
       "      <td>-0.027320</td>\n",
       "      <td>0.968329</td>\n",
       "      <td>-1.630602</td>\n",
       "      <td>-0.844598</td>\n",
       "      <td>-0.102261</td>\n",
       "      <td>0.727410</td>\n",
       "      <td>2.474087</td>\n",
       "    </tr>\n",
       "    <tr>\n",
       "      <th>ch07</th>\n",
       "      <td>2100.0</td>\n",
       "      <td>-0.012441</td>\n",
       "      <td>1.007236</td>\n",
       "      <td>-1.462093</td>\n",
       "      <td>-0.862473</td>\n",
       "      <td>0.336766</td>\n",
       "      <td>0.936386</td>\n",
       "      <td>3.334864</td>\n",
       "    </tr>\n",
       "    <tr>\n",
       "      <th>ch08</th>\n",
       "      <td>2100.0</td>\n",
       "      <td>0.028587</td>\n",
       "      <td>1.028144</td>\n",
       "      <td>-0.598619</td>\n",
       "      <td>-0.598619</td>\n",
       "      <td>-0.598619</td>\n",
       "      <td>0.969395</td>\n",
       "      <td>5.150766</td>\n",
       "    </tr>\n",
       "    <tr>\n",
       "      <th>nivel_ed</th>\n",
       "      <td>2100.0</td>\n",
       "      <td>-0.006951</td>\n",
       "      <td>0.987960</td>\n",
       "      <td>-1.636165</td>\n",
       "      <td>-0.475008</td>\n",
       "      <td>0.105570</td>\n",
       "      <td>0.686149</td>\n",
       "      <td>1.847306</td>\n",
       "    </tr>\n",
       "    <tr>\n",
       "      <th>estado</th>\n",
       "      <td>2100.0</td>\n",
       "      <td>-0.031091</td>\n",
       "      <td>0.986194</td>\n",
       "      <td>-1.877676</td>\n",
       "      <td>-0.998748</td>\n",
       "      <td>-0.119821</td>\n",
       "      <td>0.759106</td>\n",
       "      <td>1.638033</td>\n",
       "    </tr>\n",
       "    <tr>\n",
       "      <th>cat_inac</th>\n",
       "      <td>2100.0</td>\n",
       "      <td>-0.012833</td>\n",
       "      <td>0.999102</td>\n",
       "      <td>-0.816423</td>\n",
       "      <td>-0.816423</td>\n",
       "      <td>-0.816423</td>\n",
       "      <td>0.721432</td>\n",
       "      <td>2.771906</td>\n",
       "    </tr>\n",
       "    <tr>\n",
       "      <th>ipcf</th>\n",
       "      <td>2100.0</td>\n",
       "      <td>-0.035567</td>\n",
       "      <td>0.590964</td>\n",
       "      <td>-0.383870</td>\n",
       "      <td>-0.383870</td>\n",
       "      <td>-0.236624</td>\n",
       "      <td>0.081119</td>\n",
       "      <td>6.009727</td>\n",
       "    </tr>\n",
       "    <tr>\n",
       "      <th>ano4_y</th>\n",
       "      <td>2100.0</td>\n",
       "      <td>0.000000</td>\n",
       "      <td>0.000000</td>\n",
       "      <td>0.000000</td>\n",
       "      <td>0.000000</td>\n",
       "      <td>0.000000</td>\n",
       "      <td>0.000000</td>\n",
       "      <td>0.000000</td>\n",
       "    </tr>\n",
       "    <tr>\n",
       "      <th>itf</th>\n",
       "      <td>2100.0</td>\n",
       "      <td>-0.038726</td>\n",
       "      <td>0.581883</td>\n",
       "      <td>-0.385493</td>\n",
       "      <td>-0.385493</td>\n",
       "      <td>-0.212340</td>\n",
       "      <td>0.109229</td>\n",
       "      <td>7.484696</td>\n",
       "    </tr>\n",
       "    <tr>\n",
       "      <th>ix_men10</th>\n",
       "      <td>2100.0</td>\n",
       "      <td>0.002113</td>\n",
       "      <td>1.006529</td>\n",
       "      <td>-0.619762</td>\n",
       "      <td>-0.619762</td>\n",
       "      <td>-0.619762</td>\n",
       "      <td>0.489786</td>\n",
       "      <td>6.037527</td>\n",
       "    </tr>\n",
       "    <tr>\n",
       "      <th>v4</th>\n",
       "      <td>2100.0</td>\n",
       "      <td>-0.007926</td>\n",
       "      <td>0.927530</td>\n",
       "      <td>-2.341286</td>\n",
       "      <td>-0.056877</td>\n",
       "      <td>-0.056877</td>\n",
       "      <td>-0.056877</td>\n",
       "      <td>15.933988</td>\n",
       "    </tr>\n",
       "    <tr>\n",
       "      <th>ix_tot</th>\n",
       "      <td>2100.0</td>\n",
       "      <td>0.045948</td>\n",
       "      <td>1.011284</td>\n",
       "      <td>-1.413221</td>\n",
       "      <td>-0.885538</td>\n",
       "      <td>0.169828</td>\n",
       "      <td>0.697511</td>\n",
       "      <td>4.391291</td>\n",
       "    </tr>\n",
       "    <tr>\n",
       "      <th>v5</th>\n",
       "      <td>2100.0</td>\n",
       "      <td>-0.041724</td>\n",
       "      <td>0.979817</td>\n",
       "      <td>-1.448534</td>\n",
       "      <td>0.255215</td>\n",
       "      <td>0.255215</td>\n",
       "      <td>0.255215</td>\n",
       "      <td>12.181452</td>\n",
       "    </tr>\n",
       "    <tr>\n",
       "      <th>ii7</th>\n",
       "      <td>2100.0</td>\n",
       "      <td>-0.036482</td>\n",
       "      <td>0.970141</td>\n",
       "      <td>-1.215265</td>\n",
       "      <td>-0.596713</td>\n",
       "      <td>-0.596713</td>\n",
       "      <td>0.640391</td>\n",
       "      <td>4.351702</td>\n",
       "    </tr>\n",
       "    <tr>\n",
       "      <th>Año</th>\n",
       "      <td>2100.0</td>\n",
       "      <td>0.000000</td>\n",
       "      <td>0.000000</td>\n",
       "      <td>0.000000</td>\n",
       "      <td>0.000000</td>\n",
       "      <td>0.000000</td>\n",
       "      <td>0.000000</td>\n",
       "      <td>0.000000</td>\n",
       "    </tr>\n",
       "  </tbody>\n",
       "</table>\n",
       "</div>"
      ],
      "text/plain": [
       "            count      mean       std       min       25%       50%       75%  \\\n",
       "codusu     2100.0  0.000000  0.000000  0.000000  0.000000  0.000000  0.000000   \n",
       "nro_hogar  2100.0  0.017347  1.517584 -0.026869 -0.026869 -0.026869 -0.026869   \n",
       "ano4_x     2100.0  0.000000  0.000000  0.000000  0.000000  0.000000  0.000000   \n",
       "ch04       2100.0 -0.041288  1.001681 -1.057140 -1.057140  0.945948  0.945948   \n",
       "ch06       2100.0 -0.027320  0.968329 -1.630602 -0.844598 -0.102261  0.727410   \n",
       "ch07       2100.0 -0.012441  1.007236 -1.462093 -0.862473  0.336766  0.936386   \n",
       "ch08       2100.0  0.028587  1.028144 -0.598619 -0.598619 -0.598619  0.969395   \n",
       "nivel_ed   2100.0 -0.006951  0.987960 -1.636165 -0.475008  0.105570  0.686149   \n",
       "estado     2100.0 -0.031091  0.986194 -1.877676 -0.998748 -0.119821  0.759106   \n",
       "cat_inac   2100.0 -0.012833  0.999102 -0.816423 -0.816423 -0.816423  0.721432   \n",
       "ipcf       2100.0 -0.035567  0.590964 -0.383870 -0.383870 -0.236624  0.081119   \n",
       "ano4_y     2100.0  0.000000  0.000000  0.000000  0.000000  0.000000  0.000000   \n",
       "itf        2100.0 -0.038726  0.581883 -0.385493 -0.385493 -0.212340  0.109229   \n",
       "ix_men10   2100.0  0.002113  1.006529 -0.619762 -0.619762 -0.619762  0.489786   \n",
       "v4         2100.0 -0.007926  0.927530 -2.341286 -0.056877 -0.056877 -0.056877   \n",
       "ix_tot     2100.0  0.045948  1.011284 -1.413221 -0.885538  0.169828  0.697511   \n",
       "v5         2100.0 -0.041724  0.979817 -1.448534  0.255215  0.255215  0.255215   \n",
       "ii7        2100.0 -0.036482  0.970141 -1.215265 -0.596713 -0.596713  0.640391   \n",
       "Año        2100.0  0.000000  0.000000  0.000000  0.000000  0.000000  0.000000   \n",
       "\n",
       "                 max  \n",
       "codusu      0.000000  \n",
       "nro_hogar  69.267724  \n",
       "ano4_x      0.000000  \n",
       "ch04        0.945948  \n",
       "ch06        2.474087  \n",
       "ch07        3.334864  \n",
       "ch08        5.150766  \n",
       "nivel_ed    1.847306  \n",
       "estado      1.638033  \n",
       "cat_inac    2.771906  \n",
       "ipcf        6.009727  \n",
       "ano4_y      0.000000  \n",
       "itf         7.484696  \n",
       "ix_men10    6.037527  \n",
       "v4         15.933988  \n",
       "ix_tot      4.391291  \n",
       "v5         12.181452  \n",
       "ii7         4.351702  \n",
       "Año         0.000000  "
      ]
     },
     "execution_count": 205,
     "metadata": {},
     "output_type": "execute_result"
    }
   ],
   "source": [
    "#ahora para 2024\n",
    "#  Iniciamos el Standard Scaler\n",
    "sc = StandardScaler()\n",
    "\n",
    "# Estandarizamos las observaciones de entrenamiento\n",
    "X_train_2024_transformed = pd.DataFrame(sc.fit_transform(X_train_2024), index=X_train_2024.index, columns=X_train_2024.columns)\n",
    "\n",
    "# Estandarizamos las observaciones de test\n",
    "X_test_2024_transformed = pd.DataFrame(sc.transform(X_test_2024), index=X_test_2024.index, columns=X_test_2024.columns)\n",
    "\n",
    "# Estadisticas luego de estandarizar\n",
    "X_test_2024_transformed.describe().T\n"
   ]
  },
  {
   "cell_type": "markdown",
   "metadata": {},
   "source": [
    "Ahora si, comenzamos con las regresiones"
   ]
  },
  {
   "cell_type": "code",
   "execution_count": 216,
   "metadata": {},
   "outputs": [
    {
     "name": "stdout",
     "output_type": "stream",
     "text": [
      "El mejor valor de alfa es: 1.0\n"
     ]
    }
   ],
   "source": [
    "#uso el GridSearchCV para ver cual es el mejor alpha y vemos que efectivamente es 1\n",
    "from sklearn.model_selection import GridSearchCV\n",
    "\n",
    "# Definir el modelo Ridge\n",
    "ridge = Ridge()\n",
    "\n",
    "# Definir el rango de alfas para probar\n",
    "alphas = np.logspace(-6, 6, 13)\n",
    "\n",
    "# Configurar GridSearchCV\n",
    "param_grid = {'alpha': alphas}\n",
    "grid_search = GridSearchCV(ridge, param_grid, cv=5, scoring='neg_mean_squared_error')\n",
    "\n",
    "# Ajustar el modelo\n",
    "grid_search.fit(X_train_2004_transformed, y_train_2004)\n",
    "\n",
    "# Obtener el mejor alfa\n",
    "best_alpha = grid_search.best_params_['alpha']\n",
    "print(f\"El mejor valor de alfa es: {best_alpha}\")\n",
    "\n",
    "# Usar el mejor modelo\n",
    "best_ridge = grid_search.best_estimator_"
   ]
  },
  {
   "cell_type": "code",
   "execution_count": 240,
   "metadata": {},
   "outputs": [
    {
     "name": "stdout",
     "output_type": "stream",
     "text": [
      "Alpha: 1\n",
      "Error cuadrático medio:  0.039322886185783966\n",
      "Coeficientes del modelo:\n",
      "codusu      -0.002504\n",
      "nro_hogar    0.000291\n",
      "ano4_x       0.000000\n",
      "ch04         0.022290\n",
      "ch06         0.062028\n",
      "ch07        -0.007452\n",
      "ch08         0.000555\n",
      "nivel_ed     0.055805\n",
      "estado       0.269899\n",
      "cat_inac    -0.283547\n",
      "ipcf        -0.000166\n",
      "ano4_y       0.000000\n",
      "itf         -0.025551\n",
      "ix_men10    -0.015409\n",
      "v4          -0.011967\n",
      "ix_tot       0.026080\n",
      "v5          -0.013218\n",
      "ii7          0.002406\n",
      "Año          0.000000\n",
      "intercept    0.000000\n",
      "dtype: float64\n"
     ]
    }
   ],
   "source": [
    "from sklearn.linear_model import Lasso, LassoCV, Ridge, RidgeCV\n",
    "from sklearn.metrics import mean_squared_error\n",
    "# Ridge para 2004\n",
    "# prueba con alpha = 1\n",
    "alpha = 1\n",
    "print(\"Alpha:\", alpha)\n",
    "\n",
    "l2 = Ridge(alpha = alpha)\n",
    "l2.fit(X_train_2004_transformed, y_train_2004)             \n",
    "L2_pred_2004 = l2.predict(X_test_2004_transformed)\n",
    "ecm_a1_2004 = mean_squared_error(y_test_2004, L2_pred_2004)\n",
    "\n",
    "print(\"Error cuadrático medio: \", ecm_a1_2004)   \n",
    "print(\"Coeficientes del modelo:\")\n",
    "print(pd.Series(l2.coef_, index = X_train_2004_transformed.columns)) "
   ]
  },
  {
   "cell_type": "code",
   "execution_count": 235,
   "metadata": {},
   "outputs": [
    {
     "name": "stdout",
     "output_type": "stream",
     "text": [
      "Alpha: 6\n",
      "Error cuadrático medio:  0.039322886185783966\n",
      "Coeficientes del modelo:\n",
      "codusu      -0.002529\n",
      "nro_hogar    0.000185\n",
      "ano4_x       0.000000\n",
      "ch04         0.022256\n",
      "ch06         0.059705\n",
      "ch07        -0.006689\n",
      "ch08         0.000661\n",
      "nivel_ed     0.054175\n",
      "estado       0.260397\n",
      "cat_inac    -0.275855\n",
      "ipcf        -0.001278\n",
      "ano4_y       0.000000\n",
      "itf         -0.024288\n",
      "ix_men10    -0.014892\n",
      "v4          -0.011953\n",
      "ix_tot       0.024957\n",
      "v5          -0.013176\n",
      "ii7          0.002308\n",
      "Año          0.000000\n",
      "intercept    0.000000\n",
      "dtype: float64\n"
     ]
    }
   ],
   "source": [
    "from sklearn.linear_model import Lasso, LassoCV, Ridge, RidgeCV\n",
    "from sklearn.metrics import mean_squared_error\n",
    "# Ridge para 2004\n",
    "# prueba con alpha = 6\n",
    "alpha = 6\n",
    "print(\"Alpha:\", alpha)\n",
    "\n",
    "L2_6 = Ridge(alpha = alpha)\n",
    "L2_6.fit(X_train_2004_transformed, y_train_2004)             \n",
    "L2_6_pred_2004 = L2_6.predict(X_test_2004_transformed)\n",
    "ecm_a1_2004 = mean_squared_error(y_test_2004, L2_pred_2004)\n",
    "\n",
    "print(\"Error cuadrático medio: \", ecm_a1_2004)   \n",
    "print(\"Coeficientes del modelo:\")\n",
    "print(pd.Series(L2_6.coef_, index = X_train_2004_transformed.columns)) "
   ]
  },
  {
   "cell_type": "code",
   "execution_count": 212,
   "metadata": {},
   "outputs": [
    {
     "data": {
      "image/png": "[encoded data removed]",
      "text/plain": [
       "<Figure size 1000x600 with 1 Axes>"
      ]
     },
     "metadata": {},
     "output_type": "display_data"
    }
   ],
   "source": [
    "import matplotlib.pyplot as plt\n",
    "\n",
    "# Usando los resultados de GridSearchCV\n",
    "cv_results = grid_search.cv_results_\n",
    "alphas = cv_results['param_alpha'].data\n",
    "mean_scores = -cv_results['mean_test_score']  # Negativo porque GridSearchCV minimiza\n",
    "\n",
    "plt.figure(figsize=(10, 6))\n",
    "plt.semilogx(alphas, mean_scores)\n",
    "plt.xlabel('Alpha')\n",
    "plt.ylabel('MSE')\n",
    "plt.title('Regresion con Ridge Regression: Performance vs. Alpha')\n",
    "plt.show()"
   ]
  },
  {
   "cell_type": "code",
   "execution_count": 217,
   "metadata": {},
   "outputs": [
    {
     "data": {
      "text/plain": [
       "array([500000.        , 343324.42250215, 235743.31817287, 161872.87714088,\n",
       "       111149.82412631,  76320.89835876,  52405.65670773,  35984.28365006,\n",
       "        24708.56680662,  16966.10885948,  11649.75905258,   7999.29359803,\n",
       "         5492.70570994,   3771.56003168,   2589.73733962,   1778.24015311,\n",
       "         1221.02654727,    838.41646841,    575.69769966,    395.30216055,\n",
       "          271.43377197,    186.37968602,    127.97739613,     87.87553124,\n",
       "           60.33963203,     41.43213864,     28.44933015,     19.53469969,\n",
       "           13.41347898,      9.21034985,      6.32427608,      4.34255687,\n",
       "            2.98181166,      2.04745753,      1.40588435,      0.96534886,\n",
       "            0.66285568,      0.45514909,      0.3125276 ,      0.21459671,\n",
       "            0.14735259,      0.10117948,      0.06947477,      0.04770477,\n",
       "            0.03275643,      0.02249216,      0.01544422,      0.01060475,\n",
       "            0.00728174,      0.005     ])"
      ]
     },
     "execution_count": 217,
     "metadata": {},
     "output_type": "execute_result"
    }
   ],
   "source": [
    "# Matriz de valores de alfa\n",
    "alphas = 10**np.linspace(6,-2,50)*0.5\n",
    "np.set_printoptions(suppress = True)\n",
    "alphas"
   ]
  },
  {
   "cell_type": "code",
   "execution_count": 218,
   "metadata": {},
   "outputs": [],
   "source": [
    "coefs = []\n",
    "for a in alphas:\n",
    "    ridge = Ridge(alpha=a, fit_intercept=False)\n",
    "    ridge.fit(X_train_2004_transformed, y_train_2004)\n",
    "    coefs.append(ridge.coef_)"
   ]
  },
  {
   "cell_type": "code",
   "execution_count": 219,
   "metadata": {},
   "outputs": [
    {
     "data": {
      "image/png": "[encoded data removed]",
      "text/plain": [
       "<Figure size 640x480 with 1 Axes>"
      ]
     },
     "metadata": {},
     "output_type": "display_data"
    }
   ],
   "source": [
    "ax = plt.gca()\n",
    "\n",
    "ax.plot(alphas, coefs)\n",
    "ax.set_xscale(\"log\")\n",
    "plt.xlabel(\"alpha\")\n",
    "plt.ylabel(\"coefficients\")\n",
    "plt.title(\"Ridge coefficients as a function of the regularization\")\n",
    "plt.axis(\"tight\")\n",
    "plt.show()"
   ]
  },
  {
   "cell_type": "code",
   "execution_count": 224,
   "metadata": {},
   "outputs": [],
   "source": [
    "#plot Lasso, coeficientes segun el valor de alpha\n",
    "coefs = []\n",
    "for a in alphas:\n",
    "    L1 = Lasso(alpha=a, fit_intercept=False, max_iter=100000)\n",
    "    L1.fit(X_train_2004_transformed, y_train_2004)\n",
    "    coefs.append(L1.coef_)"
   ]
  },
  {
   "cell_type": "code",
   "execution_count": 225,
   "metadata": {},
   "outputs": [
    {
     "data": {
      "image/png": "[encoded data removed]",
      "text/plain": [
       "<Figure size 640x480 with 1 Axes>"
      ]
     },
     "metadata": {},
     "output_type": "display_data"
    }
   ],
   "source": [
    "ax = plt.gca()\n",
    "\n",
    "ax.plot(alphas, coefs)\n",
    "ax.set_xscale(\"log\")\n",
    "plt.xlabel(\"alpha\")\n",
    "plt.ylabel(\"coefficients\")\n",
    "plt.title(\"Ridge coefficients as a function of the regularization\")\n",
    "plt.axis(\"tight\")\n",
    "plt.show()"
   ]
  },
  {
   "cell_type": "markdown",
   "metadata": {},
   "source": [
    "Aca hago Lasso con CV"
   ]
  },
  {
   "cell_type": "code",
   "execution_count": 247,
   "metadata": {},
   "outputs": [
    {
     "name": "stdout",
     "output_type": "stream",
     "text": [
      "Alpha óptimo: 0.005\n",
      "Error cuadrático medio:  0.041352130716868565\n",
      "Coeficientes del mejor modelo:\n",
      "El modelo final cuenta con: 9 features\n"
     ]
    },
    {
     "data": {
      "text/html": [
       "<div>\n",
       "<style scoped>\n",
       "    .dataframe tbody tr th:only-of-type {\n",
       "        vertical-align: middle;\n",
       "    }\n",
       "\n",
       "    .dataframe tbody tr th {\n",
       "        vertical-align: top;\n",
       "    }\n",
       "\n",
       "    .dataframe thead th {\n",
       "        text-align: right;\n",
       "    }\n",
       "</style>\n",
       "<table border=\"1\" class=\"dataframe\">\n",
       "  <thead>\n",
       "    <tr style=\"text-align: right;\">\n",
       "      <th></th>\n",
       "      <th>feature</th>\n",
       "      <th>coeficiente</th>\n",
       "    </tr>\n",
       "  </thead>\n",
       "  <tbody>\n",
       "    <tr>\n",
       "      <th>0</th>\n",
       "      <td>codusu</td>\n",
       "      <td>-0.0</td>\n",
       "    </tr>\n",
       "    <tr>\n",
       "      <th>1</th>\n",
       "      <td>nro_hogar</td>\n",
       "      <td>-0.0</td>\n",
       "    </tr>\n",
       "    <tr>\n",
       "      <th>2</th>\n",
       "      <td>ano4_x</td>\n",
       "      <td>0.0</td>\n",
       "    </tr>\n",
       "    <tr>\n",
       "      <th>3</th>\n",
       "      <td>ch04</td>\n",
       "      <td>0.018344</td>\n",
       "    </tr>\n",
       "    <tr>\n",
       "      <th>4</th>\n",
       "      <td>ch06</td>\n",
       "      <td>0.030512</td>\n",
       "    </tr>\n",
       "    <tr>\n",
       "      <th>5</th>\n",
       "      <td>ch07</td>\n",
       "      <td>-0.0</td>\n",
       "    </tr>\n",
       "    <tr>\n",
       "      <th>6</th>\n",
       "      <td>ch08</td>\n",
       "      <td>0.0</td>\n",
       "    </tr>\n",
       "    <tr>\n",
       "      <th>7</th>\n",
       "      <td>nivel_ed</td>\n",
       "      <td>0.030972</td>\n",
       "    </tr>\n",
       "    <tr>\n",
       "      <th>8</th>\n",
       "      <td>estado</td>\n",
       "      <td>0.164506</td>\n",
       "    </tr>\n",
       "    <tr>\n",
       "      <th>9</th>\n",
       "      <td>cat_inac</td>\n",
       "      <td>-0.20039</td>\n",
       "    </tr>\n",
       "    <tr>\n",
       "      <th>10</th>\n",
       "      <td>ipcf</td>\n",
       "      <td>-0.018645</td>\n",
       "    </tr>\n",
       "    <tr>\n",
       "      <th>11</th>\n",
       "      <td>ano4_y</td>\n",
       "      <td>0.0</td>\n",
       "    </tr>\n",
       "    <tr>\n",
       "      <th>12</th>\n",
       "      <td>itf</td>\n",
       "      <td>-0.0</td>\n",
       "    </tr>\n",
       "    <tr>\n",
       "      <th>13</th>\n",
       "      <td>ix_men10</td>\n",
       "      <td>-0.0</td>\n",
       "    </tr>\n",
       "    <tr>\n",
       "      <th>14</th>\n",
       "      <td>v4</td>\n",
       "      <td>-0.006609</td>\n",
       "    </tr>\n",
       "    <tr>\n",
       "      <th>15</th>\n",
       "      <td>ix_tot</td>\n",
       "      <td>0.001938</td>\n",
       "    </tr>\n",
       "    <tr>\n",
       "      <th>16</th>\n",
       "      <td>v5</td>\n",
       "      <td>-0.009406</td>\n",
       "    </tr>\n",
       "    <tr>\n",
       "      <th>17</th>\n",
       "      <td>ii7</td>\n",
       "      <td>0.0</td>\n",
       "    </tr>\n",
       "    <tr>\n",
       "      <th>18</th>\n",
       "      <td>Año</td>\n",
       "      <td>0.0</td>\n",
       "    </tr>\n",
       "    <tr>\n",
       "      <th>19</th>\n",
       "      <td>intercept</td>\n",
       "      <td>0.0</td>\n",
       "    </tr>\n",
       "  </tbody>\n",
       "</table>\n",
       "</div>"
      ],
      "text/plain": [
       "      feature coeficiente\n",
       "0      codusu        -0.0\n",
       "1   nro_hogar        -0.0\n",
       "2      ano4_x         0.0\n",
       "3        ch04    0.018344\n",
       "4        ch06    0.030512\n",
       "5        ch07        -0.0\n",
       "6        ch08         0.0\n",
       "7    nivel_ed    0.030972\n",
       "8      estado    0.164506\n",
       "9    cat_inac    -0.20039\n",
       "10       ipcf   -0.018645\n",
       "11     ano4_y         0.0\n",
       "12        itf        -0.0\n",
       "13   ix_men10        -0.0\n",
       "14         v4   -0.006609\n",
       "15     ix_tot    0.001938\n",
       "16         v5   -0.009406\n",
       "17        ii7         0.0\n",
       "18        Año         0.0\n",
       "19  intercept         0.0"
      ]
     },
     "execution_count": 247,
     "metadata": {},
     "output_type": "execute_result"
    }
   ],
   "source": [
    "# Usamos cross-validation para dividir la muestra en training y validation sets\n",
    "lassocv = LassoCV(alphas=alphas, cv=5, max_iter=100000, random_state=100)\n",
    "lassocv.fit(X_train_2004_transformed, y_train_2004)\n",
    "print(\"Alpha óptimo:\", lassocv.alpha_)\n",
    "\n",
    "# Ahora estimamos nuevamente el modelo con el alpha (lambda) óptimo\n",
    "l1 = Lasso(alpha=lassocv.alpha_)\n",
    "l1.fit(X_train_2004_transformed, y_train_2004)\n",
    "L1_pred_2004 = l1.predict(X_test_2004_transformed)\n",
    "\n",
    "print(\"Error cuadrático medio: \", mean_squared_error(y_test_2004, L1_pred_2004))\n",
    "print(\"Coeficientes del mejor modelo:\")\n",
    "pd.Series(l1.coef_, index=X_train_2004_transformed.columns)\n",
    "\n",
    "# Para guardarlo en un dataframe...\n",
    "coeficientes_finales = pd.DataFrame([np.array(X_train_2004_transformed.columns.tolist()),l1.coef_]).T\n",
    "coeficientes_finales.columns = ['feature','coeficiente']\n",
    "print(f\"El modelo final cuenta con: {coeficientes_finales[coeficientes_finales['coeficiente']!=0].shape[0]}\",'features' )\n",
    "coeficientes_finales"
   ]
  },
  {
   "cell_type": "markdown",
   "metadata": {},
   "source": [
    "Entonces, quedamos que para Ridge el alpha es 1 y para Lasso el lambda es 0.005 (esto es antes de hacer las dummies)\n",
    "\n",
    "Evaluamos la performance de los modelos con ridge y lasso"
   ]
  },
  {
   "cell_type": "code",
   "execution_count": 233,
   "metadata": {},
   "outputs": [
    {
     "name": "stdout",
     "output_type": "stream",
     "text": [
      "El mejor alpha: 6.324276084276492\n",
      "Error cuadrático medio:  0.03936477298772117\n",
      "Coeficientes del mejor modelo:\n",
      "codusu      -0.002530\n",
      "nro_hogar    0.000179\n",
      "ano4_x       0.000000\n",
      "ch04         0.022254\n",
      "ch06         0.059560\n",
      "ch07        -0.006642\n",
      "ch08         0.000668\n",
      "nivel_ed     0.054073\n",
      "estado       0.259802\n",
      "cat_inac    -0.275372\n",
      "ipcf        -0.001344\n",
      "ano4_y       0.000000\n",
      "itf         -0.024212\n",
      "ix_men10    -0.014860\n",
      "v4          -0.011952\n",
      "ix_tot       0.024888\n",
      "v5          -0.013173\n",
      "ii7          0.002302\n",
      "Año          0.000000\n",
      "intercept    0.000000\n",
      "dtype: float64\n"
     ]
    }
   ],
   "source": [
    "ridgecv = RidgeCV(alphas=alphas, cv=5).fit(X_train_2004_transformed, y_train_2004)\n",
    "print(\"El mejor alpha:\", ridgecv.alpha_)\n",
    "\n",
    "# Ahora con el alpha óptimo, volvemos a estimar nuestro modelo\n",
    "ridge = Ridge(alpha=ridgecv.alpha_)\n",
    "ridge = ridge.fit(X_train_2004_transformed, y_train_2004)\n",
    "ridge_pred = ridge.predict(X_test_2004_transformed)\n",
    "ecm_ridge = mean_squared_error(y_test_2004, ridge_pred)\n",
    "\n",
    "print(\"Error cuadrático medio: \", ecm_ridge)   \n",
    "\n",
    "print(\"Coeficientes del mejor modelo:\")\n",
    "print(pd.Series(ridgecv.coef_, index = X_train_2004_transformed.columns)) "
   ]
  },
  {
   "cell_type": "code",
   "execution_count": 236,
   "metadata": {},
   "outputs": [
    {
     "name": "stdout",
     "output_type": "stream",
     "text": [
      "Alpha: 6\n",
      "Error cuadrático medio:  0.039322886185783966\n",
      "Coeficientes del modelo:\n",
      "codusu      -0.002529\n",
      "nro_hogar    0.000185\n",
      "ano4_x       0.000000\n",
      "ch04         0.022256\n",
      "ch06         0.059705\n",
      "ch07        -0.006689\n",
      "ch08         0.000661\n",
      "nivel_ed     0.054175\n",
      "estado       0.260397\n",
      "cat_inac    -0.275855\n",
      "ipcf        -0.001278\n",
      "ano4_y       0.000000\n",
      "itf         -0.024288\n",
      "ix_men10    -0.014892\n",
      "v4          -0.011953\n",
      "ix_tot       0.024957\n",
      "v5          -0.013176\n",
      "ii7          0.002308\n",
      "Año          0.000000\n",
      "intercept    0.000000\n",
      "dtype: float64\n"
     ]
    }
   ],
   "source": [
    "from sklearn.linear_model import Lasso, LassoCV, Ridge, RidgeCV\n",
    "from sklearn.metrics import mean_squared_error\n",
    "# Ridge para 2004\n",
    "# prueba con alpha = 6\n",
    "alpha = 6\n",
    "print(\"Alpha:\", alpha)\n",
    "\n",
    "L2_6 = Ridge(alpha = alpha)\n",
    "L2_6.fit(X_train_2004_transformed, y_train_2004)             \n",
    "L2_6_pred_2004 = L2_6.predict(X_test_2004_transformed)\n",
    "ecm_a1_2004 = mean_squared_error(y_test_2004, L2_pred_2004)\n",
    "\n",
    "print(\"Error cuadrático medio: \", ecm_a1_2004)   \n",
    "print(\"Coeficientes del modelo:\")\n",
    "print(pd.Series(L2_6.coef_, index = X_train_2004_transformed.columns)) "
   ]
  },
  {
   "cell_type": "code",
   "execution_count": 232,
   "metadata": {},
   "outputs": [
    {
     "name": "stdout",
     "output_type": "stream",
     "text": [
      "Error cuadrático medio con Ridge:  0.039322886185783966\n",
      "Error cuadrático medio con Lasso:  0.041352130716868565\n"
     ]
    }
   ],
   "source": [
    "print(\"Error cuadrático medio con Ridge: \", mean_squared_error(y_test_2004, L2_pred_2004))\n",
    "print(\"Error cuadrático medio con Lasso: \", mean_squared_error(y_test_2004, L1_pred_2004))"
   ]
  },
  {
   "cell_type": "markdown",
   "metadata": {},
   "source": [
    "Si yo quiero elegir entre ridge y lasso, tengo que hacer el ECM de CV tanto de ridge como de lasso, decidir cual usar y despues calcular error de testeo"
   ]
  },
  {
   "cell_type": "code",
   "execution_count": 256,
   "metadata": {},
   "outputs": [
    {
     "ename": "TypeError",
     "evalue": "can't multiply sequence by non-int of type 'float'",
     "output_type": "error",
     "traceback": [
      "\u001b[1;31m---------------------------------------------------------------------------\u001b[0m",
      "\u001b[1;31mTypeError\u001b[0m                                 Traceback (most recent call last)",
      "Cell \u001b[1;32mIn[256], line 15\u001b[0m\n\u001b[0;32m     12\u001b[0m log_reg_2004 \u001b[38;5;241m=\u001b[39m LogisticRegression(penalty \u001b[38;5;241m=\u001b[39m \u001b[38;5;124m\"\u001b[39m\u001b[38;5;124ml2\u001b[39m\u001b[38;5;124m\"\u001b[39m, C\u001b[38;5;241m=\u001b[39m\u001b[38;5;241m1.0\u001b[39m, solver \u001b[38;5;241m=\u001b[39m \u001b[38;5;124m\"\u001b[39m\u001b[38;5;124mliblinear\u001b[39m\u001b[38;5;124m\"\u001b[39m)\u001b[38;5;241m.\u001b[39mfit(X_train_2004, y_train_2004)\n\u001b[0;32m     14\u001b[0m \u001b[38;5;66;03m# Y predecimos la variable dependiente para el 2004\u001b[39;00m\n\u001b[1;32m---> 15\u001b[0m y_test_pred_score_2004 \u001b[38;5;241m=\u001b[39m \u001b[43mlog_reg_2004\u001b[49m\u001b[38;5;241;43m.\u001b[39;49m\u001b[43mpredict_proba\u001b[49m\u001b[43m(\u001b[49m\u001b[43mX_test_2004\u001b[49m\u001b[43m)\u001b[49m[:,\u001b[38;5;241m1\u001b[39m]\n\u001b[0;32m     16\u001b[0m y_test_pred_2004 \u001b[38;5;241m=\u001b[39m log_reg_2004\u001b[38;5;241m.\u001b[39mpredict(X_test_2004)\n\u001b[0;32m     18\u001b[0m \u001b[38;5;66;03m# Calculamos la matriz de confusión\u001b[39;00m\n",
      "File \u001b[1;32mc:\\Users\\s1248850\\AppData\\Local\\anaconda3\\envs\\Rosario\\Lib\\site-packages\\sklearn\\linear_model\\_logistic.py:1431\u001b[0m, in \u001b[0;36mLogisticRegression.predict_proba\u001b[1;34m(self, X)\u001b[0m\n\u001b[0;32m   1423\u001b[0m ovr \u001b[38;5;241m=\u001b[39m \u001b[38;5;28mself\u001b[39m\u001b[38;5;241m.\u001b[39mmulti_class \u001b[38;5;129;01min\u001b[39;00m [\u001b[38;5;124m\"\u001b[39m\u001b[38;5;124movr\u001b[39m\u001b[38;5;124m\"\u001b[39m, \u001b[38;5;124m\"\u001b[39m\u001b[38;5;124mwarn\u001b[39m\u001b[38;5;124m\"\u001b[39m] \u001b[38;5;129;01mor\u001b[39;00m (\n\u001b[0;32m   1424\u001b[0m     \u001b[38;5;28mself\u001b[39m\u001b[38;5;241m.\u001b[39mmulti_class \u001b[38;5;129;01min\u001b[39;00m [\u001b[38;5;124m\"\u001b[39m\u001b[38;5;124mauto\u001b[39m\u001b[38;5;124m\"\u001b[39m, \u001b[38;5;124m\"\u001b[39m\u001b[38;5;124mdeprecated\u001b[39m\u001b[38;5;124m\"\u001b[39m]\n\u001b[0;32m   1425\u001b[0m     \u001b[38;5;129;01mand\u001b[39;00m (\n\u001b[1;32m   (...)\u001b[0m\n\u001b[0;32m   1428\u001b[0m     )\n\u001b[0;32m   1429\u001b[0m )\n\u001b[0;32m   1430\u001b[0m \u001b[38;5;28;01mif\u001b[39;00m ovr:\n\u001b[1;32m-> 1431\u001b[0m     \u001b[38;5;28;01mreturn\u001b[39;00m \u001b[38;5;28;43msuper\u001b[39;49m\u001b[43m(\u001b[49m\u001b[43m)\u001b[49m\u001b[38;5;241;43m.\u001b[39;49m\u001b[43m_predict_proba_lr\u001b[49m\u001b[43m(\u001b[49m\u001b[43mX\u001b[49m\u001b[43m)\u001b[49m\n\u001b[0;32m   1432\u001b[0m \u001b[38;5;28;01melse\u001b[39;00m:\n\u001b[0;32m   1433\u001b[0m     decision \u001b[38;5;241m=\u001b[39m \u001b[38;5;28mself\u001b[39m\u001b[38;5;241m.\u001b[39mdecision_function(X)\n",
      "File \u001b[1;32mc:\\Users\\s1248850\\AppData\\Local\\anaconda3\\envs\\Rosario\\Lib\\site-packages\\sklearn\\linear_model\\_base.py:397\u001b[0m, in \u001b[0;36mLinearClassifierMixin._predict_proba_lr\u001b[1;34m(self, X)\u001b[0m\n\u001b[0;32m    390\u001b[0m \u001b[38;5;28;01mdef\u001b[39;00m \u001b[38;5;21m_predict_proba_lr\u001b[39m(\u001b[38;5;28mself\u001b[39m, X):\n\u001b[0;32m    391\u001b[0m \u001b[38;5;250m    \u001b[39m\u001b[38;5;124;03m\"\"\"Probability estimation for OvR logistic regression.\u001b[39;00m\n\u001b[0;32m    392\u001b[0m \n\u001b[0;32m    393\u001b[0m \u001b[38;5;124;03m    Positive class probabilities are computed as\u001b[39;00m\n\u001b[0;32m    394\u001b[0m \u001b[38;5;124;03m    1. / (1. + np.exp(-self.decision_function(X)));\u001b[39;00m\n\u001b[0;32m    395\u001b[0m \u001b[38;5;124;03m    multiclass is handled by normalizing that over all classes.\u001b[39;00m\n\u001b[0;32m    396\u001b[0m \u001b[38;5;124;03m    \"\"\"\u001b[39;00m\n\u001b[1;32m--> 397\u001b[0m     prob \u001b[38;5;241m=\u001b[39m \u001b[38;5;28;43mself\u001b[39;49m\u001b[38;5;241;43m.\u001b[39;49m\u001b[43mdecision_function\u001b[49m\u001b[43m(\u001b[49m\u001b[43mX\u001b[49m\u001b[43m)\u001b[49m\n\u001b[0;32m    398\u001b[0m     expit(prob, out\u001b[38;5;241m=\u001b[39mprob)\n\u001b[0;32m    399\u001b[0m     \u001b[38;5;28;01mif\u001b[39;00m prob\u001b[38;5;241m.\u001b[39mndim \u001b[38;5;241m==\u001b[39m \u001b[38;5;241m1\u001b[39m:\n",
      "File \u001b[1;32mc:\\Users\\s1248850\\AppData\\Local\\anaconda3\\envs\\Rosario\\Lib\\site-packages\\sklearn\\linear_model\\_base.py:364\u001b[0m, in \u001b[0;36mLinearClassifierMixin.decision_function\u001b[1;34m(self, X)\u001b[0m\n\u001b[0;32m    361\u001b[0m xp, _ \u001b[38;5;241m=\u001b[39m get_namespace(X)\n\u001b[0;32m    363\u001b[0m X \u001b[38;5;241m=\u001b[39m \u001b[38;5;28mself\u001b[39m\u001b[38;5;241m.\u001b[39m_validate_data(X, accept_sparse\u001b[38;5;241m=\u001b[39m\u001b[38;5;124m\"\u001b[39m\u001b[38;5;124mcsr\u001b[39m\u001b[38;5;124m\"\u001b[39m, reset\u001b[38;5;241m=\u001b[39m\u001b[38;5;28;01mFalse\u001b[39;00m)\n\u001b[1;32m--> 364\u001b[0m scores \u001b[38;5;241m=\u001b[39m \u001b[43msafe_sparse_dot\u001b[49m\u001b[43m(\u001b[49m\u001b[43mX\u001b[49m\u001b[43m,\u001b[49m\u001b[43m \u001b[49m\u001b[38;5;28;43mself\u001b[39;49m\u001b[38;5;241;43m.\u001b[39;49m\u001b[43mcoef_\u001b[49m\u001b[38;5;241;43m.\u001b[39;49m\u001b[43mT\u001b[49m\u001b[43m,\u001b[49m\u001b[43m \u001b[49m\u001b[43mdense_output\u001b[49m\u001b[38;5;241;43m=\u001b[39;49m\u001b[38;5;28;43;01mTrue\u001b[39;49;00m\u001b[43m)\u001b[49m \u001b[38;5;241m+\u001b[39m \u001b[38;5;28mself\u001b[39m\u001b[38;5;241m.\u001b[39mintercept_\n\u001b[0;32m    365\u001b[0m \u001b[38;5;28;01mreturn\u001b[39;00m xp\u001b[38;5;241m.\u001b[39mreshape(scores, (\u001b[38;5;241m-\u001b[39m\u001b[38;5;241m1\u001b[39m,)) \u001b[38;5;28;01mif\u001b[39;00m scores\u001b[38;5;241m.\u001b[39mshape[\u001b[38;5;241m1\u001b[39m] \u001b[38;5;241m==\u001b[39m \u001b[38;5;241m1\u001b[39m \u001b[38;5;28;01melse\u001b[39;00m scores\n",
      "File \u001b[1;32mc:\\Users\\s1248850\\AppData\\Local\\anaconda3\\envs\\Rosario\\Lib\\site-packages\\sklearn\\utils\\extmath.py:205\u001b[0m, in \u001b[0;36msafe_sparse_dot\u001b[1;34m(a, b, dense_output)\u001b[0m\n\u001b[0;32m    203\u001b[0m         ret \u001b[38;5;241m=\u001b[39m np\u001b[38;5;241m.\u001b[39mdot(a, b)\n\u001b[0;32m    204\u001b[0m \u001b[38;5;28;01melse\u001b[39;00m:\n\u001b[1;32m--> 205\u001b[0m     ret \u001b[38;5;241m=\u001b[39m \u001b[43ma\u001b[49m\u001b[43m \u001b[49m\u001b[38;5;241;43m@\u001b[39;49m\u001b[43m \u001b[49m\u001b[43mb\u001b[49m\n\u001b[0;32m    207\u001b[0m \u001b[38;5;28;01mif\u001b[39;00m (\n\u001b[0;32m    208\u001b[0m     sparse\u001b[38;5;241m.\u001b[39missparse(a)\n\u001b[0;32m    209\u001b[0m     \u001b[38;5;129;01mand\u001b[39;00m sparse\u001b[38;5;241m.\u001b[39missparse(b)\n\u001b[0;32m    210\u001b[0m     \u001b[38;5;129;01mand\u001b[39;00m dense_output\n\u001b[0;32m    211\u001b[0m     \u001b[38;5;129;01mand\u001b[39;00m \u001b[38;5;28mhasattr\u001b[39m(ret, \u001b[38;5;124m\"\u001b[39m\u001b[38;5;124mtoarray\u001b[39m\u001b[38;5;124m\"\u001b[39m)\n\u001b[0;32m    212\u001b[0m ):\n\u001b[0;32m    213\u001b[0m     \u001b[38;5;28;01mreturn\u001b[39;00m ret\u001b[38;5;241m.\u001b[39mtoarray()\n",
      "\u001b[1;31mTypeError\u001b[0m: can't multiply sequence by non-int of type 'float'"
     ]
    }
   ],
   "source": [
    "# Primero realizamos la regresión logística para el 2004 con RIDGE\n",
    "# Ajustamos el clasificador con el metodo fit() \n",
    "from sklearn.linear_model import LogisticRegression\n",
    "from sklearn.metrics import confusion_matrix\n",
    "from sklearn.metrics import accuracy_score, recall_score \n",
    "from sklearn.metrics import roc_curve\n",
    "from sklearn.metrics import roc_auc_score\n",
    "from sklearn.metrics import RocCurveDisplay\n",
    "#from sklearn.metrics import plot_roc_curve\n",
    "from sklearn.discriminant_analysis import LinearDiscriminantAnalysis\n",
    "from sklearn.neighbors import KNeighborsClassifier\n",
    "log_reg_2004 = LogisticRegression(penalty = \"l2\", C=1.0, solver = \"liblinear\").fit(X_train_2004, y_train_2004)\n",
    "\n",
    "# Y predecimos la variable dependiente para el 2004\n",
    "y_test_pred_score_2004 = log_reg_2004.predict_proba(X_test_2004)[:,1]\n",
    "y_test_pred_2004 = log_reg_2004.predict(X_test_2004)\n",
    "\n",
    "# Calculamos la matriz de confusión\n",
    "conf_matrix_log_2004 = confusion_matrix(y_test_2004, y_test_pred_2004)\n",
    "\n",
    "# Calculamos AUC y ROC\n",
    "auc_log_2004 = roc_auc_score(y_test_2004, y_test_pred_score_2004)\n",
    "print('AUC de la regresión logística para los datos del 2004: %.4f' % auc_log_2004)\n",
    "fpr_log_2004, tpr_log_2004, thresholds_log_2004 = roc_curve(y_test_2004, y_test_pred_score_2004, drop_intermediate=False)  # drop_intermediate=False nos da mas thresholds ('c') para probar\n",
    "print('Thresholds:', thresholds_log_2004)\n",
    "print('FPR:', fpr_log_2004)\n",
    "print('TPR:', tpr_log_2004)"
   ]
  },
  {
   "cell_type": "markdown",
   "metadata": {},
   "source": [
    "Ahora hago todo para 2024\n"
   ]
  },
  {
   "cell_type": "code",
   "execution_count": 246,
   "metadata": {},
   "outputs": [
    {
     "name": "stdout",
     "output_type": "stream",
     "text": [
      "Alpha: 1\n",
      "Error cuadrático medio:  0.04203094769305837\n",
      "Coeficientes del modelo:\n",
      "codusu       0.000000\n",
      "nro_hogar   -0.000205\n",
      "ano4_x       0.000000\n",
      "ch04         0.004423\n",
      "ch06        -0.017065\n",
      "ch07        -0.005631\n",
      "ch08         0.021256\n",
      "nivel_ed     0.009760\n",
      "estado       0.082244\n",
      "cat_inac    -0.106298\n",
      "ipcf        -0.015228\n",
      "ano4_y       0.000000\n",
      "itf          0.005917\n",
      "ix_men10    -0.021844\n",
      "v4          -0.006929\n",
      "ix_tot       0.019639\n",
      "v5           0.003989\n",
      "ii7          0.007601\n",
      "Año          0.000000\n",
      "dtype: float64\n"
     ]
    }
   ],
   "source": [
    "# Ridge para 2024\n",
    "# prueba con alpha = 1\n",
    "alpha = 1\n",
    "print(\"Alpha:\", alpha)\n",
    "\n",
    "l2 = Ridge(alpha = alpha)\n",
    "l2.fit(X_train_2024_transformed, y_train_2024)             \n",
    "L2_pred_2024 = l2.predict(X_test_2024_transformed)\n",
    "ecm_a1_2024 = mean_squared_error(y_test_2024, L2_pred_2024)\n",
    "\n",
    "print(\"Error cuadrático medio: \", ecm_a1_2024)   \n",
    "print(\"Coeficientes del modelo:\")\n",
    "print(pd.Series(l2.coef_, index = X_train_2024_transformed.columns)) "
   ]
  },
  {
   "cell_type": "code",
   "execution_count": 249,
   "metadata": {},
   "outputs": [
    {
     "name": "stdout",
     "output_type": "stream",
     "text": [
      "Alpha óptimo: 0.005\n",
      "Error cuadrático medio:  0.04331493894984017\n",
      "Coeficientes del mejor modelo:\n",
      "El modelo final cuenta con: 7 features\n"
     ]
    },
    {
     "data": {
      "text/html": [
       "<div>\n",
       "<style scoped>\n",
       "    .dataframe tbody tr th:only-of-type {\n",
       "        vertical-align: middle;\n",
       "    }\n",
       "\n",
       "    .dataframe tbody tr th {\n",
       "        vertical-align: top;\n",
       "    }\n",
       "\n",
       "    .dataframe thead th {\n",
       "        text-align: right;\n",
       "    }\n",
       "</style>\n",
       "<table border=\"1\" class=\"dataframe\">\n",
       "  <thead>\n",
       "    <tr style=\"text-align: right;\">\n",
       "      <th></th>\n",
       "      <th>feature</th>\n",
       "      <th>coeficiente</th>\n",
       "    </tr>\n",
       "  </thead>\n",
       "  <tbody>\n",
       "    <tr>\n",
       "      <th>0</th>\n",
       "      <td>codusu</td>\n",
       "      <td>0.0</td>\n",
       "    </tr>\n",
       "    <tr>\n",
       "      <th>1</th>\n",
       "      <td>nro_hogar</td>\n",
       "      <td>-0.0</td>\n",
       "    </tr>\n",
       "    <tr>\n",
       "      <th>2</th>\n",
       "      <td>ano4_x</td>\n",
       "      <td>0.0</td>\n",
       "    </tr>\n",
       "    <tr>\n",
       "      <th>3</th>\n",
       "      <td>ch04</td>\n",
       "      <td>0.0</td>\n",
       "    </tr>\n",
       "    <tr>\n",
       "      <th>4</th>\n",
       "      <td>ch06</td>\n",
       "      <td>-0.007757</td>\n",
       "    </tr>\n",
       "    <tr>\n",
       "      <th>5</th>\n",
       "      <td>ch07</td>\n",
       "      <td>0.0</td>\n",
       "    </tr>\n",
       "    <tr>\n",
       "      <th>6</th>\n",
       "      <td>ch08</td>\n",
       "      <td>0.015707</td>\n",
       "    </tr>\n",
       "    <tr>\n",
       "      <th>7</th>\n",
       "      <td>nivel_ed</td>\n",
       "      <td>0.0</td>\n",
       "    </tr>\n",
       "    <tr>\n",
       "      <th>8</th>\n",
       "      <td>estado</td>\n",
       "      <td>0.043738</td>\n",
       "    </tr>\n",
       "    <tr>\n",
       "      <th>9</th>\n",
       "      <td>cat_inac</td>\n",
       "      <td>-0.069691</td>\n",
       "    </tr>\n",
       "    <tr>\n",
       "      <th>10</th>\n",
       "      <td>ipcf</td>\n",
       "      <td>-0.00447</td>\n",
       "    </tr>\n",
       "    <tr>\n",
       "      <th>11</th>\n",
       "      <td>ano4_y</td>\n",
       "      <td>0.0</td>\n",
       "    </tr>\n",
       "    <tr>\n",
       "      <th>12</th>\n",
       "      <td>itf</td>\n",
       "      <td>-0.0</td>\n",
       "    </tr>\n",
       "    <tr>\n",
       "      <th>13</th>\n",
       "      <td>ix_men10</td>\n",
       "      <td>-0.0</td>\n",
       "    </tr>\n",
       "    <tr>\n",
       "      <th>14</th>\n",
       "      <td>v4</td>\n",
       "      <td>-0.0</td>\n",
       "    </tr>\n",
       "    <tr>\n",
       "      <th>15</th>\n",
       "      <td>ix_tot</td>\n",
       "      <td>0.001375</td>\n",
       "    </tr>\n",
       "    <tr>\n",
       "      <th>16</th>\n",
       "      <td>v5</td>\n",
       "      <td>-0.0</td>\n",
       "    </tr>\n",
       "    <tr>\n",
       "      <th>17</th>\n",
       "      <td>ii7</td>\n",
       "      <td>0.00094</td>\n",
       "    </tr>\n",
       "    <tr>\n",
       "      <th>18</th>\n",
       "      <td>Año</td>\n",
       "      <td>0.0</td>\n",
       "    </tr>\n",
       "  </tbody>\n",
       "</table>\n",
       "</div>"
      ],
      "text/plain": [
       "      feature coeficiente\n",
       "0      codusu         0.0\n",
       "1   nro_hogar        -0.0\n",
       "2      ano4_x         0.0\n",
       "3        ch04         0.0\n",
       "4        ch06   -0.007757\n",
       "5        ch07         0.0\n",
       "6        ch08    0.015707\n",
       "7    nivel_ed         0.0\n",
       "8      estado    0.043738\n",
       "9    cat_inac   -0.069691\n",
       "10       ipcf    -0.00447\n",
       "11     ano4_y         0.0\n",
       "12        itf        -0.0\n",
       "13   ix_men10        -0.0\n",
       "14         v4        -0.0\n",
       "15     ix_tot    0.001375\n",
       "16         v5        -0.0\n",
       "17        ii7     0.00094\n",
       "18        Año         0.0"
      ]
     },
     "execution_count": 249,
     "metadata": {},
     "output_type": "execute_result"
    }
   ],
   "source": [
    "#hago lasso con cv para 2024\n",
    "lassocv = LassoCV(alphas=alphas, cv=5, max_iter=100000, random_state=100)\n",
    "lassocv.fit(X_train_2024_transformed, y_train_2024)\n",
    "print(\"Alpha óptimo:\", lassocv.alpha_)\n",
    "\n",
    "# Ahora estimamos nuevamente el modelo con el alpha (lambda) óptimo\n",
    "l1 = Lasso(alpha=lassocv.alpha_)\n",
    "l1.fit(X_train_2024_transformed, y_train_2024)\n",
    "L1_pred_2024 = l1.predict(X_test_2024_transformed)\n",
    "\n",
    "print(\"Error cuadrático medio: \", mean_squared_error(y_test_2024, L1_pred_2024))\n",
    "print(\"Coeficientes del mejor modelo:\")\n",
    "pd.Series(l1.coef_, index=X_train_2024_transformed.columns)\n",
    "\n",
    "# Para guardarlo en un dataframe...\n",
    "coeficientes_finales = pd.DataFrame([np.array(X_train_2024_transformed.columns.tolist()),l1.coef_]).T\n",
    "coeficientes_finales.columns = ['feature','coeficiente']\n",
    "print(f\"El modelo final cuenta con: {coeficientes_finales[coeficientes_finales['coeficiente']!=0].shape[0]}\",'features' )\n",
    "coeficientes_finales"
   ]
  },
  {
   "cell_type": "code",
   "execution_count": 250,
   "metadata": {},
   "outputs": [
    {
     "name": "stdout",
     "output_type": "stream",
     "text": [
      "ECM de 2024\n",
      "Error cuadrático medio con Ridge:  0.04203094769305837\n",
      "Error cuadrático medio con Lasso:  0.04331493894984017\n"
     ]
    }
   ],
   "source": [
    "print(\"ECM de 2024\")\n",
    "print(\"Error cuadrático medio con Ridge: \", mean_squared_error(y_test_2024, L2_pred_2024))\n",
    "print(\"Error cuadrático medio con Lasso: \", mean_squared_error(y_test_2024, L1_pred_2024))"
   ]
  },
  {
   "cell_type": "markdown",
   "metadata": {},
   "source": [
    "Ahora hago las regresiones logisticas para 2024"
   ]
  },
  {
   "cell_type": "code",
   "execution_count": 253,
   "metadata": {},
   "outputs": [],
   "source": [
    "from sklearn.metrics import confusion_matrix\n",
    "from sklearn.metrics import accuracy_score, recall_score \n",
    "from sklearn.metrics import roc_curve\n",
    "from sklearn.metrics import roc_auc_score\n",
    "from sklearn.metrics import RocCurveDisplay"
   ]
  },
  {
   "cell_type": "code",
   "execution_count": 255,
   "metadata": {},
   "outputs": [
    {
     "name": "stdout",
     "output_type": "stream",
     "text": [
      "AUC de la regresión logística para los datos del 2004: 0.5468\n",
      "Thresholds: [       inf 0.0734976  0.07349253 ... 0.00032395 0.00020348 0.00001025]\n",
      "FPR: [0.         0.00050125 0.00100251 ... 0.99899749 0.99949875 1.        ]\n",
      "TPR: [0. 0. 0. ... 1. 1. 1.]\n"
     ]
    }
   ],
   "source": [
    "# Primero realizamos la regresión logística para el 2024 con RIDGE\n",
    "log_reg_2024 = LogisticRegression(penalty = \"l2\", C=1.0, solver = \"liblinear\").fit(X_train_2024, y_train_2024)\n",
    "\n",
    "# Y predecimos la variable dependiente para el 2024\n",
    "y_test_pred_score_2024 = log_reg_2024.predict_proba(X_test_2024)[:,1]\n",
    "y_test_pred_2024 = log_reg_2024.predict(X_test_2024)\n",
    "\n",
    "# Calculamos la matriz de confusión\n",
    "conf_matrix_log_2024 = confusion_matrix(y_test_2024, y_test_pred_2024)\n",
    "\n",
    "# Calculamos AUC y ROC\n",
    "auc_log_2024 = roc_auc_score(y_test_2024, y_test_pred_score_2024)\n",
    "print('AUC de la regresión logística para los datos del 2004: %.4f' % auc_log_2024)\n",
    "fpr_log_2024, tpr_log_2024, thresholds_log_2024 = roc_curve(y_test_2024, y_test_pred_score_2024, drop_intermediate=False)  # drop_intermediate=False nos da mas thresholds ('c') para probar\n",
    "print('Thresholds:', thresholds_log_2024)\n",
    "print('FPR:', fpr_log_2024)\n",
    "print('TPR:', tpr_log_2024)"
   ]
  },
  {
   "cell_type": "code",
   "execution_count": null,
   "metadata": {},
   "outputs": [],
   "source": []
  }
 ],
 "metadata": {
  "kernelspec": {
   "display_name": "TereL",
   "language": "python",
   "name": "python3"
  },
  "language_info": {
   "codemirror_mode": {
    "name": "ipython",
    "version": 3
   },
   "file_extension": ".py",
   "mimetype": "text/x-python",
   "name": "python",
   "nbconvert_exporter": "python",
   "pygments_lexer": "ipython3",
   "version": "3.12.5"
  }
 },
 "nbformat": 4,
 "nbformat_minor": 2
}
